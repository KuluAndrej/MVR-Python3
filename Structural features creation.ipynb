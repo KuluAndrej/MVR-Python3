{
 "cells": [
  {
   "cell_type": "code",
   "execution_count": 1,
   "metadata": {
    "collapsed": false
   },
   "outputs": [],
   "source": [
    "import os, os.path, re\n",
    "import numpy as np\n",
    "from sklearn.preprocessing import normalize, scale, MinMaxScaler\n",
    "from collections import Counter\n",
    "from sys import getsizeof\n",
    "import time\n",
    "from sklearn.cluster import *"
   ]
  },
  {
   "cell_type": "markdown",
   "metadata": {},
   "source": [
    "** Data preprocessing **\n",
    "\n",
    "Extract filenames and reorder it numerically."
   ]
  },
  {
   "cell_type": "code",
   "execution_count": 57,
   "metadata": {
    "collapsed": false
   },
   "outputs": [],
   "source": [
    "files_path = 'collected_models2/'\n",
    "ts_labels = ['chest_volume', 'heart_rate', 'oxygen_concentration']\n",
    "ts_labels = sorted(ts_labels)\n",
    "\n",
    "number_ts_pieces = len(os.listdir(files_path)) / len(ts_labels)\n",
    "# if the number is not divided \n",
    "if abs(number_ts_pieces - round(number_ts_pieces)) > 0:\n",
    "    print('ERROR: invalid number of files in ', files_path)\n",
    "else:\n",
    "    number_ts_pieces = int(number_ts_pieces)    \n",
    "\n",
    "def atoi(text):\n",
    "    return int(text) if text.isdigit() else text\n",
    "def natural_keys(text):    \n",
    "    return [ atoi(c) for c in re.split('(\\d+)', text) ]\n",
    "\n",
    "file_names = sorted(os.listdir(files_path), key=natural_keys)"
   ]
  },
  {
   "cell_type": "markdown",
   "metadata": {},
   "source": [
    "** Extract models from files **\n",
    "\n",
    "After the extraction we preprocess them. Eliminate parameters and refactor the variable"
   ]
  },
  {
   "cell_type": "code",
   "execution_count": 65,
   "metadata": {
    "collapsed": false
   },
   "outputs": [],
   "source": [
    "def get_models_from_file(number_of_file, type_of_ts):\n",
    "    index_of_ts = ts_labels.index(type_of_ts)\n",
    "    file_name = file_names[number_ts_pieces * index_of_ts + number_of_file]        \n",
    "    file_opened = open(files_path + file_name, 'r')\n",
    "    \n",
    "    func_and_params_names = file_opened.readlines()\n",
    "    models = []\n",
    "    for entity in func_and_params_names:          \n",
    "        entity = entity.split(' ')[-1]\n",
    "        models.append(entity)\n",
    "        models[-1] = models[-1].strip()                    \n",
    "        models[-1] = re.sub(r'X\\[(\\d+)\\]', r'x\\1', models[-1])    \n",
    "    return models"
   ]
  },
  {
   "cell_type": "markdown",
   "metadata": {},
   "source": [
    "Write functions responsible for conversion of a string-handle to a tree matrix and codings."
   ]
  },
  {
   "cell_type": "code",
   "execution_count": 66,
   "metadata": {
    "collapsed": false
   },
   "outputs": [],
   "source": [
    "def find_number_of_tokens(handle):    \n",
    "    counter_tokens = 0\n",
    "    counter_variables = 0\n",
    "\n",
    "    for i in range(len(handle)):\n",
    "        if handle[i] == '_': \n",
    "            counter_tokens += 1\n",
    "        elif i < len(handle)-1 and handle[i] == 'x' and handle[i+1].isdigit():\n",
    "            counter_variables += 1;\n",
    "\n",
    "    return (counter_tokens, counter_variables)"
   ]
  },
  {
   "cell_type": "code",
   "execution_count": 67,
   "metadata": {
    "collapsed": false
   },
   "outputs": [],
   "source": [
    "def create_map_tokens_params():\n",
    "    file_opened = open('data/numbParam.txt', 'r')\n",
    "    primitives_lines = file_opened.readlines()\n",
    "    tokens_codes = {line.split()[0] : int(ind) for ind,line in enumerate(primitives_lines)}    \n",
    "    tokens_params = {line.split()[0] : int(line.split()[1]) for line in primitives_lines}    \n",
    "    return (tokens_codes, tokens_params)"
   ]
  },
  {
   "cell_type": "code",
   "execution_count": 68,
   "metadata": {
    "collapsed": false
   },
   "outputs": [],
   "source": [
    "def dfs_search_on_handle(handle):\n",
    "    counters = find_number_of_tokens(handle)\n",
    "    number_tokens = counters[0] + counters[1]\n",
    "    \n",
    "    waiting_tokens = []\n",
    "    encodings = np.zeros(number_tokens, dtype = int)        \n",
    "    current_token, left, right = 0, 0, 0\n",
    "    is_a_token_processed_now = False    \n",
    "    \n",
    "    map_tokens_params = create_map_tokens_params()[0]\n",
    "    \n",
    "    for right in range(len(handle)):\n",
    "        if handle[right] == '_':\n",
    "            # the root is detected\n",
    "            waiting_tokens.append(current_token)\n",
    "            token = handle[left:right + 1]\n",
    "            encodings[current_token] = map_tokens_params[token]\n",
    "            right += 1\n",
    "            break;  \n",
    "    \n",
    "    matr = [[] for i in range(number_tokens)]            \n",
    "    \n",
    "    # now process the remaining vertices\n",
    "    reserved_right = right\n",
    "    for right in np.arange(right, len(handle)):\n",
    "        if handle[right] == ')':\n",
    "            waiting_tokens.pop()        \n",
    "    \n",
    "        if not is_a_token_processed_now and handle[right].isalpha():\n",
    "            is_a_token_processed_now = True\n",
    "            left = right\n",
    "    \n",
    "        # if a token is found\n",
    "        if handle[right] == '_':\n",
    "            # new token is detected\n",
    "            current_token += 1\n",
    "            matr[waiting_tokens[-1]].append(current_token)\n",
    "            waiting_tokens.append(current_token)\n",
    "            token = handle[left:right + 1]\n",
    "            encodings[current_token] = map_tokens_params[token]\n",
    "            is_a_token_processed_now = False      \n",
    "        \n",
    "        # if a variable is found\n",
    "        if right < len(handle)-1 and handle[right] == 'x' and handle[right+1].isdigit():\n",
    "            # new variable is detected\n",
    "            current_token += 1\n",
    "            matr[waiting_tokens[-1]].append(current_token)\n",
    "            while right < len(handle)-1 and handle[right] == 'x' and handle[right+1].isdigit():\n",
    "                right += 1\n",
    "            token = handle[left:right + 1]\n",
    "            encodings[current_token] = map_tokens_params[token]\n",
    "            is_a_token_processed_now = False            \n",
    "    \n",
    "    return (matr, encodings)"
   ]
  },
  {
   "cell_type": "code",
   "execution_count": 69,
   "metadata": {
    "collapsed": false
   },
   "outputs": [],
   "source": [
    "def incidence_to_adjacency(incidence):\n",
    "    size_of_mat = len(incidence[0])\n",
    "    adjacency = np.zeros((size_of_mat, size_of_mat))    \n",
    "    for ind, row in enumerate(incidence[0]):\n",
    "        adjacency[ind][row] = 1\n",
    "    return adjacency"
   ]
  },
  {
   "cell_type": "markdown",
   "metadata": {},
   "source": [
    "** Collect primitive structural features from a population of models**"
   ]
  },
  {
   "cell_type": "code",
   "execution_count": 106,
   "metadata": {
    "collapsed": true
   },
   "outputs": [],
   "source": [
    "def get_simple_features_from_ts(number_of_file, type_of_ts, tokens_codes):\n",
    "    models = get_models_from_file(number_of_file, type_of_ts)\n",
    "    \n",
    "    primitive_frequences = np.zeros(len(tokens_codes) + 1)\n",
    "    lower_bound_code_variables = tokens_codes['x0']\n",
    "\n",
    "    for model in models:\n",
    "        matr, encodings = dfs_search_on_handle(model)\n",
    "        model_primitive_frequences = Counter(encodings)\n",
    "        for key in model_primitive_frequences:\n",
    "            primitive_frequences[key] += model_primitive_frequences[key]\n",
    "        primitive_frequences[-1] += len(encodings)\n",
    "    primitive_frequences[-1] = primitive_frequences[-1] / len(models)\n",
    "    #return normalize(primitive_frequences.reshape(-1,1), axis=0)\n",
    "    #return primitive_frequences.reshape(-1,1)\n",
    "    \n",
    "    return scale(primitive_frequences.reshape(-1,1), axis=0)"
   ]
  },
  {
   "cell_type": "code",
   "execution_count": 113,
   "metadata": {
    "collapsed": false
   },
   "outputs": [],
   "source": [
    "tokens_codes, _ = create_map_tokens_params()\n",
    "feature_matrices_of_ts = {label : np.zeros((len(tokens_codes) + 1, number_ts_pieces)) for label in ts_labels}\n",
    "\n",
    "for label in ts_labels:\n",
    "    for index in range(number_ts_pieces):        \n",
    "        feature_matrices_of_ts[label][:,index] = get_simple_features_from_ts(index, label, tokens_codes)[:,0]\n",
    "        \n",
    "#feature_matrices_of_ts = {label : scale(feature_matrices_of_ts[label].T) for label in ts_labels}        \n",
    "feature_matrices_of_ts = {label : feature_matrices_of_ts[label].T for label in ts_labels}        "
   ]
  },
  {
   "cell_type": "code",
   "execution_count": 114,
   "metadata": {
    "collapsed": false
   },
   "outputs": [],
   "source": [
    "unite_feature_matrix = np.vstack((feature_matrices_of_ts[label] for label in ts_labels))"
   ]
  },
  {
   "cell_type": "markdown",
   "metadata": {},
   "source": [
    "** Now perform two-class classification **"
   ]
  },
  {
   "cell_type": "code",
   "execution_count": 115,
   "metadata": {
    "collapsed": false
   },
   "outputs": [
    {
     "data": {
      "text/plain": [
       "(1020, 37)"
      ]
     },
     "execution_count": 115,
     "metadata": {},
     "output_type": "execute_result"
    }
   ],
   "source": [
    "unite_feature_matrix.shape"
   ]
  },
  {
   "cell_type": "code",
   "execution_count": 153,
   "metadata": {
    "collapsed": false
   },
   "outputs": [],
   "source": [
    "ts_labels = ['chest_volume', 'heart_rate', 'oxygen_concentration']\n",
    "which_label_is_positive = ts_labels[0]\n",
    "\n",
    "target_vector = np.zeros((unite_feature_matrix.shape[0],1))\n",
    "ts_labels_in_order_from_dictionary = [label for label in feature_matrices_of_ts]\n",
    "index_of_label_positive = ts_labels_in_order_from_dictionary.index(which_label_is_positive)\n",
    "all_inidices_of_samples = np.arange(target_vector.shape[0])\n",
    "positive_indices_samples = number_ts_pieces * index_of_label_positive + np.arange(number_ts_pieces)\n",
    "negative_positive_samples = [ind for ind in all_inidices_of_samples if not ind in positive_indices_samples]\n",
    "target_vector[number_ts_pieces * index_of_label_positive:number_ts_pieces * (index_of_label_positive + 1)] = np.ones((number_ts_pieces,1))\n",
    "backup_target = target_vector"
   ]
  },
  {
   "cell_type": "markdown",
   "metadata": {},
   "source": [
    "Divide set of samples on training and test."
   ]
  },
  {
   "cell_type": "code",
   "execution_count": 154,
   "metadata": {
    "collapsed": false
   },
   "outputs": [],
   "source": [
    "fraction_of_test_samples = 0.3\n",
    "\n",
    "indices_of_test_sample = np.random.choice([True, False], len(all_inidices_of_samples), p = [fraction_of_test_samples, 1 - fraction_of_test_samples])\n",
    "target_vector = 2* backup_target - 1 \n",
    "train_matrix = unite_feature_matrix[~indices_of_test_sample,:]\n",
    "test_matrix = unite_feature_matrix[indices_of_test_sample,:]\n",
    "train_target = target_vector[~indices_of_test_sample].reshape(sum(~indices_of_test_sample),)\n",
    "test_target = target_vector[indices_of_test_sample].reshape(sum(indices_of_test_sample),)"
   ]
  },
  {
   "cell_type": "code",
   "execution_count": 155,
   "metadata": {
    "collapsed": false
   },
   "outputs": [
    {
     "data": {
      "text/plain": [
       "array([-1.])"
      ]
     },
     "execution_count": 155,
     "metadata": {},
     "output_type": "execute_result"
    }
   ],
   "source": [
    "target_vector[number_ts_pieces + 5]"
   ]
  },
  {
   "cell_type": "code",
   "execution_count": 156,
   "metadata": {
    "collapsed": false
   },
   "outputs": [
    {
     "name": "stdout",
     "output_type": "stream",
     "text": [
      "[89 92]\n",
      "error =  0.0647249190939\n",
      "error on positive =  0.0\n",
      "error on negative =  0.0995024875622\n"
     ]
    }
   ],
   "source": [
    "from sklearn.svm import SVC\n",
    "clf = SVC(kernel='linear')\n",
    "clf.fit(train_matrix, train_target) \n",
    "print(clf.n_support_)\n",
    "predictions = clf.predict(test_matrix)\n",
    "#print(\"predictions: \", predictions)\n",
    "errors = predictions != test_target\n",
    "print(\"error = \", sum(errors) / len(errors))\n",
    "print(\"error on positive = \", sum(errors[test_target == max(test_target)]) / len(errors[test_target == max(test_target)]))\n",
    "print(\"error on negative = \", sum(errors[test_target == min(test_target)]) / len(errors[test_target == min(test_target)]))"
   ]
  },
  {
   "cell_type": "code",
   "execution_count": 139,
   "metadata": {
    "collapsed": false
   },
   "outputs": [
    {
     "name": "stdout",
     "output_type": "stream",
     "text": [
      "[90 90]\n",
      "error =  0.0591630591631\n",
      "error on positive =  0.0\n",
      "error on negative =  0.0889370932755\n"
     ]
    }
   ],
   "source": [
    "from sklearn.svm import SVC\n",
    "clf = SVC(kernel='linear')\n",
    "clf.fit(train_matrix, train_target) \n",
    "print(clf.n_support_)\n",
    "predictions = clf.predict(train_matrix)\n",
    "errors = predictions != train_target\n",
    "print(\"error = \", sum(errors) / len(errors))\n",
    "print(\"error on positive = \", sum(errors[train_target == max(train_target)]) / len(errors[train_target == max(train_target)]))\n",
    "print(\"error on negative = \", sum(errors[train_target == min(train_target)]) / len(errors[train_target == min(train_target)]))"
   ]
  },
  {
   "cell_type": "code",
   "execution_count": 86,
   "metadata": {
    "collapsed": false
   },
   "outputs": [
    {
     "name": "stdout",
     "output_type": "stream",
     "text": [
      "weights:  uniform\n",
      "error =  0.16\n",
      "error on positive =  0.29702970297\n",
      "error on negative =  0.0804597701149\n",
      "weights:  distance\n",
      "error =  0.167272727273\n",
      "error on positive =  0.316831683168\n",
      "error on negative =  0.0804597701149\n"
     ]
    }
   ],
   "source": [
    "from sklearn import neighbors, datasets\n",
    "\n",
    "\n",
    "\n",
    "n_neighbors = 17\n",
    "for weights in ['uniform', 'distance']:\n",
    "    # we create an instance of Neighbours Classifier and fit the data.\n",
    "    clf = neighbors.KNeighborsClassifier(n_neighbors, weights=weights)\n",
    "    clf.fit(train_matrix, train_target)\n",
    "\n",
    "    predictions = clf.predict(np.c_[test_matrix])\n",
    "    print(\"weights: \", weights)\n",
    "    errors = predictions != test_target\n",
    "    print(\"error = \", sum(errors) / len(errors))\n",
    "    print(\"error on positive = \", sum(errors[test_target == max(test_target)]) / len(errors[test_target == max(test_target)]))\n",
    "    print(\"error on negative = \", sum(errors[test_target == min(test_target)]) / len(errors[test_target == min(test_target)]))\n"
   ]
  },
  {
   "cell_type": "code",
   "execution_count": 109,
   "metadata": {
    "collapsed": false
   },
   "outputs": [
    {
     "data": {
      "text/plain": [
       "(17, 0.2893772893772894)"
      ]
     },
     "execution_count": 109,
     "metadata": {},
     "output_type": "execute_result"
    }
   ],
   "source": [
    "from sklearn import neighbors, datasets\n",
    "\n",
    "\n",
    "\n",
    "h = .02  # step size in the mesh\n",
    "error = np.inf\n",
    "where_min = -1\n",
    "\n",
    "for n_neighbors in 1 + np.arange(30):\n",
    "    for weights in ['uniform', 'distance']:\n",
    "        # we create an instance of Neighbours Classifier and fit the data.\n",
    "        clf = neighbors.KNeighborsClassifier(n_neighbors, weights=weights)\n",
    "        clf.fit(train_matrix, train_target)\n",
    "\n",
    "        predictions = clf.predict(np.c_[test_matrix])\n",
    "        errors = predictions != test_target\n",
    "        if sum(errors) / len(errors) < error:\n",
    "            where_min = n_neighbors\n",
    "            error = sum(errors) / len(errors)\n",
    "            \n",
    "\n",
    "where_min, error"
   ]
  },
  {
   "cell_type": "code",
   "execution_count": 91,
   "metadata": {
    "collapsed": false
   },
   "outputs": [
    {
     "name": "stdout",
     "output_type": "stream",
     "text": [
      "[ 2.5 -1.5]\n",
      "[[ 2.5 -3.5]\n",
      " [-2.5  3.5]]\n",
      "[ 2.5  3.5]\n",
      "[[ 1. -1.]\n",
      " [-1.  1.]]\n"
     ]
    },
    {
     "data": {
      "text/plain": [
       "array([[ 1., -1.],\n",
       "       [-1.,  1.]])"
      ]
     },
     "execution_count": 91,
     "metadata": {},
     "output_type": "execute_result"
    }
   ],
   "source": [
    "from sklearn import preprocessing\n",
    "B = np.array([[5,-5],[0,2]])\n",
    "print(np.mean(B,axis=0))\n",
    "B = B-np.mean(B,axis=0)\n",
    "print(B)\n",
    "print(np.max(B,axis=0))\n",
    "print(np.divide(B,np.max(B,axis=0)))\n",
    "preprocessing.scale(B,axis = 0)"
   ]
  },
  {
   "cell_type": "markdown",
   "metadata": {},
   "source": [
    "** Collect DFS-code features **"
   ]
  },
  {
   "cell_type": "code",
   "execution_count": 87,
   "metadata": {
    "collapsed": true
   },
   "outputs": [],
   "source": [
    "def levenstein_string_distance(source, target):\n",
    "    if len(source) < len(target):\n",
    "        return levenshtein(target, source)\n",
    "\n",
    "    # So now we have len(source) >= len(target).\n",
    "    if len(target) == 0:\n",
    "        return len(source)\n",
    "\n",
    "    # We call tuple() to force strings to be used as sequences\n",
    "    # ('c', 'a', 't', 's') - numpy uses them as values by default.\n",
    "    source = np.array(tuple(source))\n",
    "    target = np.array(tuple(target))\n",
    "\n",
    "    # We use a dynamic programming algorithm, but with the\n",
    "    # added optimization that we only need the last two rows\n",
    "    # of the matrix.\n",
    "    previous_row = np.arange(target.size + 1)\n",
    "    for s in source:\n",
    "        # Insertion (target grows longer than source):\n",
    "        current_row = previous_row + 1\n",
    "\n",
    "        # Substitution or matching:\n",
    "        # Target and source items are aligned, and either\n",
    "        # are different (cost of 1), or are the same (cost of 0).\n",
    "        current_row[1:] = np.minimum(\n",
    "                current_row[1:],\n",
    "                np.add(previous_row[:-1], target != s))\n",
    "\n",
    "        # Deletion (target grows shorter than source):\n",
    "        current_row[1:] = np.minimum(\n",
    "                current_row[1:],\n",
    "                current_row[0:-1] + 1)\n",
    "\n",
    "        previous_row = current_row\n",
    "\n",
    "    return previous_row[-1]"
   ]
  },
  {
   "cell_type": "code",
   "execution_count": 88,
   "metadata": {
    "collapsed": false
   },
   "outputs": [],
   "source": [
    "def distance_between_populations(population_first, population_second):\n",
    "    len_first, len_second = len(population_first), len(population_second)\n",
    "    # calculate sum of distances for all pairs of models: one from first population, the other from second\n",
    "    cumulative_distance = 0\n",
    "    for model_from_first in population_first:\n",
    "        for model_from_second in population_second:\n",
    "            cumulative_distance = cumulative_distance + levenstein_string_distance(model_from_first, model_from_second)\n",
    "    cumulative_distance = cumulative_distance / (len_first * len_second)\n",
    "    return cumulative_distance"
   ]
  },
  {
   "cell_type": "code",
   "execution_count": 89,
   "metadata": {
    "collapsed": true
   },
   "outputs": [],
   "source": [
    "def get_simple_features_from_ts(number_of_file, type_of_ts, tokens_codes):\n",
    "    models = get_models_from_file(number_of_file, type_of_ts)\n",
    "    \n",
    "    primitive_frequences = np.zeros(len(tokens_codes))    \n",
    "\n",
    "    for model in models:\n",
    "        matr, encodings = dfs_search_on_handle(model)\n",
    "        primitive_frequences = encodings\n",
    "\n",
    "    return primitive_frequences.reshape(-1,1)\n",
    "    #return primitive_frequences.reshape(-1,1)"
   ]
  },
  {
   "cell_type": "code",
   "execution_count": 90,
   "metadata": {
    "collapsed": false
   },
   "outputs": [],
   "source": [
    "def create_matrix_of_codes_of_one_population(number_of_file, type_of_ts, tokens_codes):\n",
    "    codes = 'QWERTYUIOPASDFGHJKLZXCVBNM123456789/*-+=?!'\n",
    "    models = get_models_from_file(number_of_file, type_of_ts)\n",
    "    \n",
    "    matrix_representation = []    \n",
    "    for model in models:\n",
    "        matr, encodings = dfs_search_on_handle(model)\n",
    "        encodings = np.array(encodings)\n",
    "        if len(model) == 0:\n",
    "            break\n",
    "        matrix_representation.append(''.join(np.array(list(codes))[encodings]))\n",
    "\n",
    "    return matrix_representation\n",
    "    #return primitive_frequences.reshape(-1,1)"
   ]
  },
  {
   "cell_type": "code",
   "execution_count": 91,
   "metadata": {
    "collapsed": false
   },
   "outputs": [],
   "source": [
    "tokens_codes, _ = create_map_tokens_params()\n",
    "feature_matrices_of_ts = {label : [] for label in ts_labels}\n",
    "    \n",
    "for label in ts_labels:\n",
    "    for index in range(number_ts_pieces):\n",
    "        feature_matrices_of_ts[label].append(create_matrix_of_codes_of_one_population(index, label, tokens_codes))"
   ]
  },
  {
   "cell_type": "code",
   "execution_count": 92,
   "metadata": {
    "collapsed": false
   },
   "outputs": [
    {
     "name": "stdout",
     "output_type": "stream",
     "text": [
      "chest_volume chest_volume\n"
     ]
    },
    {
     "ename": "KeyboardInterrupt",
     "evalue": "",
     "output_type": "error",
     "traceback": [
      "\u001b[1;31m---------------------------------------------------------------------------\u001b[0m",
      "\u001b[1;31mKeyboardInterrupt\u001b[0m                         Traceback (most recent call last)",
      "\u001b[1;32m<ipython-input-92-e46360ff8ce1>\u001b[0m in \u001b[0;36m<module>\u001b[1;34m()\u001b[0m\n\u001b[0;32m     10\u001b[0m                 \u001b[0mindex_first\u001b[0m \u001b[1;33m=\u001b[0m \u001b[0mind_label_f\u001b[0m \u001b[1;33m*\u001b[0m \u001b[0mnumber_ts_pieces\u001b[0m \u001b[1;33m+\u001b[0m \u001b[0mind_population_f\u001b[0m\u001b[1;33m\u001b[0m\u001b[0m\n\u001b[0;32m     11\u001b[0m                 \u001b[0mindex_second\u001b[0m \u001b[1;33m=\u001b[0m \u001b[0mind_label_s\u001b[0m \u001b[1;33m*\u001b[0m \u001b[0mnumber_ts_pieces\u001b[0m \u001b[1;33m+\u001b[0m \u001b[0mind_population_s\u001b[0m\u001b[1;33m\u001b[0m\u001b[0m\n\u001b[1;32m---> 12\u001b[1;33m                 \u001b[0mdistances_between_segments\u001b[0m\u001b[1;33m[\u001b[0m\u001b[0mindex_first\u001b[0m\u001b[1;33m]\u001b[0m\u001b[1;33m[\u001b[0m\u001b[0mindex_second\u001b[0m\u001b[1;33m]\u001b[0m \u001b[1;33m=\u001b[0m \u001b[0mdistance_between_populations\u001b[0m\u001b[1;33m(\u001b[0m\u001b[0mpopulation_f\u001b[0m\u001b[1;33m[\u001b[0m\u001b[1;36m0\u001b[0m\u001b[1;33m]\u001b[0m\u001b[1;33m,\u001b[0m \u001b[0mpopulation_s\u001b[0m\u001b[1;33m[\u001b[0m\u001b[1;36m0\u001b[0m\u001b[1;33m]\u001b[0m\u001b[1;33m)\u001b[0m\u001b[1;33m\u001b[0m\u001b[0m\n\u001b[0m\u001b[0;32m     13\u001b[0m \u001b[1;33m\u001b[0m\u001b[0m\n\u001b[0;32m     14\u001b[0m \u001b[0mend\u001b[0m \u001b[1;33m=\u001b[0m \u001b[0mtime\u001b[0m\u001b[1;33m.\u001b[0m\u001b[0mtime\u001b[0m\u001b[1;33m(\u001b[0m\u001b[1;33m)\u001b[0m\u001b[1;33m\u001b[0m\u001b[0m\n",
      "\u001b[1;32m<ipython-input-88-f4c4e1b7bfd6>\u001b[0m in \u001b[0;36mdistance_between_populations\u001b[1;34m(population_first, population_second)\u001b[0m\n\u001b[0;32m      5\u001b[0m     \u001b[1;32mfor\u001b[0m \u001b[0mmodel_from_first\u001b[0m \u001b[1;32min\u001b[0m \u001b[0mpopulation_first\u001b[0m\u001b[1;33m:\u001b[0m\u001b[1;33m\u001b[0m\u001b[0m\n\u001b[0;32m      6\u001b[0m         \u001b[1;32mfor\u001b[0m \u001b[0mmodel_from_second\u001b[0m \u001b[1;32min\u001b[0m \u001b[0mpopulation_second\u001b[0m\u001b[1;33m:\u001b[0m\u001b[1;33m\u001b[0m\u001b[0m\n\u001b[1;32m----> 7\u001b[1;33m             \u001b[0mcumulative_distance\u001b[0m \u001b[1;33m=\u001b[0m \u001b[0mcumulative_distance\u001b[0m \u001b[1;33m+\u001b[0m \u001b[0mlevenstein_string_distance\u001b[0m\u001b[1;33m(\u001b[0m\u001b[0mmodel_from_first\u001b[0m\u001b[1;33m,\u001b[0m \u001b[0mmodel_from_second\u001b[0m\u001b[1;33m)\u001b[0m\u001b[1;33m\u001b[0m\u001b[0m\n\u001b[0m\u001b[0;32m      8\u001b[0m     \u001b[0mcumulative_distance\u001b[0m \u001b[1;33m=\u001b[0m \u001b[0mcumulative_distance\u001b[0m \u001b[1;33m/\u001b[0m \u001b[1;33m(\u001b[0m\u001b[0mlen_first\u001b[0m \u001b[1;33m*\u001b[0m \u001b[0mlen_second\u001b[0m\u001b[1;33m)\u001b[0m\u001b[1;33m\u001b[0m\u001b[0m\n\u001b[0;32m      9\u001b[0m     \u001b[1;32mreturn\u001b[0m \u001b[0mcumulative_distance\u001b[0m\u001b[1;33m\u001b[0m\u001b[0m\n",
      "\u001b[1;32m<ipython-input-87-0b21445390bb>\u001b[0m in \u001b[0;36mlevenstein_string_distance\u001b[1;34m(source, target)\u001b[0m\n\u001b[0;32m     25\u001b[0m         current_row[1:] = np.minimum(\n\u001b[0;32m     26\u001b[0m                 \u001b[0mcurrent_row\u001b[0m\u001b[1;33m[\u001b[0m\u001b[1;36m1\u001b[0m\u001b[1;33m:\u001b[0m\u001b[1;33m]\u001b[0m\u001b[1;33m,\u001b[0m\u001b[1;33m\u001b[0m\u001b[0m\n\u001b[1;32m---> 27\u001b[1;33m                 np.add(previous_row[:-1], target != s))\n\u001b[0m\u001b[0;32m     28\u001b[0m \u001b[1;33m\u001b[0m\u001b[0m\n\u001b[0;32m     29\u001b[0m         \u001b[1;31m# Deletion (target grows shorter than source):\u001b[0m\u001b[1;33m\u001b[0m\u001b[1;33m\u001b[0m\u001b[0m\n",
      "\u001b[1;31mKeyboardInterrupt\u001b[0m: "
     ]
    }
   ],
   "source": [
    "distances_between_segments = np.zeros((len(ts_labels) * number_ts_pieces, len(ts_labels) * number_ts_pieces))\n",
    "\n",
    "\n",
    "start = time.time()\n",
    "for ind_label_f,label_f in enumerate(feature_matrices_of_ts):\n",
    "    for ind_label_s,label_s in enumerate(feature_matrices_of_ts):\n",
    "        print(label_f, label_s)\n",
    "        for ind_population_f,population_f in enumerate(feature_matrices_of_ts[label_f]):\n",
    "            for ind_population_s,population_s in enumerate(feature_matrices_of_ts[label_s]):\n",
    "                index_first = ind_label_f * number_ts_pieces + ind_population_f\n",
    "                index_second = ind_label_s * number_ts_pieces + ind_population_s\n",
    "                distances_between_segments[index_first][index_second] = distance_between_populations(population_f[0], population_s[0])\n",
    "    \n",
    "end = time.time()\n",
    "print(end - start)"
   ]
  },
  {
   "cell_type": "code",
   "execution_count": 43,
   "metadata": {
    "collapsed": false
   },
   "outputs": [
    {
     "name": "stdout",
     "output_type": "stream",
     "text": [
      "0.716666666667\n"
     ]
    },
    {
     "data": {
      "text/plain": [
       "array([0, 0, 0, ..., 1, 1, 1], dtype=int32)"
      ]
     },
     "execution_count": 43,
     "metadata": {},
     "output_type": "execute_result"
    }
   ],
   "source": [
    "random_state = 50\n",
    "clusters = KMeans(n_clusters=3, random_state=random_state,n_init = 10).fit_predict(distances_between_segments)\n",
    "true_clusters = np.zeros(len(ts_labels) * number_ts_pieces)\n",
    "for ind,_ in enumerate(ts_labels):\n",
    "    true_clusters[ind * number_ts_pieces:(ind + 1) * number_ts_pieces] = ind * np.ones(number_ts_pieces)\n",
    "print(sum(clusters != true_clusters) / len(clusters))\n",
    "clusters"
   ]
  },
  {
   "cell_type": "code",
   "execution_count": 26,
   "metadata": {
    "collapsed": false
   },
   "outputs": [
    {
     "name": "stdout",
     "output_type": "stream",
     "text": [
      "0.791176470588\n"
     ]
    },
    {
     "data": {
      "text/plain": [
       "array([0, 2, 2, ..., 0, 0, 0])"
      ]
     },
     "execution_count": 26,
     "metadata": {},
     "output_type": "execute_result"
    }
   ],
   "source": [
    "random_state = 170\n",
    "clusters = AgglomerativeClustering(n_clusters=3).fit_predict(distances_between_segments)\n",
    "print(sum(clusters != true_clusters) / len(clusters))\n",
    "clusters"
   ]
  },
  {
   "cell_type": "code",
   "execution_count": 79,
   "metadata": {
    "collapsed": false
   },
   "outputs": [
    {
     "data": {
      "text/plain": [
       "[2]"
      ]
     },
     "execution_count": 79,
     "metadata": {},
     "output_type": "execute_result"
    }
   ],
   "source": [
    "l = [0,2,3,4]\n",
    "l[1:2]"
   ]
  },
  {
   "cell_type": "code",
   "execution_count": null,
   "metadata": {
    "collapsed": true
   },
   "outputs": [],
   "source": [
    "fraction_of_test_samples = 0.3\n",
    "\n",
    "test_indices = np.random.choice([True, False], number_ts_pieces, p = [fraction_of_test_samples, 1 - fraction_of_test_samples])\n",
    "target_vector = 2* target_vector - 1 \n",
    "\n",
    "train_matrix = unite_feature_matrix[~indices_of_test_sample,:]\n",
    "test_matrix = unite_feature_matrix[indices_of_test_sample,:]\n",
    "train_target = target_vector[~indices_of_test_sample].reshape(sum(~indices_of_test_sample),)\n",
    "test_target = target_vector[indices_of_test_sample].reshape(sum(indices_of_test_sample),)\n"
   ]
  },
  {
   "cell_type": "code",
   "execution_count": 3,
   "metadata": {
    "collapsed": true
   },
   "outputs": [],
   "source": []
  },
  {
   "cell_type": "code",
   "execution_count": 4,
   "metadata": {
    "collapsed": false
   },
   "outputs": [
    {
     "data": {
      "text/plain": [
       "3"
      ]
     },
     "execution_count": 4,
     "metadata": {},
     "output_type": "execute_result"
    }
   ],
   "source": []
  },
  {
   "cell_type": "code",
   "execution_count": null,
   "metadata": {
    "collapsed": true
   },
   "outputs": [],
   "source": []
  }
 ],
 "metadata": {
  "kernelspec": {
   "display_name": "Python 3",
   "language": "python",
   "name": "python3"
  },
  "language_info": {
   "codemirror_mode": {
    "name": "ipython",
    "version": 3
   },
   "file_extension": ".py",
   "mimetype": "text/x-python",
   "name": "python",
   "nbconvert_exporter": "python",
   "pygments_lexer": "ipython3",
   "version": "3.4.2"
  }
 },
 "nbformat": 4,
 "nbformat_minor": 0
}
