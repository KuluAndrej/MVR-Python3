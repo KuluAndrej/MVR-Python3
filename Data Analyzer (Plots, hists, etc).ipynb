{
 "cells": [
  {
   "cell_type": "code",
   "execution_count": 2,
   "metadata": {
    "collapsed": false
   },
   "outputs": [],
   "source": [
    "import os, os.path, re\n",
    "import numpy as np\n",
    "from collections import Counter\n",
    "from sys import getsizeof\n",
    "import time\n",
    "from sklearn.preprocessing import normalize, scale, MinMaxScaler\n",
    "from sklearn.cluster import *\n",
    "\n",
    "import matplotlib\n",
    "import matplotlib.pyplot as plt\n",
    "\n",
    "%matplotlib inline"
   ]
  },
  {
   "cell_type": "code",
   "execution_count": 25,
   "metadata": {
    "collapsed": true
   },
   "outputs": [],
   "source": [
    "files_path = 'ts_processing/'\n",
    "ts_labels = ['chest_volume', 'heart_rate', 'oxygen_concentration']\n",
    "ts_labels = sorted(ts_labels)\n",
    "\n",
    "number_ts_pieces = len(os.listdir(files_path)) / len(ts_labels)\n",
    "# if the number is not divided \n",
    "if abs(number_ts_pieces - round(number_ts_pieces)) > 0:\n",
    "    print('ERROR: invalid number of files in ', files_path)\n",
    "else:\n",
    "    number_ts_pieces = int(number_ts_pieces)    \n",
    "\n",
    "def atoi(text):\n",
    "    return int(text) if text.isdigit() else text\n",
    "def natural_keys(text):    \n",
    "    return [ atoi(c) for c in re.split('(\\d+)', text) ]\n",
    "\n",
    "file_names = sorted(os.listdir(files_path), key=natural_keys)"
   ]
  },
  {
   "cell_type": "code",
   "execution_count": 26,
   "metadata": {
    "collapsed": true
   },
   "outputs": [],
   "source": [
    "# set of labels of ts to classify\n",
    "# labels = chest_volume, heart_rate, oxygen_concentration\n",
    "labels = ['chest_volume', 'heart_rate', 'oxygen_concentration']\n",
    "# locations of the ts\n",
    "root_path = '/MVR_py/ts_processing/'\n",
    "# extension of files containing data about ts\n",
    "extension = '.txt'\n",
    "# folder for output files\n",
    "where_to_store_models = 'collected_models2/'\n",
    "# specifies number of segments for ts to be split on\n",
    "number_of_segments = 340\n",
    "\n",
    "def retrieve_ts(label):\n",
    "    \n",
    "    dataset_filename     = '/data/data_to_fit.txt'\n",
    "    init_models_filename = '/data/init_models.txt'\n",
    "    \n",
    "    \n",
    "    \n",
    "    DATA_LOCAL_PATH = root_path\n",
    "    script_dir = os.path.dirname('__file__')\n",
    "    parent_dir = os.path.abspath(os.path.join(script_dir, os.pardir))\n",
    "    DATA_FULL_PATH = parent_dir + DATA_LOCAL_PATH + label + extension\n",
    "    # retrieve the data to fit from the specified file\n",
    "    data_to_fit = np.loadtxt(DATA_FULL_PATH, delimiter = ',')\n",
    "    data_to_fit = np.vstack((data_to_fit, np.linspace(0,1, len(data_to_fit)))).T\n",
    "    return data_to_fit\n",
    "\n"
   ]
  },
  {
   "cell_type": "code",
   "execution_count": 37,
   "metadata": {
    "collapsed": true
   },
   "outputs": [],
   "source": [
    "def get_segment_of_ts(data, index_of_segment, length_of_segments):\n",
    "    return data[index_of_segment * length_of_segments : (index_of_segment + 1) * length_of_segments, :]"
   ]
  },
  {
   "cell_type": "code",
   "execution_count": 2,
   "metadata": {
    "collapsed": false
   },
   "outputs": [
    {
     "ename": "NameError",
     "evalue": "name 'plt' is not defined",
     "output_type": "error",
     "traceback": [
      "\u001b[1;31m---------------------------------------------------------------------------\u001b[0m",
      "\u001b[1;31mNameError\u001b[0m                                 Traceback (most recent call last)",
      "\u001b[1;32m<ipython-input-2-a951c31a424f>\u001b[0m in \u001b[0;36m<module>\u001b[1;34m()\u001b[0m\n\u001b[1;32m----> 1\u001b[1;33m \u001b[0mf\u001b[0m\u001b[1;33m,\u001b[0m \u001b[1;33m(\u001b[0m\u001b[0max1\u001b[0m\u001b[1;33m,\u001b[0m \u001b[0max2\u001b[0m\u001b[1;33m)\u001b[0m \u001b[1;33m=\u001b[0m \u001b[0mplt\u001b[0m\u001b[1;33m.\u001b[0m\u001b[0msubplots\u001b[0m\u001b[1;33m(\u001b[0m\u001b[1;36m1\u001b[0m\u001b[1;33m,\u001b[0m \u001b[1;36m2\u001b[0m\u001b[1;33m,\u001b[0m \u001b[0msharey\u001b[0m\u001b[1;33m=\u001b[0m\u001b[1;32mTrue\u001b[0m\u001b[1;33m)\u001b[0m\u001b[1;33m\u001b[0m\u001b[0m\n\u001b[0m\u001b[0;32m      2\u001b[0m \u001b[1;33m\u001b[0m\u001b[0m\n\u001b[0;32m      3\u001b[0m \u001b[0mindex_of_segment\u001b[0m \u001b[1;33m=\u001b[0m \u001b[1;36m0\u001b[0m\u001b[1;33m\u001b[0m\u001b[0m\n\u001b[0;32m      4\u001b[0m \u001b[0mdata\u001b[0m \u001b[1;33m=\u001b[0m \u001b[0mretrieve_ts\u001b[0m\u001b[1;33m(\u001b[0m\u001b[0mts_labels\u001b[0m\u001b[1;33m[\u001b[0m\u001b[1;36m0\u001b[0m\u001b[1;33m]\u001b[0m\u001b[1;33m)\u001b[0m\u001b[1;33m\u001b[0m\u001b[0m\n\u001b[0;32m      5\u001b[0m \u001b[0msegment\u001b[0m \u001b[1;33m=\u001b[0m \u001b[0mget_segment_of_ts\u001b[0m\u001b[1;33m(\u001b[0m\u001b[0mdata\u001b[0m\u001b[1;33m,\u001b[0m \u001b[1;36m2\u001b[0m\u001b[1;33m,\u001b[0m \u001b[0mint\u001b[0m\u001b[1;33m(\u001b[0m\u001b[0mdata\u001b[0m\u001b[1;33m.\u001b[0m\u001b[0mshape\u001b[0m\u001b[1;33m[\u001b[0m\u001b[1;36m0\u001b[0m\u001b[1;33m]\u001b[0m \u001b[1;33m/\u001b[0m \u001b[1;36m200\u001b[0m\u001b[1;33m)\u001b[0m\u001b[1;33m)\u001b[0m\u001b[1;33m\u001b[0m\u001b[0m\n",
      "\u001b[1;31mNameError\u001b[0m: name 'plt' is not defined"
     ]
    }
   ],
   "source": [
    "f, (ax1, ax2) = plt.subplots(1, 2, sharey=True)\n",
    "\n",
    "index_of_segment = 0\n",
    "data = retrieve_ts(ts_labels[0])\n",
    "segment = get_segment_of_ts(data, 2, int(data.shape[0] / 200))\n",
    "X = segment[:,1]\n",
    "y = segment[:,0]\n",
    "\n",
    "ax1.plot(X,y)\n",
    "\n",
    "index_of_segment = 0\n",
    "\n",
    "print(\"ts_label =\", ts_labels[2], \"; index_of_segment =\", index_of_segment)\n",
    "print(index_of_segment.shape)\n",
    "data = retrieve_ts(ts_labels[2])\n",
    "segment = get_segment_of_ts(data, 2, int(data.shape[0] / 200))\n",
    "X = segment[:,1]\n",
    "y = segment[:,0]\n",
    "ax2.plot(X,y)\n",
    "plt.show()\n",
    "\n"
   ]
  },
  {
   "cell_type": "code",
   "execution_count": 51,
   "metadata": {
    "collapsed": false
   },
   "outputs": [
    {
     "name": "stdout",
     "output_type": "stream",
     "text": [
      "ts_label = chest_volume ; index_of_segment = 0\n"
     ]
    },
    {
     "data": {
      "image/png": "[encoded data removed]",
      "text/plain": [
       "<matplotlib.figure.Figure at 0x7f19459c7eb8>"
      ]
     },
     "metadata": {},
     "output_type": "display_data"
    }
   ],
   "source": [
    "index_of_segment = 0\n",
    "print(\"ts_label =\", ts_labels[0], \"; index_of_segment =\", index_of_segment)\n",
    "data = retrieve_ts(ts_labels[0])\n",
    "segment = get_segment_of_ts(data, 2, int(data.shape[0] / 200))\n",
    "X = segment[:,1]\n",
    "y = segment[:,0]\n",
    "plt.plot(X,y)\n",
    "plt.show()"
   ]
  },
  {
   "cell_type": "code",
   "execution_count": 5,
   "metadata": {
    "collapsed": false
   },
   "outputs": [],
   "source": [
    "def atoi(text):\n",
    "    return int(text) if text.isdigit() else text\n",
    "def natural_keys(text):    \n",
    "    return [ atoi(c) for c in re.split('(\\d+)', text) ]\n",
    "\n",
    "files_path = 'populations/first_segments2/'\n",
    "file_names = sorted(os.listdir(files_path), key=natural_keys)\n",
    "files_path_dest = 'populations/first_segments3/'\n",
    "\n",
    "if not os.path.isdir(files_path_dest):\n",
    "    os.makedirs(files_path_dest)\n",
    "\n",
    "    \n",
    "for file in file_names:\n",
    "    number_of_file = int(file[:-4].split('_')[-1])\n",
    "    if number_of_file >= 51:\n",
    "        os.rename(files_path + file, files_path_dest + file)"
   ]
  },
  {
   "cell_type": "code",
   "execution_count": 14,
   "metadata": {
    "collapsed": false
   },
   "outputs": [
    {
     "data": {
      "text/plain": [
       "51.27754336615096"
      ]
     },
     "execution_count": 14,
     "metadata": {},
     "output_type": "execute_result"
    }
   ],
   "source": [
    "3500000000 / 68256000"
   ]
  }
 ],
 "metadata": {
  "kernelspec": {
   "display_name": "Python 3",
   "language": "python",
   "name": "python3"
  },
  "language_info": {
   "codemirror_mode": {
    "name": "ipython",
    "version": 3
   },
   "file_extension": ".py",
   "mimetype": "text/x-python",
   "name": "python",
   "nbconvert_exporter": "python",
   "pygments_lexer": "ipython3",
   "version": "3.4.2"
  }
 },
 "nbformat": 4,
 "nbformat_minor": 0
}
