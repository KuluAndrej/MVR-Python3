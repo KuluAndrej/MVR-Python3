{
 "cells": [
  {
   "cell_type": "code",
   "execution_count": 6,
   "metadata": {
    "collapsed": false
   },
   "outputs": [
    {
     "name": "stdout",
     "output_type": "stream",
     "text": [
      "iteration#  0\n",
      "time elapsed for select_best_models : 8.535385131835938e-05\n",
      "30  models are selected\n",
      "best yet generated model 52.5510021948\n",
      "ln_(frac2_(X[0],X[1]))\n",
      "no params\n",
      "\n",
      "iteration#  1\n",
      "time elapsed for select_best_models : 0.0001342296600341797\n",
      "30  models are selected\n",
      "best yet generated model 47.1100650336\n",
      "times2_(ln_(parabola_(X[0])),cos_(X[0]))\n",
      "[-0.32033256  0.54011162  2.32356311]\n",
      "\n",
      "iteration#  2\n",
      "time elapsed for select_best_models : 0.0001289844512939453\n",
      "30  models are selected\n",
      "best yet generated model 38.1961449856\n",
      "times2_(ln_(parabola_(X[0])),expl_(sqrt_(frac2_(X[0],X[1]))))\n",
      "[-0.05494378  0.64980513  2.95112602  0.3394676  -0.35367129]\n",
      "\n"
     ]
    }
   ],
   "source": [
    "%run main.py"
   ]
  },
  {
   "cell_type": "code",
   "execution_count": 2,
   "metadata": {
    "collapsed": true
   },
   "outputs": [],
   "source": [
    "import numpy as np\n",
    "import re"
   ]
  },
  {
   "cell_type": "code",
   "execution_count": 7,
   "metadata": {
    "collapsed": false
   },
   "outputs": [
    {
     "data": {
      "text/plain": [
       "20"
      ]
     },
     "execution_count": 7,
     "metadata": {},
     "output_type": "execute_result"
    }
   ],
   "source": [
    "string = 'times2_(atana_(sin_(minus2_(sin_(atana_(sin_(plus2_(cosa_(exp_(X[0])),parabola_(sin_(X[0])))))),X[0]))),plus2_(plus2_(cosa_(exp_(X[0])),hvs_(linear_(atan_(X[0])))),exp_(X[0])))'\n",
    "string = np.array(list(string)) \n",
    "sum(string == '_')"
   ]
  },
  {
   "cell_type": "code",
   "execution_count": 47,
   "metadata": {
    "collapsed": false
   },
   "outputs": [
    {
     "name": "stdout",
     "output_type": "stream",
     "text": [
      "\n",
      "\n",
      "\n",
      "\\put(40,288){\\circle{30}}\n",
      "\\put(29,285){$\\cdot \\times \\cdot$}\n",
      "\\put(32,273){\\vector(-1,-2){8}}\n",
      "\\put(48,273){\\vector(1,-2){8}}\n",
      "\n",
      "\n",
      "\\put(10,247){\\circle{30}}\n",
      "\\put(-3,244){linear}\n",
      "\\put(70,247){\\circle{30}}\n",
      "\\put(63,244){$\\sin$}\n",
      "\\put(70,203){\\circle{30}}\n",
      "\\put(2,199){$\\cos$}\n",
      "\\put(10,203){\\circle{30}}\n",
      "\\put(60,201){$\\cdot + \\cdot$}\n",
      "\\put(70,231){\\vector(0,-3){12}}\n",
      "\\put(11,231){\\vector(0,-3){12}}\n",
      "\\put(11,186){\\vector(0,-3){12}}\n",
      "\\put(65,187){\\vector(-1,-2){8}}\n",
      "\\put(75,187){\\vector(1,-2){8}}\n",
      "\n",
      "\\put(10,162){\\circle{25}}\n",
      "\\put(52,160){\\circle{25}}\n",
      "\\put(90,157){\\circle{30}}\n",
      "\n",
      "\\put(4,159){$x_2$}\n",
      "\\put(47,156){$x_1$}\n",
      "\\put(85,154){$\\ln$}\n",
      "\\put(90,141){\\vector(0,-3){12}}\n",
      "\\put(90,115){\\circle{25}}\n",
      "\\put(86,111){$x_1$}\n",
      "\n",
      "\n"
     ]
    },
    {
     "data": {
      "text/plain": [
       "32512"
      ]
     },
     "execution_count": 47,
     "metadata": {},
     "output_type": "execute_result"
    }
   ],
   "source": [
    "s = r\"\"\"\n",
    "\n",
    "\n",
    "\\put(40,293){\\circle{30}}\n",
    "\\put(29,290){$\\cdot \\times \\cdot$}\n",
    "\\put(32,278){\\vector(-1,-2){8}}\n",
    "\\put(48,278){\\vector(1,-2){8}}\n",
    "\n",
    "\n",
    "\\put(10,252){\\circle{30}}\n",
    "\\put(-3,249){linear}\n",
    "\\put(70,252){\\circle{30}}\n",
    "\\put(63,249){$\\sin$}\n",
    "\\put(70,208){\\circle{30}}\n",
    "\\put(2,204){$\\cos$}\n",
    "\\put(10,208){\\circle{30}}\n",
    "\\put(60,206){$\\cdot + \\cdot$}\n",
    "\\put(70,236){\\vector(0,-3){12}}\n",
    "\\put(11,236){\\vector(0,-3){12}}\n",
    "\\put(11,191){\\vector(0,-3){12}}\n",
    "\\put(65,192){\\vector(-1,-2){8}}\n",
    "\\put(75,192){\\vector(1,-2){8}}\n",
    "\n",
    "\\put(10,167){\\circle{25}}\n",
    "\\put(52,165){\\circle{25}}\n",
    "\\put(90,162){\\circle{30}}\n",
    "\n",
    "\\put(4,164){$x_2$}\n",
    "\\put(47,161){$x_1$}\n",
    "\\put(85,159){$\\ln$}\n",
    "\\put(90,146){\\vector(0,-3){12}}\n",
    "\\put(90,120){\\circle{25}}\n",
    "\\put(86,116){$x_1$}\n",
    "\n",
    "\"\"\"\n",
    "\n",
    "\n",
    "lines = s.split('\\n');\n",
    "new_lines = []\n",
    "p = re.compile(r\"\\\\(\\w+)\\((-*\\d+),(\\d+)\\)(.*)\")\n",
    "for line in lines:\n",
    "    m = p.match(line)\n",
    "    if m:\n",
    "        num1 = int(m.group(2)) \n",
    "        num2 = int(m.group(3)) - 5\n",
    "        new_line = \"\\\\\"+m.group(1)+\"(\"+str(num1)+','+str(num2)+')'+m.group(4)\n",
    "        new_lines.append(new_line)\n",
    "    else:\n",
    "        new_lines.append(line)\n",
    "        \n",
    "print('\\n'.join(new_lines))\n",
    "\n",
    "import os \n",
    "data = \"hello world\"\n",
    "os.system(\"echo '%s' | pbcopy\" % data)\n"
   ]
  }
 ],
 "metadata": {
  "kernelspec": {
   "display_name": "Python 3",
   "language": "python",
   "name": "python3"
  },
  "language_info": {
   "codemirror_mode": {
    "name": "ipython",
    "version": 3
   },
   "file_extension": ".py",
   "mimetype": "text/x-python",
   "name": "python",
   "nbconvert_exporter": "python",
   "pygments_lexer": "ipython3",
   "version": "3.4.2"
  }
 },
 "nbformat": 4,
 "nbformat_minor": 0
}
