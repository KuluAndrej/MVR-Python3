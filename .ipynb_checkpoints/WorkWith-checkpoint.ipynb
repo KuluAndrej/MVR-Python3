{
 "cells": [
  {
   "cell_type": "code",
   "execution_count": 6,
   "metadata": {
    "collapsed": false
   },
   "outputs": [
    {
     "name": "stdout",
     "output_type": "stream",
     "text": [
      "iteration#  0\n",
      "time elapsed for select_best_models : 8.535385131835938e-05\n",
      "30  models are selected\n",
      "best yet generated model 52.5510021948\n",
      "ln_(frac2_(X[0],X[1]))\n",
      "no params\n",
      "\n",
      "iteration#  1\n",
      "time elapsed for select_best_models : 0.0001342296600341797\n",
      "30  models are selected\n",
      "best yet generated model 47.1100650336\n",
      "times2_(ln_(parabola_(X[0])),cos_(X[0]))\n",
      "[-0.32033256  0.54011162  2.32356311]\n",
      "\n",
      "iteration#  2\n",
      "time elapsed for select_best_models : 0.0001289844512939453\n",
      "30  models are selected\n",
      "best yet generated model 38.1961449856\n",
      "times2_(ln_(parabola_(X[0])),expl_(sqrt_(frac2_(X[0],X[1]))))\n",
      "[-0.05494378  0.64980513  2.95112602  0.3394676  -0.35367129]\n",
      "\n"
     ]
    }
   ],
   "source": [
    "%run main.py"
   ]
  },
  {
   "cell_type": "code",
   "execution_count": 2,
   "metadata": {
    "collapsed": true
   },
   "outputs": [],
   "source": [
    "import numpy as np\n",
    "import re"
   ]
  },
  {
   "cell_type": "code",
   "execution_count": 7,
   "metadata": {
    "collapsed": false
   },
   "outputs": [
    {
     "data": {
      "text/plain": [
       "20"
      ]
     },
     "execution_count": 7,
     "metadata": {},
     "output_type": "execute_result"
    }
   ],
   "source": [
    "string = 'times2_(atana_(sin_(minus2_(sin_(atana_(sin_(plus2_(cosa_(exp_(X[0])),parabola_(sin_(X[0])))))),X[0]))),plus2_(plus2_(cosa_(exp_(X[0])),hvs_(linear_(atan_(X[0])))),exp_(X[0])))'\n",
    "string = np.array(list(string)) \n",
    "sum(string == '_')"
   ]
  },
  {
   "cell_type": "code",
   "execution_count": 34,
   "metadata": {
    "collapsed": false
   },
   "outputs": [
    {
     "name": "stdout",
     "output_type": "stream",
     "text": [
      "\n",
      "\n",
      "\n",
      "\\put(220,0){\\circle{6}}\n",
      "\\put(270,0){\\circle{6}}\n",
      "\\put(320,0){\\circle{6}} \n",
      "\\put(270,50){\\circle{6}}\n",
      "\\put(220,100){\\circle{6}}\n",
      "\\put(220,100){\\vector(1,-1){50}}\n",
      "\\put(270,50){\\vector(1,-1){50}}\n",
      "\\put(220,100){\\vector(0,-1){100}}\n",
      "\\put(270,50){\\vector(0,-1){50}}\n",
      "\\put(360,0){$L_0$}\n",
      "\\put(360,50){$L_1$}\n",
      "\\put(360,100){$L_2$}\n",
      "\\multiput(350,100)(-4,0){32}%\n",
      "{\\circle{2}}\n",
      "\\multiput(350,50)(-4,0){20}%\n",
      "{\\circle{2}}\n",
      "\\multiput(350,0)(-4,0){7}%\n",
      "{\\circle{2}}\n",
      "\\multiput(313,0)(-4,0){10}%\n",
      "{\\circle{2}}\n",
      "\\multiput(263,0)(-4,0){10}%\n",
      "{\\circle{2}}\n",
      "\\put(210,107){$r$}\n",
      "\n",
      "\n"
     ]
    },
    {
     "data": {
      "text/plain": [
       "32512"
      ]
     },
     "execution_count": 34,
     "metadata": {},
     "output_type": "execute_result"
    }
   ],
   "source": [
    "s = r\"\"\"\n",
    "\n",
    "\n",
    "\\put(250,0){\\circle{6}}\n",
    "\\put(300,0){\\circle{6}}\n",
    "\\put(350,0){\\circle{6}} \n",
    "\\put(300,50){\\circle{6}}\n",
    "\\put(250,100){\\circle{6}}\n",
    "\\put(250,100){\\vector(1,-1){50}}\n",
    "\\put(300,50){\\vector(1,-1){50}}\n",
    "\\put(250,100){\\vector(0,-1){100}}\n",
    "\\put(300,50){\\vector(0,-1){50}}\n",
    "\\put(390,0){$L_0$}\n",
    "\\put(390,50){$L_1$}\n",
    "\\put(390,100){$L_2$}\n",
    "\\multiput(380,100)(-4,0){32}%\n",
    "{\\circle{2}}\n",
    "\\multiput(380,50)(-4,0){20}%\n",
    "{\\circle{2}}\n",
    "\\multiput(380,0)(-4,0){7}%\n",
    "{\\circle{2}}\n",
    "\\multiput(343,0)(-4,0){10}%\n",
    "{\\circle{2}}\n",
    "\\multiput(293,0)(-4,0){10}%\n",
    "{\\circle{2}}\n",
    "\\put(240,107){$r$}\n",
    "\n",
    "\"\"\"\n",
    "\n",
    "\n",
    "lines = s.split('\\n');\n",
    "new_lines = []\n",
    "p = re.compile(r\"\\\\(\\w+)\\((\\d+),(\\d+)\\)(.*)\")\n",
    "for line in lines:\n",
    "    m = p.match(line)\n",
    "    if m:\n",
    "        num1 = int(m.group(2)) - 50\n",
    "        num2 = int(m.group(3))\n",
    "        new_line = \"\\\\\"+m.group(1)+\"(\"+str(num1)+','+str(num2)+')'+m.group(4)\n",
    "        new_lines.append(new_line)\n",
    "    else:\n",
    "        new_lines.append(line)\n",
    "        \n",
    "print('\\n'.join(new_lines))\n",
    "\n",
    "import os \n",
    "data = \"hello world\"\n",
    "os.system(\"echo '%s' | pbcopy\" % data)\n"
   ]
  }
 ],
 "metadata": {
  "kernelspec": {
   "display_name": "Python 3",
   "language": "python",
   "name": "python3"
  },
  "language_info": {
   "codemirror_mode": {
    "name": "ipython",
    "version": 3
   },
   "file_extension": ".py",
   "mimetype": "text/x-python",
   "name": "python",
   "nbconvert_exporter": "python",
   "pygments_lexer": "ipython3",
   "version": "3.4.2"
  }
 },
 "nbformat": 4,
 "nbformat_minor": 0
}
