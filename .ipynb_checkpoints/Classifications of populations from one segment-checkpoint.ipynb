{
 "cells": [
  {
   "cell_type": "code",
   "execution_count": 1,
   "metadata": {
    "collapsed": true
   },
   "outputs": [],
   "source": [
    "import os, os.path, re\n",
    "import numpy as np\n",
    "from sklearn.preprocessing import normalize, scale, MinMaxScaler\n",
    "from collections import Counter\n",
    "from sys import getsizeof\n",
    "import time\n",
    "from sklearn.cluster import *\n",
    "from code.modules.levenshtein import levenshtein_distance"
   ]
  },
  {
   "cell_type": "code",
   "execution_count": 2,
   "metadata": {
    "collapsed": false
   },
   "outputs": [],
   "source": [
    "files_path = 'populations/first_segments3/'\n",
    "ts_labels = ['chest_volume', 'heart_rate', 'oxygen_concentration']\n",
    "ts_labels = sorted(ts_labels)\n",
    "\n",
    "number_ts_pieces = len(os.listdir(files_path)) / len(ts_labels)\n",
    "#number_ts_pieces = 50\n",
    "# if the number is not divided \n",
    "if abs(number_ts_pieces - round(number_ts_pieces)) > 0:\n",
    "    print('ERROR: invalid number of files in ', files_path)\n",
    "else:\n",
    "    number_ts_pieces = int(number_ts_pieces)    \n",
    "\n",
    "def atoi(text):\n",
    "    return int(text) if text.isdigit() else text\n",
    "def natural_keys(text):    \n",
    "    return [ atoi(c) for c in re.split('(\\d+)', text) ]\n",
    "\n",
    "file_names = sorted(os.listdir(files_path), key=natural_keys)"
   ]
  },
  {
   "cell_type": "code",
   "execution_count": 3,
   "metadata": {
    "collapsed": true
   },
   "outputs": [],
   "source": [
    "def get_models_from_file(number_of_file, type_of_ts):\n",
    "    index_of_ts = ts_labels.index(type_of_ts)\n",
    "    file_name = file_names[number_ts_pieces * index_of_ts + number_of_file]        \n",
    "    file_opened = open(files_path + file_name, 'r')\n",
    "    func_and_params_names = file_opened.readlines()\n",
    "    models = []\n",
    "    for entity in func_and_params_names:          \n",
    "        entity = entity.split(' ')[-1]\n",
    "        models.append(entity)\n",
    "        models[-1] = models[-1].strip()                    \n",
    "        models[-1] = re.sub(r'X\\[(\\d+)\\]', r'x\\1', models[-1])    \n",
    "    return models"
   ]
  },
  {
   "cell_type": "code",
   "execution_count": 4,
   "metadata": {
    "collapsed": false
   },
   "outputs": [],
   "source": [
    "def find_number_of_tokens(handle):    \n",
    "    counter_tokens = 0\n",
    "    counter_variables = 0\n",
    "\n",
    "    for i in range(len(handle)):\n",
    "        if handle[i] == '_': \n",
    "            counter_tokens += 1\n",
    "        elif i < len(handle)-1 and handle[i] == 'x' and handle[i+1].isdigit():\n",
    "            counter_variables += 1;\n",
    "\n",
    "    return (counter_tokens, counter_variables)"
   ]
  },
  {
   "cell_type": "code",
   "execution_count": 5,
   "metadata": {
    "collapsed": false
   },
   "outputs": [],
   "source": [
    "def create_map_tokens_params():\n",
    "    file_opened = open('data/numbParam.txt', 'r')\n",
    "    primitives_lines = file_opened.readlines()\n",
    "    tokens_codes = {line.split()[0] : int(ind) for ind,line in enumerate(primitives_lines)}    \n",
    "    tokens_params = {line.split()[0] : int(line.split()[1]) for line in primitives_lines}    \n",
    "    return (tokens_codes, tokens_params)"
   ]
  },
  {
   "cell_type": "code",
   "execution_count": 6,
   "metadata": {
    "collapsed": true
   },
   "outputs": [],
   "source": [
    "def dfs_search_on_handle(handle):\n",
    "    counters = find_number_of_tokens(handle)\n",
    "    number_tokens = counters[0] + counters[1]\n",
    "    \n",
    "    waiting_tokens = []\n",
    "    encodings = np.zeros(number_tokens, dtype = int)        \n",
    "    current_token, left, right = 0, 0, 0\n",
    "    is_a_token_processed_now = False    \n",
    "    \n",
    "    map_tokens_params = create_map_tokens_params()[0]\n",
    "    \n",
    "    for right in range(len(handle)):\n",
    "        if handle[right] == '_':\n",
    "            # the root is detected\n",
    "            waiting_tokens.append(current_token)\n",
    "            token = handle[left:right + 1]\n",
    "            encodings[current_token] = map_tokens_params.get(token, -1)\n",
    "            right += 1\n",
    "            break;  \n",
    "    \n",
    "    matr = [[] for i in range(number_tokens)]            \n",
    "    \n",
    "    # now process the remaining vertices\n",
    "    reserved_right = right\n",
    "    for right in np.arange(right, len(handle)):\n",
    "        if handle[right] == ')':\n",
    "            waiting_tokens.pop()        \n",
    "    \n",
    "        if not is_a_token_processed_now and handle[right].isalpha():\n",
    "            is_a_token_processed_now = True\n",
    "            left = right\n",
    "    \n",
    "        # if a token is found\n",
    "        if handle[right] == '_':\n",
    "            # new token is detected\n",
    "            current_token += 1\n",
    "            matr[waiting_tokens[-1]].append(current_token)\n",
    "            waiting_tokens.append(current_token)\n",
    "            token = handle[left:right + 1]\n",
    "            encodings[current_token] = map_tokens_params.get(token, -1)\n",
    "            is_a_token_processed_now = False      \n",
    "        \n",
    "        # if a variable is found\n",
    "        if right < len(handle)-1 and handle[right] == 'x' and handle[right+1].isdigit():\n",
    "            # new variable is detected\n",
    "            current_token += 1\n",
    "            matr[waiting_tokens[-1]].append(current_token)\n",
    "            while right < len(handle)-1 and handle[right] == 'x' and handle[right+1].isdigit():\n",
    "                right += 1\n",
    "            token = handle[left:right + 1]\n",
    "            encodings[current_token] = map_tokens_params.get(token, -1)\n",
    "            is_a_token_processed_now = False            \n",
    "    \n",
    "    return (matr, encodings)"
   ]
  },
  {
   "cell_type": "code",
   "execution_count": 7,
   "metadata": {
    "collapsed": true
   },
   "outputs": [],
   "source": [
    "def incidence_to_adjacency(incidence):\n",
    "    size_of_mat = len(incidence[0])\n",
    "    adjacency = np.zeros((size_of_mat, size_of_mat))    \n",
    "    for ind, row in enumerate(incidence[0]):\n",
    "        adjacency[ind][row] = 1\n",
    "    return adjacency"
   ]
  },
  {
   "cell_type": "markdown",
   "metadata": {},
   "source": [
    "** Collect primitive structural features from a population of models**"
   ]
  },
  {
   "cell_type": "code",
   "execution_count": 8,
   "metadata": {
    "collapsed": true
   },
   "outputs": [],
   "source": [
    "def get_simple_features_from_ts(number_of_file, type_of_ts, tokens_codes):\n",
    "    models = get_models_from_file(number_of_file, type_of_ts)\n",
    "    \n",
    "    primitive_frequences = np.zeros(len(tokens_codes) + 1)\n",
    "    lower_bound_code_variables = tokens_codes.get('x0', len(tokens_codes))\n",
    "\n",
    "    for model in models:\n",
    "        matr, encodings = dfs_search_on_handle(model)\n",
    "        model_primitive_frequences = Counter(encodings)\n",
    "        for key in model_primitive_frequences:\n",
    "            if key >= 0:\n",
    "                primitive_frequences[key] += model_primitive_frequences[key]\n",
    "        primitive_frequences[-1] += len(encodings)\n",
    "    primitive_frequences[-1] = primitive_frequences[-1] / len(models)\n",
    "    #return normalize(primitive_frequences.reshape(-1,1), axis=0)\n",
    "    #return primitive_frequences.reshape(-1,1)\n",
    "    \n",
    "    return scale(primitive_frequences.reshape(-1,1), axis=0)"
   ]
  },
  {
   "cell_type": "code",
   "execution_count": 198,
   "metadata": {
    "collapsed": false
   },
   "outputs": [
    {
     "data": {
      "text/plain": [
       "(300, 32)"
      ]
     },
     "execution_count": 198,
     "metadata": {},
     "output_type": "execute_result"
    }
   ],
   "source": [
    "tokens_codes, _ = create_map_tokens_params()\n",
    "feature_matrices_of_ts = {label : np.zeros((len(tokens_codes) + 1, number_ts_pieces)) for label in ts_labels}\n",
    "\n",
    "for label in ts_labels:\n",
    "    for index in range(number_ts_pieces):\n",
    "        feature_matrices_of_ts[label][:,index] = get_simple_features_from_ts(index, label, tokens_codes)[:,0]\n",
    "        \n",
    "#feature_matrices_of_ts = {label : scale(feature_matrices_of_ts[label].T) for label in ts_labels}        \n",
    "feature_matrices_of_ts = {label : feature_matrices_of_ts[label].T for label in ts_labels}        \n",
    "unite_feature_matrix = np.vstack((feature_matrices_of_ts[label] for label in ts_labels))\n",
    "unite_feature_matrix.shape"
   ]
  },
  {
   "cell_type": "code",
   "execution_count": 199,
   "metadata": {
    "collapsed": true
   },
   "outputs": [],
   "source": [
    "ts_labels = ['chest_volume', 'heart_rate', 'oxygen_concentration']\n",
    "which_label_is_positive = ts_labels[2]\n",
    "\n",
    "target_vector = np.zeros((unite_feature_matrix.shape[0],1))\n",
    "ts_labels_in_order_from_dictionary = [label for label in feature_matrices_of_ts]\n",
    "index_of_label_positive = ts_labels_in_order_from_dictionary.index(which_label_is_positive)\n",
    "all_inidices_of_samples = np.arange(target_vector.shape[0])\n",
    "positive_indices_samples = number_ts_pieces * index_of_label_positive + np.arange(number_ts_pieces)\n",
    "negative_positive_samples = [ind for ind in all_inidices_of_samples if not ind in positive_indices_samples]\n",
    "target_vector[number_ts_pieces * index_of_label_positive:number_ts_pieces * (index_of_label_positive + 1)] = np.ones((number_ts_pieces,1))\n",
    "backup_target = target_vector\n",
    "\n",
    "fraction_of_test_samples = 0.3"
   ]
  },
  {
   "cell_type": "code",
   "execution_count": 204,
   "metadata": {
    "collapsed": false
   },
   "outputs": [
    {
     "name": "stdout",
     "output_type": "stream",
     "text": [
      "error =  0.179107559826\n",
      "error on positive =  0.283179240435\n",
      "error on negative =  0.126414075288\n"
     ]
    }
   ],
   "source": [
    "from sklearn.svm import SVC\n",
    "trials = 50\n",
    "cumulative_error = 0\n",
    "cumulative_error_pos = 0\n",
    "cumulative_error_neg = 0\n",
    "\n",
    "for trying in range(trials):\n",
    "    indices_of_test_sample = np.random.choice([True, False], len(all_inidices_of_samples), p = [fraction_of_test_samples, 1 - fraction_of_test_samples])\n",
    "    target_vector = 2* backup_target - 1 \n",
    "    train_matrix = unite_feature_matrix[~indices_of_test_sample,:]\n",
    "    test_matrix = unite_feature_matrix[indices_of_test_sample,:]\n",
    "    train_target = target_vector[~indices_of_test_sample].reshape(sum(~indices_of_test_sample),)\n",
    "    test_target = target_vector[indices_of_test_sample].reshape(sum(indices_of_test_sample),)\n",
    "\n",
    "    clf = SVC(kernel='linear')\n",
    "    clf.fit(train_matrix, train_target) \n",
    "    \n",
    "    predictions = clf.predict(test_matrix)\n",
    "    #print(\"predictions: \", predictions)\n",
    "    errors = predictions != test_target\n",
    "    cumulative_error += sum(errors) / len(errors)\n",
    "    cumulative_error_pos += sum(errors[test_target == max(test_target)]) / len(errors[test_target == max(test_target)])\n",
    "    cumulative_error_neg += sum(errors[test_target == min(test_target)]) / len(errors[test_target == min(test_target)])\n",
    "\n",
    "cumulative_error /= trials\n",
    "cumulative_error_pos /= trials\n",
    "cumulative_error_neg /= trials\n",
    "\n",
    "print(\"error = \", cumulative_error)\n",
    "print(\"error on positive = \", cumulative_error_pos)\n",
    "print(\"error on negative = \", cumulative_error_neg)\n"
   ]
  },
  {
   "cell_type": "code",
   "execution_count": 157,
   "metadata": {
    "collapsed": false
   },
   "outputs": [
    {
     "name": "stdout",
     "output_type": "stream",
     "text": [
      "[66 63]\n",
      "error =  0.22380952381\n",
      "error on positive =  0.547945205479\n",
      "error on negative =  0.0510948905109\n"
     ]
    }
   ],
   "source": [
    "from sklearn.svm import SVC\n",
    "clf = SVC(kernel='linear')\n",
    "clf.fit(train_matrix, train_target) \n",
    "print(clf.n_support_)\n",
    "predictions = clf.predict(train_matrix)\n",
    "errors = predictions != train_target\n",
    "print(\"error = \", sum(errors) / len(errors))\n",
    "print(\"error on positive = \", sum(errors[train_target == max(train_target)]) / len(errors[train_target == max(train_target)]))\n",
    "print(\"error on negative = \", sum(errors[train_target == min(train_target)]) / len(errors[train_target == min(train_target)]))"
   ]
  },
  {
   "cell_type": "code",
   "execution_count": 231,
   "metadata": {
    "collapsed": false
   },
   "outputs": [
    {
     "name": "stdout",
     "output_type": "stream",
     "text": [
      "weights:  uniform\n",
      "error =  0.115789473684\n",
      "error on positive =  0.166666666667\n",
      "error on negative =  0.0923076923077\n",
      "weights:  distance\n",
      "error =  0.115789473684\n",
      "error on positive =  0.166666666667\n",
      "error on negative =  0.0923076923077\n"
     ]
    }
   ],
   "source": [
    "from sklearn import neighbors, datasets\n",
    "\n",
    "indices_of_test_sample = np.random.choice([True, False], len(all_inidices_of_samples), p = [fraction_of_test_samples, 1 - fraction_of_test_samples])\n",
    "target_vector = 2* backup_target - 1 \n",
    "train_matrix = unite_feature_matrix[~indices_of_test_sample,:]\n",
    "test_matrix = unite_feature_matrix[indices_of_test_sample,:]\n",
    "train_target = target_vector[~indices_of_test_sample].reshape(sum(~indices_of_test_sample),)\n",
    "test_target = target_vector[indices_of_test_sample].reshape(sum(indices_of_test_sample),)\n",
    "\n",
    "\n",
    "n_neighbors = 19\n",
    "for weights in ['uniform', 'distance']:\n",
    "    # we create an instance of Neighbours Classifier and fit the data.\n",
    "    clf = neighbors.KNeighborsClassifier(n_neighbors, weights=weights)\n",
    "    clf.fit(train_matrix, train_target)\n",
    "\n",
    "    predictions = clf.predict(np.c_[test_matrix])\n",
    "    print(\"weights: \", weights)\n",
    "    errors = predictions != test_target\n",
    "    print(\"error = \", sum(errors) / len(errors))\n",
    "    print(\"error on positive = \", sum(errors[test_target == max(test_target)]) / len(errors[test_target == max(test_target)]))\n",
    "    print(\"error on negative = \", sum(errors[test_target == min(test_target)]) / len(errors[test_target == min(test_target)]))\n"
   ]
  },
  {
   "cell_type": "code",
   "execution_count": 207,
   "metadata": {
    "collapsed": false
   },
   "outputs": [
    {
     "data": {
      "text/plain": [
       "(19, 0.15965823834129012)"
      ]
     },
     "execution_count": 207,
     "metadata": {},
     "output_type": "execute_result"
    }
   ],
   "source": [
    "from sklearn import neighbors, datasets\n",
    "\n",
    "\n",
    "\n",
    "h = .02  # step size in the mesh\n",
    "error = np.inf\n",
    "where_min = -1\n",
    "trials = 30\n",
    "\n",
    "for n_neighbors in 1 + np.arange(30):\n",
    "    for weights in ['uniform', 'distance']:\n",
    "        cumulative_error = 0\n",
    "        for trying in range(trials):\n",
    "            indices_of_test_sample = np.random.choice([True, False], len(all_inidices_of_samples), p = [fraction_of_test_samples, 1 - fraction_of_test_samples])\n",
    "            target_vector = 2* backup_target - 1 \n",
    "            train_matrix = unite_feature_matrix[~indices_of_test_sample,:]\n",
    "            test_matrix = unite_feature_matrix[indices_of_test_sample,:]\n",
    "            train_target = target_vector[~indices_of_test_sample].reshape(sum(~indices_of_test_sample),)\n",
    "            test_target = target_vector[indices_of_test_sample].reshape(sum(indices_of_test_sample),)\n",
    "            \n",
    "            # we create an instance of Neighbours Classifier and fit the data.\n",
    "            clf = neighbors.KNeighborsClassifier(n_neighbors, weights=weights)\n",
    "            clf.fit(train_matrix, train_target)\n",
    "\n",
    "            predictions = clf.predict(np.c_[test_matrix])\n",
    "            errors = predictions != test_target\n",
    "            \n",
    "            cumulative_error = cumulative_error + (sum(errors) / len(errors))\n",
    "        if cumulative_error / trials < error:\n",
    "            where_min = n_neighbors\n",
    "            error = cumulative_error / trials\n",
    "\n",
    "\n",
    "where_min, error"
   ]
  },
  {
   "cell_type": "code",
   "execution_count": 9,
   "metadata": {
    "collapsed": true
   },
   "outputs": [],
   "source": [
    "def levenstein_string_distance(source, target):\n",
    "    if len(source) < len(target):\n",
    "        return levenstein_string_distance(target, source)\n",
    "\n",
    "    # So now we have len(source) >= len(target).\n",
    "    if len(target) == 0:\n",
    "        return len(source)\n",
    "\n",
    "    # We call tuple() to force strings to be used as sequences\n",
    "    # ('c', 'a', 't', 's') - numpy uses them as values by default.\n",
    "    source = np.array(tuple(source))\n",
    "    target = np.array(tuple(target))\n",
    "\n",
    "    # We use a dynamic programming algorithm, but with the\n",
    "    # added optimization that we only need the last two rows\n",
    "    # of the matrix.\n",
    "    previous_row = np.arange(target.size + 1)\n",
    "    for s in source:\n",
    "        # Insertion (target grows longer than source):\n",
    "        current_row = previous_row + 1\n",
    "\n",
    "        # Substitution or matching:\n",
    "        # Target and source items are aligned, and either\n",
    "        # are different (cost of 1), or are the same (cost of 0).\n",
    "        current_row[1:] = np.minimum(\n",
    "                current_row[1:],\n",
    "                np.add(previous_row[:-1], target != s))\n",
    "\n",
    "        # Deletion (target grows shorter than source):\n",
    "        current_row[1:] = np.minimum(\n",
    "                current_row[1:],\n",
    "                current_row[0:-1] + 1)\n",
    "\n",
    "        previous_row = current_row\n",
    "\n",
    "    return previous_row[-1]"
   ]
  },
  {
   "cell_type": "code",
   "execution_count": 10,
   "metadata": {
    "collapsed": true
   },
   "outputs": [],
   "source": [
    "def distance_between_populations(population_first, population_second):\n",
    "    len_first, len_second = len(population_first), len(population_second)\n",
    "    # calculate sum of distances for all pairs of models: one from first population, the other from second\n",
    "    cumulative_distance = 0\n",
    "    for model_from_first in population_first:\n",
    "        for model_from_second in population_second:\n",
    "            cumulative_distance = cumulative_distance + levenshtein_distance(model_from_first, model_from_second)\n",
    "    cumulative_distance = cumulative_distance / (len_first * len_second)\n",
    "    return cumulative_distance"
   ]
  },
  {
   "cell_type": "code",
   "execution_count": 11,
   "metadata": {
    "collapsed": true
   },
   "outputs": [],
   "source": [
    "def get_simple_features_from_ts(number_of_file, type_of_ts, tokens_codes):\n",
    "    models = get_models_from_file(number_of_file, type_of_ts)\n",
    "    \n",
    "    primitive_frequences = np.zeros(len(tokens_codes))    \n",
    "\n",
    "    for model in models:\n",
    "        matr, encodings = dfs_search_on_handle(model)\n",
    "        primitive_frequences = encodings\n",
    "\n",
    "    return primitive_frequences.reshape(-1,1)\n",
    "    #return primitive_frequences.reshape(-1,1)"
   ]
  },
  {
   "cell_type": "code",
   "execution_count": 12,
   "metadata": {
    "collapsed": true
   },
   "outputs": [],
   "source": [
    "def create_matrix_of_codes_of_one_population(number_of_file, type_of_ts, tokens_codes):\n",
    "    codes = 'QWERTYUIOPASDFGHJKLZXCVBNM123456789/*-+=?!'\n",
    "    models = get_models_from_file(number_of_file, type_of_ts)\n",
    "    \n",
    "    matrix_representation = []    \n",
    "    for model in models:\n",
    "        matr, encodings = dfs_search_on_handle(model)\n",
    "        encodings = np.array(encodings)\n",
    "        if len(model) == 0:\n",
    "            break\n",
    "        matrix_representation.append(''.join(np.array(list(codes))[encodings]))\n",
    "\n",
    "    return matrix_representation\n",
    "    #return primitive_frequences.reshape(-1,1)"
   ]
  },
  {
   "cell_type": "code",
   "execution_count": 13,
   "metadata": {
    "collapsed": true
   },
   "outputs": [],
   "source": [
    "tokens_codes, _ = create_map_tokens_params()\n",
    "feature_matrices_of_ts = {label : [] for label in ts_labels}\n",
    "    \n",
    "for label in ts_labels:\n",
    "    for index in range(number_ts_pieces):\n",
    "        feature_matrices_of_ts[label].append(create_matrix_of_codes_of_one_population(index, label, tokens_codes))"
   ]
  },
  {
   "cell_type": "code",
   "execution_count": 65,
   "metadata": {
    "collapsed": false
   },
   "outputs": [
    {
     "name": "stdout",
     "output_type": "stream",
     "text": [
      "LPUYYMYHNTUM LPUYYMYHNTUM\n",
      "798.1615595817566\n"
     ]
    },
    {
     "data": {
      "text/plain": [
       "0"
      ]
     },
     "execution_count": 65,
     "metadata": {},
     "output_type": "execute_result"
    }
   ],
   "source": [
    "distances_between_segments = np.zeros((len(ts_labels) * number_ts_pieces, len(ts_labels) * number_ts_pieces))\n",
    "\n",
    "start = time.time()\n",
    "\n",
    "indices_vs_labels = list(enumerate(feature_matrices_of_ts))\n",
    "\n",
    "for ind_f in range(distances_between_segments.shape[0]):\n",
    "    for ind_s in range(distances_between_segments.shape[0]):\n",
    "        if ind_f % 20 == 0 and ind_s % 20 == 0:\n",
    "            #print(ind_f, ind_s)\n",
    "            pass\n",
    "        label_f = indices_vs_labels[ind_f // number_ts_pieces][1]\n",
    "        label_s = indices_vs_labels[ind_s // number_ts_pieces][1]\n",
    "        \n",
    "        population_f = feature_matrices_of_ts[label_f][ind_f % number_ts_pieces]\n",
    "        population_s = feature_matrices_of_ts[label_s][ind_s % number_ts_pieces]\n",
    "        \n",
    "        if ind_f <= ind_s:\n",
    "            if ind_f == 0 and ind_s == 0:\n",
    "                print(population_f[0], population_s[0])\n",
    "            distances_between_segments[ind_f][ind_s] = distance_between_populations(population_f, population_s)\n",
    "        else:\n",
    "            distances_between_segments[ind_f][ind_s] = distances_between_segments[ind_s][ind_f]\n",
    "            \n",
    "end = time.time()\n",
    "print(end - start)\n",
    "os.system('play --no-show-progress --null --channels 1 synth %s sine %f' % ( 1, 700))"
   ]
  },
  {
   "cell_type": "code",
   "execution_count": 15,
   "metadata": {
    "collapsed": true
   },
   "outputs": [],
   "source": [
    "def find_closest_elem(row_for_analysis, indices_to_search):\n",
    "    minim = np.Inf\n",
    "    posit = -1\n",
    "    for ind in indices_to_search:\n",
    "        if row_for_analysis[ind] < minim:\n",
    "            posit = ind\n",
    "            minim = row_for_analysis[ind]\n",
    "    return posit"
   ]
  },
  {
   "cell_type": "code",
   "execution_count": 29,
   "metadata": {
    "collapsed": false
   },
   "outputs": [
    {
     "data": {
      "text/plain": [
       "array([[  0.,  18.,  13.,   8.,  14.],\n",
       "       [ 18.,   0.,  18.,  19.,  17.],\n",
       "       [ 13.,  18.,   0.,  13.,  13.],\n",
       "       [  8.,  19.,  13.,   0.,  11.],\n",
       "       [ 14.,  17.,  13.,  11.,   0.]])"
      ]
     },
     "execution_count": 29,
     "metadata": {},
     "output_type": "execute_result"
    }
   ],
   "source": [
    "distances_between_segments[0:5, 0:5]"
   ]
  },
  {
   "cell_type": "code",
   "execution_count": 66,
   "metadata": {
    "collapsed": false
   },
   "outputs": [
    {
     "data": {
      "text/plain": [
       "array([[ 0.96136317,  0.98488255,  0.99291596],\n",
       "       [ 0.98488255,  0.99163329,  1.        ],\n",
       "       [ 0.99291596,  1.        ,  0.9866325 ]])"
      ]
     },
     "execution_count": 66,
     "metadata": {},
     "output_type": "execute_result"
    }
   ],
   "source": [
    "blocks_mat = np.empty((3,3))\n",
    "length_side = distances_between_segments.shape[0] // 3\n",
    "for i in range(3):\n",
    "    for j in range(3):\n",
    "        ul = i * length_side\n",
    "        ur = ul + length_side\n",
    "        dl = j * length_side\n",
    "        dr = dl + length_side\n",
    "        for k in np.arange(ul, ur, 1):\n",
    "            for q in np.arange(dl, dr, 1):\n",
    "                blocks_mat[i,j] += distances_between_segments[k,q]\n",
    "\n",
    "blocks_mat  / np.max(blocks_mat.reshape(-1,1))"
   ]
  },
  {
   "cell_type": "code",
   "execution_count": 34,
   "metadata": {
    "collapsed": false
   },
   "outputs": [
    {
     "data": {
      "text/plain": [
       "array([3, 4, 5, 6, 7])"
      ]
     },
     "execution_count": 34,
     "metadata": {},
     "output_type": "execute_result"
    }
   ],
   "source": [
    "np.arange(3,8,1)"
   ]
  },
  {
   "cell_type": "code",
   "execution_count": 16,
   "metadata": {
    "collapsed": true
   },
   "outputs": [],
   "source": [
    "fraction_of_test_samples = 0.3\n",
    "\n",
    "indices_of_test_sample = np.random.choice([True, False], number_ts_pieces, p = [fraction_of_test_samples, 1 - fraction_of_test_samples])\n",
    "indices_of_test_sample = np.arange(number_ts_pieces)[indices_of_test_sample]\n",
    "indices_to_search = np.setdiff1d(range(number_ts_pieces), indices_of_test_sample)\n",
    "indices_to_search = np.hstack((indices_to_search, indices_to_search + number_ts_pieces * np.ones(indices_to_search.shape)\n",
    "                               , indices_to_search + 2 * number_ts_pieces * np.ones(indices_to_search.shape)))\n",
    "responses = np.empty((3 * len(indices_of_test_sample), 1))"
   ]
  },
  {
   "cell_type": "code",
   "execution_count": 62,
   "metadata": {
    "collapsed": false
   },
   "outputs": [
    {
     "data": {
      "text/plain": [
       "10"
      ]
     },
     "execution_count": 62,
     "metadata": {},
     "output_type": "execute_result"
    }
   ],
   "source": [
    "indices_of_test_sample[3]"
   ]
  },
  {
   "cell_type": "code",
   "execution_count": 23,
   "metadata": {
    "collapsed": false
   },
   "outputs": [],
   "source": [
    "#np.savetxt('matrix_distances2.txt', distances_between_segments, fmt='%.5f', delimiter=',')"
   ]
  },
  {
   "cell_type": "code",
   "execution_count": 63,
   "metadata": {
    "collapsed": false
   },
   "outputs": [
    {
     "name": "stdout",
     "output_type": "stream",
     "text": [
      "[169, 22, 262, 157, 65]\n",
      "[ 8.70222222  9.01777778  9.15555556  9.32        9.32444444]\n"
     ]
    }
   ],
   "source": [
    "a = distances_between_segments[10,:]\n",
    "order_neighbors = sorted(indices_to_search, key = lambda x: a[x])\n",
    "print(order_neighbors[0:5])\n",
    "print(a[order_neighbors[0:5]])"
   ]
  },
  {
   "cell_type": "code",
   "execution_count": 67,
   "metadata": {
    "collapsed": false
   },
   "outputs": [
    {
     "name": "stdout",
     "output_type": "stream",
     "text": [
      "error =  [ 0.37333333]\n"
     ]
    },
    {
     "data": {
      "text/plain": [
       "array([[ 1.],\n",
       "       [ 0.],\n",
       "       [ 0.],\n",
       "       [ 0.],\n",
       "       [ 1.],\n",
       "       [ 0.],\n",
       "       [ 1.],\n",
       "       [ 1.],\n",
       "       [ 0.],\n",
       "       [ 0.],\n",
       "       [ 1.],\n",
       "       [ 0.],\n",
       "       [ 0.],\n",
       "       [ 0.],\n",
       "       [ 1.],\n",
       "       [ 0.],\n",
       "       [ 0.],\n",
       "       [ 1.],\n",
       "       [ 1.],\n",
       "       [ 1.],\n",
       "       [ 1.],\n",
       "       [ 1.],\n",
       "       [ 2.],\n",
       "       [ 1.],\n",
       "       [ 0.],\n",
       "       [ 2.],\n",
       "       [ 1.],\n",
       "       [ 1.],\n",
       "       [ 0.],\n",
       "       [ 0.],\n",
       "       [ 2.],\n",
       "       [ 1.],\n",
       "       [ 1.],\n",
       "       [ 0.],\n",
       "       [ 2.],\n",
       "       [ 1.],\n",
       "       [ 2.],\n",
       "       [ 0.],\n",
       "       [ 1.],\n",
       "       [ 2.],\n",
       "       [ 1.],\n",
       "       [ 1.],\n",
       "       [ 1.],\n",
       "       [ 1.],\n",
       "       [ 2.],\n",
       "       [ 1.],\n",
       "       [ 2.],\n",
       "       [ 1.],\n",
       "       [ 1.],\n",
       "       [ 2.],\n",
       "       [ 2.],\n",
       "       [ 2.],\n",
       "       [ 2.],\n",
       "       [ 1.],\n",
       "       [ 2.],\n",
       "       [ 2.],\n",
       "       [ 2.],\n",
       "       [ 2.],\n",
       "       [ 2.],\n",
       "       [ 2.],\n",
       "       [ 2.],\n",
       "       [ 2.],\n",
       "       [ 2.],\n",
       "       [ 2.],\n",
       "       [ 2.],\n",
       "       [ 1.],\n",
       "       [ 0.],\n",
       "       [ 2.],\n",
       "       [ 2.],\n",
       "       [ 2.],\n",
       "       [ 2.],\n",
       "       [ 2.],\n",
       "       [ 2.],\n",
       "       [ 2.],\n",
       "       [ 2.]])"
      ]
     },
     "execution_count": 67,
     "metadata": {},
     "output_type": "execute_result"
    }
   ],
   "source": [
    "indices_to_search = np.array(indices_to_search, dtype = int)\n",
    "for ind_label in range(3):\n",
    "    for index_of_index, index in enumerate(indices_of_test_sample):\n",
    "        index_in_matrix  = ind_label * number_ts_pieces + index\n",
    "        row_for_analysis = distances_between_segments[index_in_matrix,:] \n",
    "            \n",
    "        #nearest_neighbor_label = int(find_closest_elem(row_for_analysis, indices_to_search) // number_ts_pieces)\n",
    "        nearest_neighbor_label = indices_to_search[np.argmin(row_for_analysis[indices_to_search])] // number_ts_pieces        \n",
    "        responses[len(indices_of_test_sample) * ind_label + index_of_index] = nearest_neighbor_label\n",
    "\n",
    "true_responses = np.zeros((3 * len(indices_of_test_sample), 1))\n",
    "true_responses[len(indices_of_test_sample):2 * len(indices_of_test_sample)] = np.ones((len(indices_of_test_sample), 1))\n",
    "true_responses[2 * len(indices_of_test_sample):3 * len(indices_of_test_sample)] = 2 * np.ones((len(indices_of_test_sample), 1))\n",
    "\n",
    "print(\"error = \", sum(responses != true_responses) / len(true_responses))\n",
    "responses"
   ]
  },
  {
   "cell_type": "code",
   "execution_count": 92,
   "metadata": {
    "collapsed": false
   },
   "outputs": [
    {
     "name": "stdout",
     "output_type": "stream",
     "text": [
      "50\n",
      "0.5323779582977295\n"
     ]
    }
   ],
   "source": [
    "population_f = feature_matrices_of_ts['chest_volume']\n",
    "population_s = feature_matrices_of_ts['heart_rate']\n",
    "print(len(population_f))\n",
    "import time\n",
    "start = time.time()\n",
    "distance_between_populations(population_f[0], population_s[0])\n",
    "print(time.time() - start)\n"
   ]
  },
  {
   "cell_type": "code",
   "execution_count": 109,
   "metadata": {
    "collapsed": false
   },
   "outputs": [
    {
     "data": {
      "text/plain": [
       "0"
      ]
     },
     "execution_count": 109,
     "metadata": {},
     "output_type": "execute_result"
    }
   ],
   "source": [
    "100 % 2"
   ]
  },
  {
   "cell_type": "code",
   "execution_count": 50,
   "metadata": {
    "collapsed": false
   },
   "outputs": [
    {
     "name": "stdout",
     "output_type": "stream",
     "text": [
      "0.673333333333\n"
     ]
    },
    {
     "data": {
      "text/plain": [
       "array([0, 0, 0, 2, 0, 0, 2, 0, 2, 2, 0, 0, 2, 2, 0, 2, 2, 2, 0, 2, 0, 0, 2,\n",
       "       0, 0, 0, 0, 0, 0, 1, 2, 0, 0, 2, 0, 0, 0, 0, 0, 0, 0, 2, 0, 0, 0, 0,\n",
       "       1, 0, 0, 0, 0, 2, 2, 0, 0, 0, 0, 0, 0, 0, 0, 0, 0, 2, 0, 1, 0, 2, 0,\n",
       "       0, 0, 0, 0, 0, 0, 2, 0, 0, 0, 0, 0, 2, 2, 0, 2, 0, 0, 2, 0, 2, 0, 2,\n",
       "       0, 2, 2, 0, 0, 0, 2, 0, 2, 0, 2, 2, 0, 2, 0, 2, 0, 0, 0, 2, 0, 2, 0,\n",
       "       0, 0, 2, 0, 0, 0, 2, 0, 0, 0, 2, 0, 1, 0, 0, 2, 0, 0, 0, 1, 2, 0, 0,\n",
       "       0, 0, 1, 0, 0, 0, 0, 0, 0, 2, 0, 2], dtype=int32)"
      ]
     },
     "execution_count": 50,
     "metadata": {},
     "output_type": "execute_result"
    }
   ],
   "source": [
    "random_state = 50\n",
    "clusters = KMeans(n_clusters=3, random_state=random_state,n_init = 10).fit_predict(distances_between_segments)\n",
    "true_clusters = np.zeros(len(ts_labels) * number_ts_pieces)\n",
    "for ind,_ in enumerate(ts_labels):\n",
    "    true_clusters[ind * number_ts_pieces:(ind + 1) * number_ts_pieces] = ind * np.ones(number_ts_pieces)\n",
    "print(sum(clusters != true_clusters) / len(clusters))\n",
    "clusters"
   ]
  },
  {
   "cell_type": "code",
   "execution_count": 51,
   "metadata": {
    "collapsed": false
   },
   "outputs": [
    {
     "name": "stdout",
     "output_type": "stream",
     "text": [
      "0.666666666667\n"
     ]
    },
    {
     "data": {
      "text/plain": [
       "array([0, 0, 0, 1, 0, 0, 1, 0, 1, 1, 0, 0, 1, 1, 1, 1, 1, 1, 0, 1, 0, 0, 1,\n",
       "       0, 0, 0, 0, 0, 0, 2, 1, 0, 0, 1, 0, 0, 0, 0, 0, 0, 0, 1, 0, 0, 0, 0,\n",
       "       2, 0, 0, 0, 0, 1, 1, 0, 0, 0, 0, 0, 0, 0, 0, 0, 0, 1, 0, 2, 0, 1, 0,\n",
       "       0, 0, 0, 0, 0, 0, 1, 0, 0, 0, 0, 0, 1, 1, 0, 1, 0, 0, 1, 0, 1, 0, 1,\n",
       "       0, 1, 1, 0, 0, 0, 1, 0, 1, 0, 1, 1, 0, 1, 1, 1, 0, 0, 0, 1, 0, 1, 0,\n",
       "       0, 0, 1, 0, 0, 0, 1, 0, 0, 0, 1, 0, 2, 0, 0, 1, 0, 0, 0, 2, 1, 0, 0,\n",
       "       0, 0, 2, 0, 0, 0, 0, 0, 0, 1, 0, 1])"
      ]
     },
     "execution_count": 51,
     "metadata": {},
     "output_type": "execute_result"
    }
   ],
   "source": [
    "random_state = 170\n",
    "clusters = AgglomerativeClustering(n_clusters=3).fit_predict(distances_between_segments)\n",
    "print(sum(clusters != true_clusters) / len(clusters))\n",
    "clusters"
   ]
  },
  {
   "cell_type": "code",
   "execution_count": null,
   "metadata": {
    "collapsed": true
   },
   "outputs": [],
   "source": [
    "fraction_of_test_samples = 0.3\n",
    "\n",
    "test_indices = np.random.choice([True, False], number_ts_pieces, p = [fraction_of_test_samples, 1 - fraction_of_test_samples])\n",
    "target_vector = 2* target_vector - 1 \n",
    "\n",
    "train_matrix = unite_feature_matrix[~indices_of_test_sample,:]\n",
    "test_matrix = unite_feature_matrix[indices_of_test_sample,:]\n",
    "train_target = target_vector[~indices_of_test_sample].reshape(sum(~indices_of_test_sample),)\n",
    "test_target = target_vector[indices_of_test_sample].reshape(sum(indices_of_test_sample),)\n"
   ]
  }
 ],
 "metadata": {
  "kernelspec": {
   "display_name": "Python 3",
   "language": "python",
   "name": "python3"
  },
  "language_info": {
   "codemirror_mode": {
    "name": "ipython",
    "version": 3
   },
   "file_extension": ".py",
   "mimetype": "text/x-python",
   "name": "python",
   "nbconvert_exporter": "python",
   "pygments_lexer": "ipython3",
   "version": "3.4.2"
  }
 },
 "nbformat": 4,
 "nbformat_minor": 0
}
