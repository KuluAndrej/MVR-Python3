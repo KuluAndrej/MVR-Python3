{
 "cells": [
  {
   "cell_type": "markdown",
   "metadata": {},
   "source": [
    "** Import block **\n",
    "==========\n",
    "\n",
    "Take a notice of cells in the Appendix.\n",
    "Some sells below depend on these ones."
   ]
  },
  {
   "cell_type": "code",
   "execution_count": 1,
   "metadata": {
    "collapsed": false
   },
   "outputs": [],
   "source": [
    "import os, os.path, re, imp\n",
    "import numpy as np\n",
    "import time\n",
    "\n",
    "from sklearn.preprocessing import normalize, scale, MinMaxScaler\n",
    "from sklearn.cluster import *\n",
    "\n",
    "from collections import Counter\n",
    "from sys import getsizeof\n",
    "\n",
    "from code.modules.levenshtein import levenshtein_distance\n",
    "from code.modules.model_simplifier_by_rules import simplify_by_rules\n",
    "from code.modules.model_reconstructer import model_reconstruct\n",
    "from code.modules.isomorphism_distance import isomorphism_distance\n",
    "import code.modules.patterns_extracter as extract_patterns\n",
    "import code.modules.extract_model_tokens_encodings as extract_tokens_module\n",
    "\n",
    "import code.input_output.MVRAttributesExtraction as MVRAttributesExtraction\n",
    "import code.input_output.ReadTokensInfoForOptimization as ReadTokensInfoForOptimization\n",
    "import code.input_output.DataLoader as DataLoader\n",
    "import code.data_processing.SegmentatorTS as SegmentatorTS\n",
    "import code.data_processing.DataPreprocesser as DataPreprocesser\n",
    "\n",
    "import matplotlib\n",
    "import matplotlib.pyplot as plt\n",
    "\n",
    "%matplotlib inline"
   ]
  },
  {
   "cell_type": "code",
   "execution_count": 13,
   "metadata": {
    "collapsed": true
   },
   "outputs": [],
   "source": [
    "def get_population_from_file(filename):\n",
    "    if not filename in filenames:\n",
    "        print('Error:', filename, 'is not presented in the directory')\n",
    "    \n",
    "    lines_file_content = []\n",
    "    last_non_empty_str = -1\n",
    "\n",
    "    with open(files_path + filename, 'r') as f_in:\n",
    "        lines_file_content = (line.rstrip() for line in f_in) # All lines including the blank ones\n",
    "        non_empty_strings_inds = [ind for ind,line in enumerate(lines_file_content) if line] \n",
    "        last_non_empty_str = non_empty_strings_inds[-1]\n",
    "\n",
    "    lines_file_content = open(files_path + filename, 'r').readlines()[0:last_non_empty_str+1]\n",
    "    population = np.empty(len(lines_file_content) // 2, dtype = object)\n",
    "    \n",
    "    \"\"\"for ind, entity in enumerate(lines_file_content):          \n",
    "        model_name = entity.split(' ')[-1]\n",
    "        population[ind] = re.sub(r'X\\[(\\d+)\\]', r'x\\1', model_name.strip())\"\"\"\n",
    "    for ind, entity in enumerate(lines_file_content):          \n",
    "        if ind % 2 == 0:\n",
    "            model_name = entity.split(' ')[-1]\n",
    "            population[ind // 2] = model_name.strip()\n",
    "                                              \n",
    "                                          \n",
    "    return population"
   ]
  },
  {
   "cell_type": "code",
   "execution_count": 14,
   "metadata": {
    "collapsed": false
   },
   "outputs": [
    {
     "name": "stdout",
     "output_type": "stream",
     "text": [
      "[ 'times2_(parabola_(hypot_(sinha_(x0),frac2_(parabola_(x0),hypot_(x0,frac2_(x0,x0))))),sinha_(parabola_(expl_(sinha_(x0)))))'\n",
      " 'times2_(parabola_(parabola_(times2_(sinha_(sinc_(x0)),normal_(x0)))),parabola_(sinha_(x0)))'\n",
      " 'frac2_(parabola_(times2_(lnl_(x0),frac2_(frac2_(x0,x0),expl_(sinla_(sinla_(neg_(normal_(x0)))))))),expl_(sinha_(x0)))'\n",
      " 'frac2_(parabola_(times2_(sinha_(x0),frac2_(sinha_(x0),expl_(sinla_(sinha_(x0)))))),expl_(sinha_(x0)))'\n",
      " 'times2_(parabola_(sinla_(neg_(parabola_(x0)))),parabola_(sinha_(sinc_(x0))))'\n",
      " 'times2_(parabola_(hypot_(frac2_(x0,x0),times2_(parabola_(sinc_(x0)),sinha_(x0)))),parabola_(sinha_(x0)))'\n",
      " 'times2_(parabola_(hypot_(frac2_(x0,x0),times2_(parabola_(sinc_(neg_(x0))),sinha_(x0)))),parabola_(sinha_(x0)))'\n",
      " 'times2_(parabola_(parabola_(sinha_(sinc_(x0)))),parabola_(sinha_(x0)))'\n",
      " 'times2_(parabola_(times2_(sinha_(sinc_(x0)),normal_(x0))),parabola_(sinha_(x0)))'\n",
      " 'frac2_(parabola_(times2_(sinha_(sinc_(x0)),frac2_(x0,expl_(sinla_(sinha_(x0)))))),expl_(sinha_(x0)))'\n",
      " 'frac2_(sinla_(sinha_(x0)),times2_(parabola_(hypot_(x0,expl_(x0))),parabola_(sinha_(normal_(x0)))))'\n",
      " 'frac2_(parabola_(times2_(sinha_(x0),hypot_(frac2_(x0,x0),times2_(parabola_(sinc_(neg_(x0))),sinha_(x0))))),expl_(sinha_(x0)))'\n",
      " 'times2_(parabola_(times2_(sinha_(sinc_(x0)),frac2_(x0,x0))),parabola_(sinha_(x0)))'\n",
      " 'frac2_(parabola_(times2_(sinha_(x0),frac2_(x0,expl_(sinla_(sinha_(x0)))))),expl_(sinha_(x0)))'\n",
      " 'times2_(parabola_(sinla_(sinc_(x0))),parabola_(sinha_(x0)))'\n",
      " 'times2_(parabola_(hypot_(frac2_(x0,x0),times2_(parabola_(sinc_(neg_(normal_(x0)))),sinha_(x0)))),parabola_(sinha_(x0)))'\n",
      " 'frac2_(sinc_(sinla_(parabola_(times2_(expl_(sinc_(x0)),normal_(x0))))),expl_(sinha_(x0)))'\n",
      " 'frac2_(sinla_(sinha_(x0)),times2_(parabola_(hypot_(x0,expl_(x0))),parabola_(sinha_(x0))))'\n",
      " 'times2_(parabola_(times2_(expl_(times2_(x0,x0)),normal_(x0))),parabola_(sinha_(x0)))'\n",
      " 'frac2_(parabola_(times2_(lnl_(x0),frac2_(frac2_(x0,x0),expl_(sinla_(sinla_(x0)))))),expl_(sinha_(x0)))'\n",
      " 'times2_(parabola_(times2_(normal_(x0),neg_(x0))),parabola_(sinha_(x0)))'\n",
      " 'times2_(parabola_(times2_(normal_(x0),neg_(x0))),parabola_(sinha_(neg_(x0))))'\n",
      " 'times2_(parabola_(parabola_(x0)),parabola_(times2_(parabola_(x0),parabola_(sinha_(x0)))))'\n",
      " 'frac2_(sinla_(sinha_(x0)),times2_(parabola_(hypot_(x0,frac2_(x0,x0))),parabola_(sinha_(normal_(x0)))))'\n",
      " 'frac2_(sinla_(sinha_(x0)),times2_(parabola_(hypot_(expl_(x0),frac2_(x0,x0))),parabola_(sinha_(normal_(x0)))))'\n",
      " 'linear_(sinha_(neg_(plus2_(x0,x0))))'\n",
      " 'frac2_(sinc_(sinla_(lnl_(x0))),expl_(normal_(parabola_(sinla_(x0)))))'\n",
      " 'times2_(parabola_(hypot_(frac2_(x0,x0),times2_(parabola_(sinc_(neg_(x0))),sinla_(neg_(sinha_(x0)))))),parabola_(sinha_(x0)))'\n",
      " 'times2_(parabola_(sinc_(x0)),parabola_(sinha_(normal_(x0))))'\n",
      " 'times2_(parabola_(parabola_(sinha_(x0))),parabola_(sinha_(x0)))'\n",
      " 'times2_(sinha_(times2_(x0,sinha_(x0))),lnl_(sinha_(x0)))'\n",
      " 'linear_(sinha_(neg_(sinla_(neg_(sinha_(x0))))))'\n",
      " 'times2_(parabola_(hypot_(x0,frac2_(x0,x0))),parabola_(times2_(parabola_(hypot_(x0,frac2_(x0,x0))),parabola_(sinha_(x0)))))'\n",
      " 'frac2_(sinc_(sinla_(normal_(x0))),expl_(sinha_(x0)))'\n",
      " 'times2_(parabola_(parabola_(x0)),parabola_(sinha_(x0)))']\n"
     ]
    },
    {
     "data": {
      "text/plain": [
       "'parabola_(hypot_(,bump_(,bump_)))&bump_(parabola_(expl_))&times2_(parabola_(hypot_(,bump_(,bump_()))),bump_(parabola_(expl_())))'"
      ]
     },
     "execution_count": 14,
     "metadata": {},
     "output_type": "execute_result"
    }
   ],
   "source": [
    "l = get_population_from_file(\"chest_volume_1.txt\")\n",
    "print(l)\n",
    "extract_patterns.extract_patterns(l[0])"
   ]
  },
  {
   "cell_type": "code",
   "execution_count": 3,
   "metadata": {
    "collapsed": true
   },
   "outputs": [],
   "source": [
    "config = MVRAttributesExtraction.extract_config()"
   ]
  },
  {
   "cell_type": "code",
   "execution_count": 4,
   "metadata": {
    "collapsed": false
   },
   "outputs": [
    {
     "data": {
      "text/plain": [
       "'/data/data_to_fit.txt'"
      ]
     },
     "execution_count": 4,
     "metadata": {},
     "output_type": "execute_result"
    }
   ],
   "source": [
    "from configparser import ConfigParser\n",
    "parser = ConfigParser()\n",
    "parser.read_dict(config)\n",
    "parser[\"data_extraction\"][\"dataset_filename\"] = 'try'\n",
    "config[\"data_extraction\"][\"dataset_filename\"]"
   ]
  },
  {
   "cell_type": "code",
   "execution_count": 2,
   "metadata": {
    "collapsed": false
   },
   "outputs": [],
   "source": [
    "files_path = 'populations/collected_models21/'\n",
    "#ts_labels = ['chest_volume', 'heart_rate', 'oxygen_concentration', 'open_apple']\n",
    "ts_labels = sorted(['open_apple', 'heart_rate'])\n",
    "\n",
    "number_ts_pieces = 83\n",
    "number_of_retrieved_models = None\n",
    "tokens_which_param_interest = ['sinc_','sinla_','sinha_']\n",
    "\n",
    "def atoi(text):\n",
    "    return int(text) if text.isdigit() else text\n",
    "def natural_keys(text):    \n",
    "    return [ atoi(c) for c in re.split('(\\d+)', text) ]\n",
    "filenames = sorted(os.listdir(files_path), key=natural_keys)"
   ]
  },
  {
   "cell_type": "markdown",
   "metadata": {},
   "source": [
    "** Trivial features creation**\n",
    "=="
   ]
  },
  {
   "cell_type": "code",
   "execution_count": 27,
   "metadata": {
    "collapsed": false
   },
   "outputs": [
    {
     "data": {
      "text/plain": [
       "(166, 15)"
      ]
     },
     "execution_count": 27,
     "metadata": {},
     "output_type": "execute_result"
    }
   ],
   "source": [
    "tokens_codes, _ = create_map_tokens_params('data/tokensInterest.txt')\n",
    "feature_matrices_of_ts = {label : np.zeros((number_ts_pieces, len(tokens_codes) - 1)) for label in ts_labels}\n",
    "\n",
    "for label in ts_labels:\n",
    "    for index in range(number_ts_pieces):\n",
    "        feature_matrices_of_ts[label][index,:] = get_simple_features_from_segment_of_ts(index, label, spec_numb_models = 3)[:,0]\n",
    "# feature_matrices_of_ts = {label : scale(feature_matrices_of_ts[label].T) for label in ts_labels}          \n",
    "unite_feature_matrix = np.vstack((feature_matrices_of_ts[label] for label in ts_labels))\n",
    "\n",
    "# nstr_fts = nonstructural features\n",
    "# trv      = only trivial\n",
    "# tr_fts   = features build on the tree representation (labels of nodes are not treated)\n",
    "# av_hgt   = average height of tokens\n",
    "\n",
    "regimes = 'nstr_fts', 'trv', 'nstr_fts + tr_fts', 'tr_fts + av_hgt'\n",
    "regime = regimes[1]\n",
    "\n",
    "if regime == 'nstr_fts':\n",
    "    unite_feature_matrix = np.concatenate((unite_feature_matrix, create_min_max_features()), axis = 1)\n",
    "    unite_feature_matrix_backup = unite_feature_matrix\n",
    "elif regime == 'trv':\n",
    "    unite_feature_matrix_backup = unite_feature_matrix\n",
    "elif regime == 'nstr_fts + tr_fts':\n",
    "    unite_feature_matrix = np.concatenate((unite_feature_matrix, create_min_max_features(), create_tree_features_for_all_labels()), axis = 1)\n",
    "    unite_feature_matrix_backup = unite_feature_matrix\n",
    "elif regime == 'tr_fts + av_hgt':\n",
    "    unite_feature_matrix = np.concatenate((unite_feature_matrix, \n",
    "                                           create_tree_features_for_all_labels(),\n",
    "                                           create_averaged_height_vs_tokens_for_all_labels()), \n",
    "                                           axis = 1)\n",
    "    unite_feature_matrix_backup = unite_feature_matrix\n",
    "unite_feature_matrix.shape"
   ]
  },
  {
   "cell_type": "markdown",
   "metadata": {},
   "source": [
    "** Features on parameters of superpositions **\n",
    "=="
   ]
  },
  {
   "cell_type": "code",
   "execution_count": null,
   "metadata": {
    "collapsed": true
   },
   "outputs": [],
   "source": [
    "tokens_codes, tokens_params = create_map_tokens_params()\n",
    "total_num_of_params         = sum(tokens_params.values())\n",
    "    \n",
    "feature_matrices_of_ts_ext = {label : np.zeros((number_ts_pieces, total_num_of_params)) for label in ts_labels}\n",
    "\n",
    "for label in ts_labels:\n",
    "    for index in range(number_ts_pieces):\n",
    "        feature_matrices_of_ts_ext[label][index,:] = get_param_features_from_segment_of_ts(index, label, spec_numb_models=None)[:,0]\n",
    "unite_feature_matrix_add = np.vstack((feature_matrices_of_ts_ext[label] for label in ts_labels))\n",
    "unite_feature_matrix = np.hstack((unite_feature_matrix_backup, unite_feature_matrix_add)) \n",
    "unite_feature_matrix_param_backup = unite_feature_matrix\n",
    "unite_feature_matrix.shape"
   ]
  },
  {
   "cell_type": "code",
   "execution_count": 71,
   "metadata": {
    "collapsed": false
   },
   "outputs": [
    {
     "data": {
      "text/plain": [
       "(152, 39)"
      ]
     },
     "execution_count": 71,
     "metadata": {},
     "output_type": "execute_result"
    }
   ],
   "source": [
    "indices_of_params_interesting_tokens = get_indices_of_params_interesting_tokens(tokens_which_param_interest)\n",
    "unite_feature_matrix_add_new = np.array([unite_feature_matrix_add[:,ind] for ind in indices_of_params_interesting_tokens])\n",
    "unite_feature_matrix_add_new = unite_feature_matrix_add_new.T\n",
    "\n",
    "unite_feature_matrix = np.hstack((unite_feature_matrix_backup, unite_feature_matrix_add_new)) \n",
    "unite_feature_matrix_param_backup = unite_feature_matrix\n",
    "unite_feature_matrix.shape"
   ]
  },
  {
   "cell_type": "markdown",
   "metadata": {},
   "source": [
    "** Pattern features **\n",
    "=="
   ]
  },
  {
   "cell_type": "code",
   "execution_count": 34,
   "metadata": {
    "collapsed": false
   },
   "outputs": [
    {
     "data": {
      "text/plain": [
       "(166, 3130)"
      ]
     },
     "execution_count": 34,
     "metadata": {},
     "output_type": "execute_result"
    }
   ],
   "source": [
    "regime = 'unique'\n",
    "countered_patterns_dict = {label : get_countered_useful_patterns(label,desired_number_of_patterns=3000,regime=regime) for label in ts_labels}\n",
    "useful_patterns_dict = {label : sorted(countered_patterns_dict[label].keys()) for label in ts_labels}\n",
    "\n",
    "useful_patterns = [useful_patterns_dict[label] for label in ts_labels]\n",
    "#useful_patterns_list = set.difference(*[set(useful_patterns_dict[label]) for label in ts_labels])\n",
    "regimes = ['union', 'diff']\n",
    "chosen_regime = regimes[1]\n",
    "if chosen_regime == 'union':\n",
    "    useful_patterns_list = set([item for sublist in useful_patterns for item in sublist])\n",
    "elif chosen_regime == 'diff':\n",
    "    useful_patterns_list = set(useful_patterns_dict[ts_labels[0]]).difference(set(useful_patterns_dict[ts_labels[1]]))\n",
    "    useful_patterns_list = useful_patterns_list.union(set(useful_patterns_dict[ts_labels[1]]).difference(set(useful_patterns_dict[ts_labels[0]])) )\n",
    "\n",
    "#print(useful_patterns_list)\n",
    "feature_matrices_of_ts = {label : np.zeros((number_ts_pieces, len(useful_patterns_list))) for label in ts_labels}\n",
    "\n",
    "for label in ts_labels:\n",
    "    for index in range(number_ts_pieces):\n",
    "        feature_matrices_of_ts[label][index,:] = \\\n",
    "        get_features_patterns_population(get_population_from_file(create_filename(label,index+1)),list(useful_patterns_list), regime)[:,0]\n",
    "#unite_feature_matrix_add = np.vstack((feature_matrices_of_ts_ext[label] for label in ts_labels))\n",
    "unite_feature_matrix_add = np.vstack((feature_matrices_of_ts[label] for label in ts_labels))\n",
    "generated_features = ['all', 'with_params', 'with_trivial', 'only_patterns']\n",
    "regime_features = generated_features[2]\n",
    "\n",
    "\n",
    "if regime_features == 'all':\n",
    "    unite_feature_matrix = np.hstack((unite_feature_matrix, unite_feature_matrix_add))\n",
    "elif regime_features == 'with_trivial':\n",
    "    unite_feature_matrix = np.hstack((unite_feature_matrix_backup, unite_feature_matrix_add))     \n",
    "elif regime_features == 'only_patterns':\n",
    "    unite_feature_matrix = unite_feature_matrix_add\n",
    "elif regime_features == 'with_params':\n",
    "    unite_feature_matrix = np.hstack((unite_feature_matrix_param_backup, unite_feature_matrix_add))     \n",
    "\n",
    "unite_feature_matrix.shape"
   ]
  },
  {
   "cell_type": "code",
   "execution_count": 35,
   "metadata": {
    "collapsed": false
   },
   "outputs": [
    {
     "name": "stdout",
     "output_type": "stream",
     "text": [
      "error =  0.058262945918\n",
      "error on positive =  0.0218594218647\n",
      "error on negative =  0.0714383835119\n"
     ]
    },
    {
     "name": "stderr",
     "output_type": "stream",
     "text": [
      "/usr/local/lib/python3.4/dist-packages/ipykernel/__main__.py:63: RuntimeWarning: invalid value encountered in true_divide\n"
     ]
    }
   ],
   "source": [
    "ts_labels = list(feature_matrices_of_ts.keys())\n",
    "ts_labels_in_my_own_order = ['chest_volume', 'heart_rate', 'oxygen_concentration', 'open_apple']\n",
    "fraction_of_test_samples = 0.1\n",
    "\n",
    "which_label_is_positive = ts_labels_in_my_own_order[3]\n",
    "target_vector = np.zeros((unite_feature_matrix.shape[0],1))\n",
    "ts_labels_in_order_from_dictionary = [label for label in feature_matrices_of_ts]\n",
    "index_of_label_positive = ts_labels_in_order_from_dictionary.index(which_label_is_positive)\n",
    "#print('index_of_label_positive = ', index_of_label_positive)\n",
    "all_inidices_of_samples = np.arange(target_vector.shape[0])\n",
    "positive_indices_samples = number_ts_pieces * index_of_label_positive + np.arange(number_ts_pieces)\n",
    "negative_positive_samples = [ind for ind in all_inidices_of_samples if not ind in positive_indices_samples]\n",
    "target_vector[number_ts_pieces * index_of_label_positive:number_ts_pieces * (index_of_label_positive + 1)] = np.ones((number_ts_pieces,1))\n",
    "backup_target = target_vector\n",
    "\n",
    "\n",
    "\n",
    "vector_mistakes_segments = np.zeros(target_vector.shape)\n",
    "matrix_mutual_interferences = np.zeros((vector_mistakes_segments.size, vector_mistakes_segments.size))\n",
    "vector_occurences_segments = np.zeros(target_vector.shape)\n",
    "matrix_occurences_mutual = np.zeros(matrix_mutual_interferences.shape)\n",
    "\n",
    "for ind in range(matrix_mutual_interferences.shape[0]):\n",
    "    matrix_occurences_mutual[ind,ind] = 0\n",
    "    \n",
    "from sklearn.svm import SVC\n",
    "trials = 500\n",
    "cumulative_error = 0\n",
    "cumulative_error_pos = 0\n",
    "cumulative_error_neg = 0\n",
    "\n",
    "for trying in range(trials):\n",
    "    indices_of_test_sample = np.random.choice([True, False], len(all_inidices_of_samples), p = [fraction_of_test_samples, 1 - fraction_of_test_samples])\n",
    "    target_vector = 2* backup_target - 1 \n",
    "    train_matrix = unite_feature_matrix[~indices_of_test_sample,:]\n",
    "    test_matrix = unite_feature_matrix[indices_of_test_sample,:]\n",
    "    train_target = target_vector[~indices_of_test_sample].reshape(sum(~indices_of_test_sample),)\n",
    "    test_target = target_vector[indices_of_test_sample].reshape(sum(indices_of_test_sample),)\n",
    "    \n",
    "    \n",
    "            \n",
    "    clf = SVC(kernel='linear')\n",
    "    clf.fit(train_matrix, train_target) \n",
    "    \n",
    "    predictions = clf.predict(test_matrix)\n",
    "    errors = predictions != test_target\n",
    "    \n",
    "    renew_measurements_errors(vector_mistakes_segments, matrix_mutual_interferences, vector_occurences_segments, matrix_occurences_mutual, indices_of_test_sample, errors)\n",
    "    \n",
    "    cumulative_error += sum(errors) / len(errors)\n",
    "    cumulative_error_pos += sum(errors[test_target == max(test_target)]) / len(errors[test_target == max(test_target)])\n",
    "    cumulative_error_neg += sum(errors[test_target == min(test_target)]) / len(errors[test_target == min(test_target)])\n",
    "\n",
    "cumulative_error /= trials\n",
    "cumulative_error_pos /= trials\n",
    "cumulative_error_neg /= trials\n",
    "\n",
    "print(\"error = \", cumulative_error)\n",
    "print(\"error on positive = \", cumulative_error_pos)\n",
    "print(\"error on negative = \", cumulative_error_neg)\n",
    "\n",
    "vector_mistakes_segments    = vector_mistakes_segments / vector_occurences_segments\n",
    "matrix_mutual_interferences = matrix_mutual_interferences / matrix_occurences_mutual\n",
    "\n",
    "#os.system('play --no-show-progress --null --channels 1 synth %s sine %f' % ( 1, 700))"
   ]
  },
  {
   "cell_type": "code",
   "execution_count": 78,
   "metadata": {
    "collapsed": false
   },
   "outputs": [
    {
     "name": "stdout",
     "output_type": "stream",
     "text": [
      "[ 16  19  36  52  58  60  66  98 134 149 118  87  42  62  47 137  81  85\n",
      "  44  50  35  45 151  26 141 136 107  77  63  27  61  41  94   5 109 108\n",
      "  56  39 132 115 131  89 147 101 120  70 111  54 140  86  95  80  55  76\n",
      "  13 139  10  65  21 153  82  97  49  64  74   1   2   3   4   6   7   8\n",
      "   9  11  12  14  15  17  18  20  22  23  24  25  28  29  30  31  32  33\n",
      "  34  37  38  40  43  46  48  51  53  57  59  67  68  69  71  72  73  75\n",
      "  78  79  83  84  88  90  91  92  93  96  99 100 102 103 104 105 106 110\n",
      " 112 113 114 116 117 119 121 122 123 124 125 126 127 128 129 130 133 135\n",
      " 138 142 143 144 145 146 148 150 152 154]\n"
     ]
    }
   ],
   "source": [
    "indices = list(range(1,vector_mistakes_segments.size + 1))\n",
    "hardest_indices = np.array(sorted(indices, key = lambda x: -vector_mistakes_segments[x-1]), dtype = int).T\n",
    "print(hardest_indices)\n",
    "hardest_indices = hardest_indices - 1"
   ]
  },
  {
   "cell_type": "code",
   "execution_count": 58,
   "metadata": {
    "collapsed": false
   },
   "outputs": [
    {
     "data": {
      "text/plain": [
       "['heart_rate', 'open_apple']"
      ]
     },
     "execution_count": 58,
     "metadata": {},
     "output_type": "execute_result"
    }
   ],
   "source": [
    "ts_labels"
   ]
  },
  {
   "cell_type": "code",
   "execution_count": 129,
   "metadata": {
    "collapsed": false
   },
   "outputs": [
    {
     "ename": "IndexError",
     "evalue": "index 200 is out of bounds for axis 0 with size 200",
     "output_type": "error",
     "traceback": [
      "\u001b[1;31m---------------------------------------------------------------------------\u001b[0m",
      "\u001b[1;31mIndexError\u001b[0m                                Traceback (most recent call last)",
      "\u001b[1;32m<ipython-input-129-64f3848fb5de>\u001b[0m in \u001b[0;36m<module>\u001b[1;34m()\u001b[0m\n\u001b[1;32m----> 1\u001b[1;33m \u001b[0mindices_sorted_errousness\u001b[0m \u001b[1;33m=\u001b[0m \u001b[0mnp\u001b[0m\u001b[1;33m.\u001b[0m\u001b[0mvstack\u001b[0m\u001b[1;33m(\u001b[0m\u001b[1;33m(\u001b[0m\u001b[0mhardest_indices\u001b[0m\u001b[1;33m,\u001b[0m \u001b[0mvector_mistakes_segments\u001b[0m\u001b[1;33m[\u001b[0m\u001b[0mhardest_indices\u001b[0m\u001b[1;33m]\u001b[0m\u001b[1;33m.\u001b[0m\u001b[0mT\u001b[0m\u001b[1;33m)\u001b[0m\u001b[1;33m)\u001b[0m\u001b[1;33m\u001b[0m\u001b[0m\n\u001b[0m\u001b[0;32m      2\u001b[0m \u001b[0mprint_numpy_object\u001b[0m\u001b[1;33m(\u001b[0m\u001b[1;34m\"indices_sorted_errousness\"\u001b[0m\u001b[1;33m)\u001b[0m\u001b[1;33m\u001b[0m\u001b[0m\n",
      "\u001b[1;31mIndexError\u001b[0m: index 200 is out of bounds for axis 0 with size 200"
     ]
    }
   ],
   "source": [
    "indices_sorted_errousness = np.vstack((hardest_indices, vector_mistakes_segments[hardest_indices].T))\n",
    "print_numpy_object(\"indices_sorted_errousness\")"
   ]
  },
  {
   "cell_type": "code",
   "execution_count": 111,
   "metadata": {
    "collapsed": true
   },
   "outputs": [],
   "source": [
    "matrix_mutual_interferences = matrix_mutual_interferences * matrix_occurences_mutual"
   ]
  },
  {
   "cell_type": "code",
   "execution_count": 240,
   "metadata": {
    "collapsed": true
   },
   "outputs": [],
   "source": [
    "print_numpy_object('vector_mistakes_segments')\n",
    "print_numpy_object('matrix_mutual_interferences')"
   ]
  },
  {
   "cell_type": "code",
   "execution_count": 248,
   "metadata": {
    "collapsed": false
   },
   "outputs": [
    {
     "name": "stdout",
     "output_type": "stream",
     "text": [
      "[27 28]\n",
      "error =  0.5\n",
      "error on positive =  0.375\n",
      "error on negative =  0.571428571429\n"
     ]
    }
   ],
   "source": [
    "indices_of_test_sample = np.random.choice([True, False], len(all_inidices_of_samples), p = [fraction_of_test_samples, 1 - fraction_of_test_samples])\n",
    "target_vector = 2* backup_target - 1 \n",
    "train_matrix = unite_feature_matrix[~indices_of_test_sample,:]\n",
    "test_matrix = unite_feature_matrix[indices_of_test_sample,:]\n",
    "train_target = target_vector[~indices_of_test_sample].reshape(sum(~indices_of_test_sample),)\n",
    "test_target = target_vector[indices_of_test_sample].reshape(sum(indices_of_test_sample),)\n",
    "\n",
    "clf = SVC(kernel='linear')\n",
    "clf.fit(train_matrix, train_target) \n",
    "print(clf.n_support_)\n",
    "predictions = clf.predict(test_matrix)\n",
    "#print(\"predictions: \", predictions)\n",
    "errors = predictions != test_target\n",
    "\n",
    "print(\"error = \", sum(errors) / len(errors))\n",
    "print(\"error on positive = \", sum(errors[test_target == max(test_target)]) / len(errors[test_target == max(test_target)]))\n",
    "print(\"error on negative = \", sum(errors[test_target == min(test_target)]) / len(errors[test_target == min(test_target)]))"
   ]
  },
  {
   "cell_type": "code",
   "execution_count": 239,
   "metadata": {
    "collapsed": false
   },
   "outputs": [
    {
     "data": {
      "text/plain": [
       "(4, 0.32674108737859137)"
      ]
     },
     "execution_count": 239,
     "metadata": {},
     "output_type": "execute_result"
    }
   ],
   "source": [
    "from sklearn import neighbors, datasets\n",
    "\n",
    "\n",
    "\n",
    "h = .02  # step size in the mesh\n",
    "error = np.inf\n",
    "where_min = -1\n",
    "trials = 30\n",
    "\n",
    "for n_neighbors in 1 + np.arange(30):\n",
    "    for weights in ['uniform', 'distance']:\n",
    "        cumulative_error = 0\n",
    "        for trying in range(trials):\n",
    "            indices_of_test_sample = np.random.choice([True, False], len(all_inidices_of_samples), p = [fraction_of_test_samples, 1 - fraction_of_test_samples])\n",
    "            target_vector = 2* backup_target - 1 \n",
    "            train_matrix = unite_feature_matrix[~indices_of_test_sample,:]\n",
    "            test_matrix = unite_feature_matrix[indices_of_test_sample,:]\n",
    "            train_target = target_vector[~indices_of_test_sample].reshape(sum(~indices_of_test_sample),)\n",
    "            test_target = target_vector[indices_of_test_sample].reshape(sum(indices_of_test_sample),)\n",
    "            \n",
    "            # we create an instance of Neighbours Classifier and fit the data.\n",
    "            clf = neighbors.KNeighborsClassifier(n_neighbors, weights=weights)\n",
    "            clf.fit(train_matrix, train_target)\n",
    "\n",
    "            predictions = clf.predict(np.c_[test_matrix])\n",
    "            errors = predictions != test_target\n",
    "            \n",
    "            cumulative_error = cumulative_error + (sum(errors) / len(errors))\n",
    "        if cumulative_error / trials < error:\n",
    "            where_min = n_neighbors\n",
    "            error = cumulative_error / trials\n",
    "\n",
    "\n",
    "where_min, error"
   ]
  },
  {
   "cell_type": "markdown",
   "metadata": {},
   "source": [
    "** Structural metrics (Levenshtein on strings and graphs) **\n",
    "=="
   ]
  },
  {
   "cell_type": "code",
   "execution_count": 118,
   "metadata": {
    "collapsed": true
   },
   "outputs": [],
   "source": [
    "def distance_between_populations_string(population_first, population_second):\n",
    "    len_first, len_second = len(population_first), len(population_second)\n",
    "    # calculate sum of distances for all pairs of models: one from first population, the other from second\n",
    "    cumulative_distance = 0\n",
    "    for model_from_first in population_first:\n",
    "        for model_from_second in population_second:\n",
    "            cumulative_distance = cumulative_distance + levenshtein_distance(model_from_first, model_from_second)\n",
    "    cumulative_distance = cumulative_distance / (len_first * len_second)\n",
    "    return cumulative_distance"
   ]
  },
  {
   "cell_type": "code",
   "execution_count": 119,
   "metadata": {
    "collapsed": true
   },
   "outputs": [],
   "source": [
    "def distance_between_populations_trees(population_first, population_second):\n",
    "    len_first, len_second = len(population_first), len(population_second)\n",
    "    # calculate sum of distances for all pairs of models: one from first population, the other from second\n",
    "    cumulative_distance = 0\n",
    "    for model_from_first in population_first:\n",
    "        for model_from_second in population_second:\n",
    "            cumulative_distance = cumulative_distance + isomorphism_distance(model_from_first, model_from_second)\n",
    "    cumulative_distance = cumulative_distance / (len_first * len_second)\n",
    "    return cumulative_distance"
   ]
  },
  {
   "cell_type": "code",
   "execution_count": 120,
   "metadata": {
    "collapsed": true
   },
   "outputs": [],
   "source": [
    "def create_matrix_of_codes_of_one_population(number_of_file, type_of_ts, tokens_codes):\n",
    "    codes = 'QWERTYUIOPASDFGHJKLZXCVBNM123456789/*-+=?!'\n",
    "    filename = type_of_ts + '_' + str(number_of_file + 1) + '.txt'\n",
    "    models = get_population_from_file(filename)\n",
    "    \n",
    "    matrix_representation = []    \n",
    "    for model in models:\n",
    "        matr, encodings = dfs_search_on_handle(model)\n",
    "        encodings = np.array(encodings)\n",
    "        if len(model) == 0:\n",
    "            break\n",
    "        matrix_representation.append(''.join(np.array(list(codes))[encodings]))\n",
    "\n",
    "    return matrix_representation\n",
    "    #return primitive_frequences.reshape(-1,1)"
   ]
  },
  {
   "cell_type": "markdown",
   "metadata": {},
   "source": [
    "** Create string-format DFS-code of the final selected models stored in the corresponding files **"
   ]
  },
  {
   "cell_type": "code",
   "execution_count": 121,
   "metadata": {
    "collapsed": true
   },
   "outputs": [],
   "source": [
    "tokens_codes, _ = create_map_tokens_params()\n",
    "feature_matrices_of_ts = {label : [] for label in ts_labels}\n",
    "    \n",
    "for label in ts_labels:\n",
    "    for index in range(number_ts_pieces):\n",
    "        feature_matrices_of_ts[label].append(create_matrix_of_codes_of_one_population(index, label, tokens_codes))"
   ]
  },
  {
   "cell_type": "code",
   "execution_count": 126,
   "metadata": {
    "collapsed": false
   },
   "outputs": [
    {
     "name": "stdout",
     "output_type": "stream",
     "text": [
      "parabola_(sinla_(normal_(sinha_(abs_(x0))))) parabola_(sinla_(normal_(sinha_(abs_(x0)))))\n",
      "834.4540574550629\n"
     ]
    },
    {
     "data": {
      "text/plain": [
       "0"
      ]
     },
     "execution_count": 126,
     "metadata": {},
     "output_type": "execute_result"
    }
   ],
   "source": [
    "distances_between_segments = np.zeros((len(ts_labels) * number_ts_pieces, len(ts_labels) * number_ts_pieces))\n",
    "\n",
    "start = time.time()\n",
    "\n",
    "indices_vs_labels = list(enumerate(feature_matrices_of_ts))\n",
    "\n",
    "for ind_f in range(distances_between_segments.shape[0]):\n",
    "    for ind_s in range(distances_between_segments.shape[0]):\n",
    "        label_f = indices_vs_labels[ind_f // number_ts_pieces][1]\n",
    "        label_s = indices_vs_labels[ind_s // number_ts_pieces][1]\n",
    "        \n",
    "        #population_f = feature_matrices_of_ts[label_f][ind_f % number_ts_pieces]\n",
    "        #population_s = feature_matrices_of_ts[label_s][ind_s % number_ts_pieces]\n",
    "        population_f = get_population_from_file(label_f + '_' + str(ind_f % number_ts_pieces + 1) + '.txt')\n",
    "        population_s = get_population_from_file(label_s + '_' + str(ind_s % number_ts_pieces + 1) + '.txt')\n",
    "        \n",
    "        if ind_f <= ind_s:\n",
    "            if ind_f == 0 and ind_s == 0:\n",
    "                print(population_f[0], population_s[0])\n",
    "            distances_between_segments[ind_f][ind_s] = distance_between_populations_string(population_f[0:None], population_s[0:None])\n",
    "        else:\n",
    "            distances_between_segments[ind_f][ind_s] = distances_between_segments[ind_s][ind_f]\n",
    "            \n",
    "end = time.time()\n",
    "print(end - start)\n",
    "os.system('play --no-show-progress --null --channels 1 synth %s sine %f' % ( 1, 700))"
   ]
  },
  {
   "cell_type": "code",
   "execution_count": 127,
   "metadata": {
    "collapsed": false
   },
   "outputs": [
    {
     "name": "stdout",
     "output_type": "stream",
     "text": [
      "error =  0.463668036678\n"
     ]
    }
   ],
   "source": [
    "trials = 200\n",
    "measurements = np.zeros(trials)\n",
    "for ii in range(trials):\n",
    "    fraction_of_test_samples = 0.3\n",
    "\n",
    "    indices_of_test_sample = np.random.choice([True, False], number_ts_pieces, p = [fraction_of_test_samples, 1 - fraction_of_test_samples])\n",
    "    indices_of_test_sample = np.arange(number_ts_pieces)[indices_of_test_sample]\n",
    "    indices_to_search = np.setdiff1d(range(number_ts_pieces), indices_of_test_sample)\n",
    "    #indices_to_search = np.hstack((indices_to_search, indices_to_search + number_ts_pieces * np.ones(indices_to_search.shape)\n",
    "    #                               , indices_to_search + 2 * number_ts_pieces * np.ones(indices_to_search.shape)))\n",
    "    indices_to_search = np.hstack((indices_to_search, indices_to_search + number_ts_pieces * np.ones(indices_to_search.shape)))\n",
    "\n",
    "    responses = np.empty((len(ts_labels) * len(indices_of_test_sample), 1))\n",
    "\n",
    "    indices_to_search = np.array(indices_to_search, dtype = int)\n",
    "    for ind_label in range(len(ts_labels)):\n",
    "        for index_of_index, index in enumerate(indices_of_test_sample):\n",
    "            index_in_matrix  = ind_label * number_ts_pieces + index\n",
    "            row_for_analysis = distances_between_segments[index_in_matrix,:] \n",
    "\n",
    "            #nearest_neighbor_label = int(find_closest_elem(row_for_analysis, indices_to_search) // number_ts_pieces)\n",
    "            nearest_neighbor_label = indices_to_search[np.argmin(row_for_analysis[indices_to_search])] // number_ts_pieces        \n",
    "            responses[len(indices_of_test_sample) * ind_label + index_of_index] = nearest_neighbor_label\n",
    "\n",
    "    true_responses = np.zeros((len(ts_labels) * len(indices_of_test_sample), 1))\n",
    "    for i in range(len(ts_labels)):\n",
    "        true_responses[i*len(indices_of_test_sample):(i+1)*len(indices_of_test_sample)] = i * np.ones((len(indices_of_test_sample), 1))\n",
    "    measurements[ii] = sum(responses != true_responses) / len(true_responses)\n",
    "    #print(\"error = \", sum(responses != true_responses) / len(true_responses))\n",
    "print(\"error = \", np.mean(measurements))"
   ]
  },
  {
   "cell_type": "code",
   "execution_count": 47,
   "metadata": {
    "collapsed": true
   },
   "outputs": [],
   "source": [
    "def find_closest_elem(row_for_analysis, indices_to_search):\n",
    "    minim = np.Inf\n",
    "    posit = -1\n",
    "    for ind in indices_to_search:\n",
    "        if row_for_analysis[ind] < minim:\n",
    "            posit = ind\n",
    "            minim = row_for_analysis[ind]\n",
    "    return posit"
   ]
  },
  {
   "cell_type": "code",
   "execution_count": 50,
   "metadata": {
    "collapsed": false
   },
   "outputs": [
    {
     "name": "stdout",
     "output_type": "stream",
     "text": [
      "0.615384615385\n"
     ]
    },
    {
     "data": {
      "text/plain": [
       "array([0, 0, 1, 1, 1, 0, 1, 0, 0, 0, 1, 0, 0, 1, 0, 0, 0, 1, 1, 1, 1, 1, 1,\n",
       "       1, 1, 1, 0, 0, 1, 1, 1, 0, 1, 1, 1, 0, 0, 0, 0, 0, 0, 0, 0, 0, 1, 0,\n",
       "       0, 0, 0, 0, 0, 0, 1, 0, 0, 0, 0, 1, 1, 0, 1, 1, 1, 0, 1, 1, 1, 0, 0,\n",
       "       0, 0, 1, 0, 0, 0, 0, 1, 0], dtype=int32)"
      ]
     },
     "execution_count": 50,
     "metadata": {},
     "output_type": "execute_result"
    }
   ],
   "source": [
    "random_state = 50\n",
    "clusters = KMeans(n_clusters=len(ts_labels), random_state=random_state,n_init = 10).fit_predict(distances_between_segments)\n",
    "true_clusters = np.zeros(len(ts_labels) * number_ts_pieces)\n",
    "for ind,_ in enumerate(ts_labels):\n",
    "    true_clusters[ind * number_ts_pieces:(ind + 1) * number_ts_pieces] = ind * np.ones(number_ts_pieces)\n",
    "print(sum(clusters != true_clusters) / len(clusters))\n",
    "clusters"
   ]
  },
  {
   "cell_type": "code",
   "execution_count": 51,
   "metadata": {
    "collapsed": false
   },
   "outputs": [
    {
     "name": "stdout",
     "output_type": "stream",
     "text": [
      "0.371794871795\n"
     ]
    },
    {
     "data": {
      "text/plain": [
       "array([0, 1, 0, 0, 0, 1, 0, 0, 1, 1, 0, 0, 0, 0, 1, 0, 1, 0, 0, 0, 0, 0, 0,\n",
       "       0, 0, 0, 1, 1, 0, 0, 0, 0, 0, 0, 0, 1, 1, 1, 0, 1, 1, 1, 1, 1, 0, 1,\n",
       "       1, 1, 1, 1, 0, 1, 0, 1, 1, 1, 1, 0, 0, 1, 0, 0, 0, 1, 0, 0, 0, 0, 0,\n",
       "       0, 0, 0, 1, 1, 1, 1, 0, 0])"
      ]
     },
     "execution_count": 51,
     "metadata": {},
     "output_type": "execute_result"
    }
   ],
   "source": [
    "random_state = 170\n",
    "clusters = AgglomerativeClustering(n_clusters=len(ts_labels)).fit_predict(distances_between_segments)\n",
    "print(sum(clusters != true_clusters) / len(clusters))\n",
    "clusters"
   ]
  },
  {
   "cell_type": "code",
   "execution_count": null,
   "metadata": {
    "collapsed": true
   },
   "outputs": [],
   "source": [
    "fraction_of_test_samples = 0.3\n",
    "\n",
    "test_indices = np.random.choice([True, False], number_ts_pieces, p = [fraction_of_test_samples, 1 - fraction_of_test_samples])\n",
    "target_vector = 2* target_vector - 1 \n",
    "\n",
    "train_matrix = unite_feature_matrix[~indices_of_test_sample,:]\n",
    "test_matrix = unite_feature_matrix[indices_of_test_sample,:]\n",
    "train_target = target_vector[~indices_of_test_sample].reshape(sum(~indices_of_test_sample),)\n",
    "test_target = target_vector[indices_of_test_sample].reshape(sum(indices_of_test_sample),)"
   ]
  },
  {
   "cell_type": "markdown",
   "metadata": {},
   "source": [
    "** APPENDIX **\n",
    "=="
   ]
  },
  {
   "cell_type": "code",
   "execution_count": 6,
   "metadata": {
    "collapsed": true
   },
   "outputs": [],
   "source": [
    "def renew_tokens_file():\n",
    "    file = open('code/primitives/Primitives.txt', 'r')\n",
    "    lines = file.readlines()[1:]\n",
    "    file.close()\n",
    "    file_dest = open('data/tokensInterest.txt', 'w')\n",
    "    for line in lines:\n",
    "        file_dest.write(line)\n",
    "    file_dest.write('X[0] 0 1 0\\n')\n",
    "    file_dest.write('X[1] 0 1 0')\n",
    "    file_dest.close()\n",
    "    \n",
    "renew_tokens_file()"
   ]
  },
  {
   "cell_type": "code",
   "execution_count": 3,
   "metadata": {
    "collapsed": true
   },
   "outputs": [],
   "source": [
    "def get_population_from_file(filename):\n",
    "    if not filename in filenames:\n",
    "        print('Error:', filename, 'is not presented in the directory')\n",
    "    \n",
    "    lines_file_content = []\n",
    "    last_non_empty_str = -1\n",
    "\n",
    "    with open(files_path + filename, 'r') as f_in:\n",
    "        lines_file_content = (line.rstrip() for line in f_in) # All lines including the blank ones\n",
    "        non_empty_strings_inds = [ind for ind,line in enumerate(lines_file_content) if line] \n",
    "        last_non_empty_str = non_empty_strings_inds[-1]\n",
    "\n",
    "    lines_file_content = open(files_path + filename, 'r').readlines()[0:last_non_empty_str+1]\n",
    "    population = np.empty(len(lines_file_content) // 2, dtype = object)\n",
    "    \n",
    "    \"\"\"for ind, entity in enumerate(lines_file_content):          \n",
    "        model_name = entity.split(' ')[-1]\n",
    "        population[ind] = re.sub(r'X\\[(\\d+)\\]', r'x\\1', model_name.strip())\"\"\"\n",
    "    for ind, entity in enumerate(lines_file_content):          \n",
    "        if ind % 2 == 0:\n",
    "            model_name = entity.split(' ')[-1]\n",
    "            population[ind // 2] = model_name.strip()\n",
    "                                              \n",
    "                                          \n",
    "    return population"
   ]
  },
  {
   "cell_type": "code",
   "execution_count": 4,
   "metadata": {
    "collapsed": true
   },
   "outputs": [],
   "source": [
    "def find_num_vars_and_tokens(handle):    \n",
    "    counter_tokens = 0\n",
    "    counter_variables = 0\n",
    "\n",
    "    for i in range(len(handle)):\n",
    "        if handle[i] == '_': \n",
    "            counter_tokens += 1\n",
    "        elif i < len(handle)-1 and handle[i] == 'X' and handle[i+1] == '[':\n",
    "            counter_variables += 1;\n",
    "\n",
    "    return (counter_tokens, counter_variables)"
   ]
  },
  {
   "cell_type": "code",
   "execution_count": 5,
   "metadata": {
    "collapsed": true
   },
   "outputs": [],
   "source": [
    "def create_map_tokens_params(filename = 'data/tokensInterest.txt'):\n",
    "    file_opened = open(filename, 'r')\n",
    "    primitives_lines = file_opened.readlines()\n",
    "    tokens_codes = {line.split()[0] : int(ind) for ind,line in enumerate(primitives_lines)}    \n",
    "    tokens_params = {line.split()[0] : int(line.split()[1]) for line in primitives_lines}    \n",
    "    return (tokens_codes, tokens_params)"
   ]
  },
  {
   "cell_type": "code",
   "execution_count": 6,
   "metadata": {
    "collapsed": true
   },
   "outputs": [],
   "source": [
    "def dfs_search_on_handle(handle):\n",
    "    counters = find_num_vars_and_tokens(handle)\n",
    "    number_tokens = counters[0] + counters[1]\n",
    "    \n",
    "    waiting_tokens = []\n",
    "    encodings = np.zeros(number_tokens, dtype = int)        \n",
    "    current_token, left, right = 0, 0, 0\n",
    "    is_a_token_processed_now = False    \n",
    "    \n",
    "    map_tokens_params = create_map_tokens_params()[0]\n",
    "    \n",
    "    for right in range(len(handle)):\n",
    "        if handle[right] == '_':\n",
    "            # the root is detected\n",
    "            waiting_tokens.append(current_token)\n",
    "            token = handle[left:right + 1]\n",
    "            encodings[current_token] = map_tokens_params.get(token, -1)\n",
    "            right += 1\n",
    "            break;  \n",
    "    \n",
    "    matr = [[] for i in range(number_tokens)]            \n",
    "    \n",
    "    # now process the remaining vertices\n",
    "    reserved_right = right\n",
    "    for right in np.arange(right, len(handle)):\n",
    "        if handle[right] == ')':\n",
    "            waiting_tokens.pop()        \n",
    "    \n",
    "        if not is_a_token_processed_now and handle[right].isalpha():\n",
    "            is_a_token_processed_now = True\n",
    "            left = right\n",
    "    \n",
    "        # if a token is found\n",
    "        if handle[right] == '_':\n",
    "            # new token is detected\n",
    "            current_token += 1\n",
    "            matr[waiting_tokens[-1]].append(current_token)\n",
    "            waiting_tokens.append(current_token)\n",
    "            token = handle[left:right + 1]\n",
    "            encodings[current_token] = map_tokens_params.get(token, -1)\n",
    "            is_a_token_processed_now = False      \n",
    "        \n",
    "        # if a variable is found\n",
    "        if right < len(handle)-1 and handle[right] == 'X' and handle[right+1] == '[':\n",
    "            # new variable is detected\n",
    "            current_token += 1\n",
    "            matr[waiting_tokens[-1]].append(current_token)\n",
    "            while right < len(handle)-1 and handle[right] != ']':\n",
    "                right += 1\n",
    "            token = handle[left:right + 1]\n",
    "            encodings[current_token] = map_tokens_params.get(token, -1)\n",
    "            is_a_token_processed_now = False            \n",
    "    \n",
    "    return (matr, encodings)"
   ]
  },
  {
   "cell_type": "code",
   "execution_count": 7,
   "metadata": {
    "collapsed": true
   },
   "outputs": [],
   "source": [
    "def incidence_to_adjacency(incidence):\n",
    "    size_of_mat = len(incidence)\n",
    "    adjacency = np.zeros((size_of_mat, size_of_mat))    \n",
    "    for ind, row in enumerate(incidence):\n",
    "        adjacency[ind][row] = 1\n",
    "    return adjacency"
   ]
  },
  {
   "cell_type": "markdown",
   "metadata": {},
   "source": [
    "** Collect primitive structural features from a population of models**\n",
    "====================================="
   ]
  },
  {
   "cell_type": "code",
   "execution_count": 8,
   "metadata": {
    "collapsed": true
   },
   "outputs": [],
   "source": [
    "def get_simple_features_from_segment_of_ts(number_of_file, type_of_ts, spec_numb_models = None):\n",
    "        \n",
    "    tokens_codes, _ = create_map_tokens_params()\n",
    "    filename = type_of_ts + '_' + str(number_of_file + 1) + '.txt'\n",
    "    \n",
    "    if spec_numb_models:\n",
    "        models = get_population_from_file(filename)[0:spec_numb_models]\n",
    "    else:\n",
    "        models = get_population_from_file(filename)[0:number_of_retrieved_models]\n",
    "    primitive_frequences = np.zeros(len(tokens_codes) - 1, dtype = float)\n",
    "    lower_bound_code_variables = tokens_codes.get('X[0]', len(tokens_codes))\n",
    "    \n",
    "    for model in models:\n",
    "        matr, encodings = dfs_search_on_handle(model)\n",
    "        model_primitive_frequences = Counter(encodings)\n",
    "        for key in model_primitive_frequences:\n",
    "            if key >= 0 and key < len(tokens_codes) - 1:\n",
    "                primitive_frequences[key] += (model_primitive_frequences[key] / len(model_primitive_frequences))\n",
    "    #return scale(primitive_frequences.reshape(-1,1), axis=0)\n",
    "    \n",
    "    #primitive_frequences[-1] = len(encodings)\n",
    "    #return normalize(primitive_frequences.reshape(-1,1), axis=1)\n",
    "    return scale(primitive_frequences.reshape(-1,1))\n",
    "    #return primitive_frequences.reshape(-1,1)"
   ]
  },
  {
   "cell_type": "markdown",
   "metadata": {},
   "source": [
    "** Create features on parameters of nonlinear functions **\n",
    "=="
   ]
  },
  {
   "cell_type": "code",
   "execution_count": 9,
   "metadata": {
    "collapsed": true
   },
   "outputs": [],
   "source": [
    "def get_parameters_from_file(filename):\n",
    "    if not filename in filenames:\n",
    "        print('Error:', filename, 'is not presented in the directory')\n",
    "    \n",
    "    lines_file_content = []\n",
    "    last_non_empty_str = -1\n",
    "\n",
    "    with open(files_path + filename, 'r') as f_in:\n",
    "        lines_file_content = (line.rstrip() for line in f_in) # All lines including the blank ones\n",
    "        non_empty_strings_inds = [ind for ind,line in enumerate(lines_file_content) if line] \n",
    "        last_non_empty_str = non_empty_strings_inds[-1]\n",
    "\n",
    "    lines_file_content = open(files_path + filename, 'r').readlines()[0:last_non_empty_str+1]\n",
    "    population = np.empty(len(lines_file_content) // 2, dtype = object)\n",
    "    \n",
    "    array_of_parameters = []\n",
    "    \n",
    "    for ind, entity in enumerate(lines_file_content):          \n",
    "        if ind % 2 == 1:\n",
    "            if len(entity) > 1:\n",
    "                list_of_parameters = list(map(float,entity.split(', ')))\n",
    "                array_of_parameters.append(np.array(list_of_parameters))\n",
    "    return array_of_parameters"
   ]
  },
  {
   "cell_type": "code",
   "execution_count": 10,
   "metadata": {
    "collapsed": true
   },
   "outputs": [],
   "source": [
    "def get_ordered_list_tokens(filename = 'data/tokensInterest.txt'):\n",
    "    file_opened = open(filename, 'r')\n",
    "    primitives_lines = file_opened.readlines()\n",
    "    tokens_names = [line.split()[0] for line in primitives_lines]\n",
    "    return tokens_names"
   ]
  },
  {
   "cell_type": "code",
   "execution_count": 11,
   "metadata": {
    "collapsed": true
   },
   "outputs": [],
   "source": [
    "def get_array_ranges_parameters(array_param_nums):\n",
    "    array_ranges = [[0,array_param_nums[0]],]    \n",
    "    for ind, param_num in enumerate(array_param_nums):\n",
    "        if ind == 0:\n",
    "            continue\n",
    "        array_ranges.append([array_ranges[-1][-1],array_ranges[-1][-1]+param_num])\n",
    "    return array_ranges"
   ]
  },
  {
   "cell_type": "code",
   "execution_count": 12,
   "metadata": {
    "collapsed": true
   },
   "outputs": [],
   "source": [
    "def do_bsxfun_to_params(model, parameters, averaged = False):\n",
    "    tokens_codes, tokens_params = create_map_tokens_params()\n",
    "    tokens_names                  = get_ordered_list_tokens()\n",
    "    matr, encodings               = dfs_search_on_handle(model)\n",
    "\n",
    "    model_tokens     = [tokens_names[i] for i in encodings]\n",
    "    array_param_nums = [tokens_params[tokens_names[i]] for i in encodings]\n",
    "        \n",
    "    array_ranges_parameters = get_array_ranges_parameters(array_param_nums)\n",
    "    bsxfun_to_params = {token : np.zeros(tokens_params[token]) for ind, token in enumerate(tokens_names)}\n",
    "    for ind, token in enumerate(model_tokens):\n",
    "        bsxfun_to_params[token] += parameters[array_ranges_parameters[ind][0]:array_ranges_parameters[ind][1]]\n",
    "    \n",
    "    if averaged:\n",
    "        countered = Counter(model_tokens)\n",
    "        bsxfun_to_params = {token : bsxfun_to_params[token] / countered[token] for token in tokens_names if countered[token]>0}\n",
    "    \n",
    "    return bsxfun_to_params"
   ]
  },
  {
   "cell_type": "code",
   "execution_count": 13,
   "metadata": {
    "collapsed": true
   },
   "outputs": [],
   "source": [
    "def get_param_features_from_segment_of_ts(number_of_file, type_of_ts, spec_numb_models = None):\n",
    "    tokens_codes, tokens_params = create_map_tokens_params()\n",
    "    tokens_names                = get_ordered_list_tokens()\n",
    "    total_num_of_params         = sum(tokens_params.values())\n",
    "    \n",
    "    filename = type_of_ts + '_' + str(number_of_file + 1) + '.txt'\n",
    "    array_of_parameters = []\n",
    "    population = []\n",
    "    if spec_numb_models:\n",
    "        array_of_parameters = get_parameters_from_file(filename)[0:spec_numb_models]\n",
    "        population          = get_population_from_file(filename)[0:spec_numb_models]\n",
    "    else:\n",
    "        array_of_parameters = get_parameters_from_file(filename)[0:number_of_retrieved_models]\n",
    "        population          = get_population_from_file(filename)[0:number_of_retrieved_models]\n",
    "    \n",
    "    cumulated_params = np.zeros(total_num_of_params)\n",
    "    def sigmoid_array(x):                                        \n",
    "        return 1 / (1 + np.exp(-x))\n",
    "\n",
    "    for model, parameters in zip(population, array_of_parameters):\n",
    "        bsxfun_to_params    = do_bsxfun_to_params(model, parameters)\n",
    "        row = np.array([param for token in tokens_names for param in bsxfun_to_params[token]])\n",
    "        cumulated_params   += row\n",
    "    \n",
    "    return scale(cumulated_params.reshape(-1,1), axis=0)\n",
    "    #return normalize(cumulated_params.reshape(-1,1))\n",
    "    #return cumulated_params.reshape(-1,1)"
   ]
  },
  {
   "cell_type": "code",
   "execution_count": 14,
   "metadata": {
    "collapsed": true
   },
   "outputs": [],
   "source": [
    "def get_set_of_tokens_params_values(label):\n",
    "    tokens_names  = get_ordered_list_tokens()\n",
    "    set_of_values = {token : [] for token in tokens_names}\n",
    "    \n",
    "    for num_file in range(number_ts_pieces):\n",
    "        filename = label + '_' + str(num_file + 1) + '.txt'\n",
    "        array_of_parameters = get_parameters_from_file(filename)[0:number_of_retrieved_models]\n",
    "        population          = get_population_from_file(filename)[0:number_of_retrieved_models]\n",
    "\n",
    "        for model, parameters in zip(population, array_of_parameters):\n",
    "            bsxfun_to_params    = do_bsxfun_to_params(model, parameters)\n",
    "            \n",
    "            for token in bsxfun_to_params:\n",
    "                set_of_values[token].append(bsxfun_to_params[token])\n",
    "                    \n",
    "    return set_of_values"
   ]
  },
  {
   "cell_type": "code",
   "execution_count": 15,
   "metadata": {
    "collapsed": true
   },
   "outputs": [],
   "source": [
    "def get_indices_of_params_interesting_tokens(interesting_tokens):\n",
    "    tokens_codes, tokens_params = create_map_tokens_params()\n",
    "    tokens_names                = get_ordered_list_tokens()\n",
    "    total_num_of_params         = sum(tokens_params.values())\n",
    "\n",
    "    array_param_nums = [tokens_params[token] for token in tokens_names]\n",
    "\n",
    "    array_ranges_parameters = get_array_ranges_parameters(array_param_nums)\n",
    "\n",
    "    array_params_interest = []\n",
    "    for token in tokens_which_param_interest:\n",
    "        range_params = array_ranges_parameters[tokens_names.index(token)]\n",
    "        array_params_interest.extend(list(np.arange(range_params[0], range_params[1], 1)))\n",
    "\n",
    "    return array_params_interest"
   ]
  },
  {
   "cell_type": "markdown",
   "metadata": {},
   "source": [
    "** Extract and work with patterns of models from the stored populations ** \n",
    "=="
   ]
  },
  {
   "cell_type": "code",
   "execution_count": 16,
   "metadata": {
    "collapsed": true
   },
   "outputs": [],
   "source": [
    "def extract_patterns_from_model(model_handle):\n",
    "    unite_string_with_patterns = extract_patterns.extract_patterns(model_handle)\n",
    "    patterns = unite_string_with_patterns.split('&')\n",
    "    return patterns"
   ]
  },
  {
   "cell_type": "code",
   "execution_count": 17,
   "metadata": {
    "collapsed": false
   },
   "outputs": [
    {
     "data": {
      "text/plain": [
       "['frac2_(,hypot_(,normal_()))', 'times2_(sina_(),sina_())', 'sina_(normal_)']"
      ]
     },
     "execution_count": 17,
     "metadata": {},
     "output_type": "execute_result"
    }
   ],
   "source": [
    "model = 'times2_(parabola_(frac2_(X[0],hypot_(X[0],normal_(X[0])))),times2_(parabola_(X[0]),plus2_(sina_(normal_(X[0])),times2_(sina_(X[0]),sina_(X[0])))))'\n",
    "extract_patterns_from_model(model)"
   ]
  },
  {
   "cell_type": "code",
   "execution_count": 18,
   "metadata": {
    "collapsed": true
   },
   "outputs": [],
   "source": [
    "def clear_patterns_from_vars(patterns):\n",
    "    for ind in range(len(patterns)):\n",
    "        patterns[ind] = re.sub(r'\\(X\\[\\d+\\]\\)','',patterns[ind])\n",
    "    return patterns"
   ]
  },
  {
   "cell_type": "code",
   "execution_count": 19,
   "metadata": {
    "collapsed": true
   },
   "outputs": [],
   "source": [
    "def collect_patterns_from_population(population, regime):\n",
    "    patterns = []\n",
    "    for model in population:\n",
    "        model = model_reconstruct(model)\n",
    "        patterns.extend(extract_patterns_from_model(model))\n",
    "    patterns = [item for item in patterns if item]\n",
    "    patterns = clear_patterns_from_vars(patterns)\n",
    "    if regime == 'all':\n",
    "        return patterns\n",
    "    elif regime =='unique':\n",
    "        return list(set(patterns))"
   ]
  },
  {
   "cell_type": "code",
   "execution_count": 20,
   "metadata": {
    "collapsed": true
   },
   "outputs": [],
   "source": [
    "def collect_patterns_from_label(label, regime):\n",
    "    patterns = []\n",
    "    for i in np.arange(1, number_ts_pieces, 1):\n",
    "        retrieved_patterns = collect_patterns_from_population(get_population_from_file(label+'_'+str(i)+'.txt'), regime)\n",
    "        patterns.extend(retrieved_patterns[0:number_of_retrieved_models])\n",
    "    return patterns"
   ]
  },
  {
   "cell_type": "code",
   "execution_count": 21,
   "metadata": {
    "collapsed": false
   },
   "outputs": [
    {
     "data": {
      "text/plain": [
       "['bump_(sinc_(expl_))',\n",
       " 'frac2_(normal_(),sinc_(sinc_(hypot_(normal_(),))))',\n",
       " 'parabola_(hypot_(bump_,frac2_(normal_(),plus2_(bump_(),))))',\n",
       " 'bump_(neg_(normal_(bump_)))',\n",
       " 'frac2_(normal_(),normal_())',\n",
       " 'plus2_(sinc_(bump_()),)',\n",
       " 'bump_(neg_(normal_))',\n",
       " 'parabola_(sinc_(sinc_(hypot_(normal_(),))))',\n",
       " 'parabola_(hypot_(bump_,frac2_(normal_(),expl_())))',\n",
       " 'bump_(sinc_(sinc_(hypot_(normal_(),))))',\n",
       " 'frac2_(normal_(),expl_())',\n",
       " 'parabola_(hypot_(bump_,frac2_(normal_(),sinc_(sinc_(hypot_(normal_(),))))))',\n",
       " 'sinc_(sinc_)',\n",
       " 'hypot_(normal_(),)',\n",
       " 'plus2_(bump_(),lnl_())',\n",
       " 'times2_(bump_(sinc_()),bump_(neg_(normal_())))',\n",
       " 'plus2_(sinc_(sinc_()),)',\n",
       " 'times2_(bump_(bump_(sinc_())),bump_(sinc_(expl_())))',\n",
       " 'sinc_(hypot_(normal_(),))',\n",
       " 'sinc_(sinc_(hypot_(normal_(),)))',\n",
       " 'times2_(bump_(bump_(sinc_())),bump_(sinc_()))',\n",
       " 'times2_(bump_(sinc_()),bump_(sinc_(expl_())))',\n",
       " 'plus2_(,parabola_(sinc_()))',\n",
       " 'bump_(neg_(times2_(bump_(),plus2_(bump_(),lnl_()))))',\n",
       " 'frac2_(parabola_(sinc_()),expl_(bump_()))',\n",
       " 'times2_(bump_(sinc_()),)',\n",
       " 'parabola_(hypot_(bump_,frac2_(expl_(),normal_())))',\n",
       " 'times2_(lnl_(),parabola_(expl_(bump_())))',\n",
       " 'bump_(sinc_(sinc_(hypot_(bump_(),))))',\n",
       " 'parabola_(hypot_(plus2_(,parabola_(sinc_())),hypot_))',\n",
       " 'bump_(bump_(sinc_))',\n",
       " 'times2_(bump_(sinc_(sinc_(hypot_(bump_(),)))),bump_(neg_(normal_(hypot_(bump_(),)))))',\n",
       " 'bump_(sinc_(sinc_(sinc_)))',\n",
       " 'frac2_(expl_(),normal_())',\n",
       " 'parabola_(expl_(bump_))',\n",
       " 'parabola_(hypot_(bump_,frac2_(normal_(),normal_())))',\n",
       " 'plus2_(bump_(),bump_(sinc_(expl_())))',\n",
       " 'bump_(sinc_)',\n",
       " 'bump_(sinc_(sinc_))',\n",
       " 'plus2_(bump_(bump_(sinc_())),)',\n",
       " 'plus2_(bump_(),)',\n",
       " 'bump_(sinc_(sinc_(parabola_)))',\n",
       " 'parabola_(hypot_(bump_(),plus2_(sinc_(sinc_()),)))',\n",
       " 'parabola_(hypot_(plus2_(,parabola_(sinc_)),frac2_(,)))',\n",
       " 'times2_(sinc_(),)',\n",
       " 'parabola_(hypot_(frac2_(normal_(),normal_),times2_(bump_(sinc_()),)))',\n",
       " 'times2_(bump_(sinc_(sinc_(hypot_(normal_(),)))),bump_(neg_(normal_(hypot_(bump_(),)))))',\n",
       " 'bump_(neg_(normal_(hypot_(bump_(),))))',\n",
       " 'times2_(bump_(sinc_(sinc_(hypot_(normal_(),)))),bump_(neg_()))',\n",
       " 'bump_(neg_(times2_(bump_(),plus2_(bump_(),))))',\n",
       " 'bump_(bump_(neg_(times2_(bump_(),plus2_(bump_(),)))))',\n",
       " 'frac2_(hvs_(sinc_()),)',\n",
       " 'bump_(neg_(times2_(bump_(),plus2_(bump_(),bump_(sinc_(expl_()))))))',\n",
       " 'plus2_(sinc_(),)',\n",
       " 'plus2_(sinc_(hypot_(normal_(),)),)',\n",
       " 'times2_(bump_(sinc_()),bump_(neg_(normal_(bump_()))))',\n",
       " 'bump_(neg_)',\n",
       " 'parabola_(hypot_)',\n",
       " 'plus2_(sinc_(sinc_(sinc_())),)',\n",
       " 'parabola_(hypot_(frac2_(normal_(),normal_()),hypot_(bump_,frac2_(normal_(),plus2_(bump_(),)))))',\n",
       " 'hypot_(normal_,)',\n",
       " 'bump_(sinc_(sinc_(hypot_(normal_,))))',\n",
       " 'frac2_(bump_(bump_()),expl_())',\n",
       " 'sinc_(neg_)',\n",
       " 'bump_(normal_(sinc_))',\n",
       " 'times2_(normal_(sinc_(bump_())),parabola_(bump_()))',\n",
       " 'plus2_(normal_(),)',\n",
       " 'bump_(bump_)',\n",
       " 'plus2_(normal_(sinc_(neg_())),normal_(expl_()))',\n",
       " 'plus2_(hvs_(parabola_()),normal_(sinc_()))',\n",
       " 'times2_(normal_(sinc_(normal_())),parabola_(bump_()))',\n",
       " 'plus2_(normal_(),lnl_(bump_()))',\n",
       " 'bump_(parabola_(bump_(neg_)))',\n",
       " 'times2_(expl_(bump_()),bump_(parabola_(bump_(neg_()))))',\n",
       " 'expl_(bump_(lnl_))',\n",
       " 'plus2_(normal_(),bump_())',\n",
       " 'times2_(bump_(),normal_(sinc_()))',\n",
       " 'parabola_(sinc_)',\n",
       " 'plus2_(normal_(sinc_(neg_())),normal_(expl_(normal_(sinc_(neg_())))))',\n",
       " 'bump_(parabola_(bump_))',\n",
       " 'hvs_(parabola_)',\n",
       " 'times2_(bump_(),sinc_())',\n",
       " 'plus2_(normal_(sinc_()),)',\n",
       " 'times2_(normal_(sinc_(neg_())),hypot_(bump_(normal_(sinc_(neg_()))),sinc_()))',\n",
       " 'times2_(bump_(),lnl_())',\n",
       " 'times2_(normal_(sinc_()),parabola_(bump_()))',\n",
       " 'expl_(bump_(parabola_))',\n",
       " 'times2_(bump_(bump_()),bump_(parabola_(bump_())))',\n",
       " 'lnl_(hypot_(bump_(normal_(sinc_)),times2_(bump_(),lnl_())))',\n",
       " 'lnl_(hypot_(bump_(normal_(sinc_(neg_))),times2_(bump_(),lnl_())))',\n",
       " 'times2_(bump_(bump_(normal_(sinc_(neg_())))),bump_(parabola_(bump_())))',\n",
       " 'bump_(normal_(sinc_(neg_)))',\n",
       " 'normal_(sinc_(neg_))',\n",
       " 'bump_(bump_(normal_(sinc_(neg_))))',\n",
       " 'normal_(expl_(normal_(sinc_(neg_))))',\n",
       " 'times2_(sinc_(),)',\n",
       " 'normal_(sinc_)',\n",
       " 'times2_(expl_(bump_(lnl_())),bump_(parabola_(bump_())))',\n",
       " 'plus2_(normal_(expl_()),bump_(bump_()))',\n",
       " 'expl_(bump_)',\n",
       " 'times2_(normal_(sinc_(neg_())),parabola_(bump_()))',\n",
       " 'times2_(expl_(bump_()),bump_(parabola_(bump_())))',\n",
       " 'plus2_(normal_(),normal_(sinc_()))',\n",
       " 'times2_(normal_(sinc_(parabola_(bump_()))),parabola_(bump_()))',\n",
       " 'normal_(expl_)',\n",
       " 'times2_(parabola_(),parabola_(normal_()))',\n",
       " 'bump_(normal_(bump_(normal_)))',\n",
       " 'parabola_(bump_)',\n",
       " 'hypot_(normal_(),)',\n",
       " 'times2_(parabola_(),)',\n",
       " 'parabola_(hypot_(frac2_(,normal_(sinc_(parabola_(times2_(,))))),times2_(normal_(),)))',\n",
       " 'times2_(,parabola_())',\n",
       " 'times2_(normal_(),)',\n",
       " 'bump_(normal_)',\n",
       " 'frac2_(,parabola_())',\n",
       " 'parabola_(normal_)',\n",
       " 'times2_(bump_(),bump_())',\n",
       " 'parabola_(sinc_)',\n",
       " 'parabola_(bump_(sinc_))',\n",
       " 'parabola_(parabola_)',\n",
       " 'bump_(sinc_)',\n",
       " 'normal_(sinc_(neg_))',\n",
       " 'frac2_(,expl_(bump_()))',\n",
       " 'times2_(sinc_(),)',\n",
       " 'times2_(sinc_(neg_()),parabola_())',\n",
       " 'normal_(sinc_(parabola_))',\n",
       " 'times2_(bump_(),)',\n",
       " 'times2_(bump_(),parabola_(bump_()))',\n",
       " 'parabola_(hypot_)',\n",
       " 'times2_(bump_(sinc_(normal_(sinc_()))),lnl_(hypot_(bump_(),parabola_(sinc_()))))',\n",
       " 'times2_(sinc_(),parabola_(sinc_()))',\n",
       " 'lnl_(sinc_(normal_(sinc_)))',\n",
       " 'parabola_(bump_)',\n",
       " 'times2_(sinc_(sinc_()),normal_(sinc_(sinc_())))',\n",
       " 'sinc_(sinc_)',\n",
       " 'times2_(bump_(sinc_()),neg_())',\n",
       " 'sinc_(hypot_(normal_(hypot_(expl_(),)),))',\n",
       " 'plus2_(sinc_(sinc_(neg_())),bump_())',\n",
       " 'bump_(bump_)',\n",
       " 'bump_(bump_(bump_(sinc_)))',\n",
       " 'times2_(parabola_(bump_(sinc_(sinc_()))),)',\n",
       " 'sinc_(sinc_(neg_))',\n",
       " 'lnl_(sinc_)',\n",
       " 'times2_(bump_(sinc_()),)',\n",
       " 'normal_(sinc_(sinc_))',\n",
       " 'times2_(bump_(bump_(bump_(sinc_()))),lnl_(sinc_(normal_(sinc_()))))',\n",
       " 'parabola_(sinc_)',\n",
       " 'sinc_(sinc_(sinc_(neg_)))',\n",
       " 'hypot_(normal_(hypot_(expl_(),)),)',\n",
       " 'times2_(parabola_(sinc_()),)',\n",
       " 'neg_(bump_(lnl_))',\n",
       " 'bump_(sinc_(normal_(sinc_)))',\n",
       " 'bump_(bump_(sinc_))',\n",
       " 'lnl_(sinc_(sinc_(hypot_(normal_(hypot_(expl_(),)),))))',\n",
       " 'sinc_(normal_(sinc_))',\n",
       " 'lnl_(hypot_(parabola_(sinc_()),))',\n",
       " 'lnl_(hypot_(bump_(),parabola_(sinc_)))',\n",
       " 'normal_(sinc_(neg_))',\n",
       " 'normal_(sinc_)',\n",
       " 'times2_(normal_(),parabola_(bump_(sinc_(sinc_()))))',\n",
       " 'times2_(sinc_(),parabola_(bump_(sinc_())))',\n",
       " 'times2_(bump_(bump_()),neg_(bump_(lnl_())))',\n",
       " 'times2_(bump_(),)',\n",
       " 'plus2_(sinc_(sinc_()),bump_())',\n",
       " 'times2_(normal_(),parabola_(bump_(sinc_(neg_()))))',\n",
       " 'hypot_(expl_(),)',\n",
       " 'bump_(neg_(lnl_(sinc_(sinc_(hypot_(normal_(hypot_(expl_(),)),))))))',\n",
       " 'times2_(bump_(bump_(sinc_())),lnl_(sinc_(normal_(sinc_()))))',\n",
       " 'normal_(hypot_(expl_(),))',\n",
       " 'sinc_(sinc_(hypot_(normal_(hypot_(expl_(),)),)))',\n",
       " 'neg_(lnl_(sinc_(sinc_(hypot_(normal_(hypot_(expl_(),)),)))))',\n",
       " 'times2_(sinc_(sinc_(neg_())),normal_(sinc_(neg_())))',\n",
       " 'parabola_(bump_(neg_))',\n",
       " 'times2_(normal_(),bump_())',\n",
       " 'times2_(bump_(),parabola_(normal_()))',\n",
       " 'plus2_(normal_(),)',\n",
       " 'times2_(neg_(parabola_(sinc_())),)',\n",
       " 'neg_(sinc_)',\n",
       " 'bump_(bump_)',\n",
       " 'times2_(normal_(),)',\n",
       " 'bump_(normal_)',\n",
       " 'plus2_(,parabola_(sinc_()))',\n",
       " 'parabola_(hvs_)',\n",
       " 'times2_(bump_(),neg_(parabola_(sinc_())))',\n",
       " 'parabola_(sinc_)',\n",
       " 'plus2_(normal_(),parabola_(sinc_()))',\n",
       " 'times2_(parabola_(bump_()),)',\n",
       " 'times2_(normal_(),bump_(parabola_()))',\n",
       " 'times2_(bump_(),parabola_(sinc_()))',\n",
       " 'times2_(normal_(),bump_(parabola_(bump_())))',\n",
       " 'plus2_(parabola_(sinc_()),)',\n",
       " 'frac2_(,expl_())',\n",
       " 'times2_(normal_(),bump_(parabola_(normal_())))',\n",
       " 'times2_(bump_(),neg_(parabola_(normal_())))',\n",
       " 'times2_(bump_(),)',\n",
       " 'parabola_(expl_)',\n",
       " 'times2_(bump_(),neg_(parabola_()))',\n",
       " 'times2_(bump_(),parabola_(bump_()))',\n",
       " 'frac2_(,parabola_(expl_()))',\n",
       " 'hypot_(expl_(hvs_(hypot_)),)',\n",
       " 'hypot_(expl_(hvs_()),)',\n",
       " 'times2_(sinc_(),normal_(sinc_(hypot_(parabola_(),))))',\n",
       " 'frac2_(bump_(),expl_(hypot_(hypot_(parabola_(hvs_()),),parabola_(hvs_(bump_())))))',\n",
       " 'expl_(hypot_(bump_(),))',\n",
       " 'frac2_(bump_(),hypot_(bump_(),))',\n",
       " 'expl_(bump_(hypot_(expl_,normal_())))',\n",
       " 'hypot_(hypot_(parabola_(sinc_()),),)',\n",
       " 'times2_(parabola_(hvs_()),)',\n",
       " 'parabola_(hypot_(parabola_(),))',\n",
       " 'times2_(normal_(),)',\n",
       " 'expl_(bump_(hypot_(expl_,)))',\n",
       " 'expl_(hypot_(hypot_(parabola_(hvs_()),),parabola_(hvs_(bump_))))',\n",
       " 'frac2_(bump_(),hypot_(hypot_(parabola_(sinc_()),),))',\n",
       " 'bump_(normal_)',\n",
       " 'frac2_(bump_(),)',\n",
       " 'frac2_(bump_(),expl_(hypot_(bump_(),)))',\n",
       " 'hypot_(expl_(hvs_(hypot_(,))),)',\n",
       " 'frac2_(bump_(),parabola_(hypot_(parabola_(),)))',\n",
       " 'times2_(bump_(),sinc_())',\n",
       " 'expl_(hypot_(bump_,))',\n",
       " 'times2_(bump_(),lnl_())',\n",
       " 'expl_(hypot_(hypot_(parabola_(hypot_(parabola_(sinc_()),)),),))',\n",
       " 'frac2_(parabola_(),)',\n",
       " 'frac2_(bump_(),expl_(hypot_(parabola_(hvs_()),)))',\n",
       " 'parabola_(expl_(bump_))',\n",
       " 'expl_(hypot_(parabola_(hvs_()),))',\n",
       " 'times2_(bump_(normal_()),parabola_(expl_()))',\n",
       " 'frac2_(bump_(),hypot_(hypot_(bump_(expl_()),),))',\n",
       " 'hypot_(expl_,)',\n",
       " 'times2_(lnl_(),hypot_(parabola_(parabola_(hypot_(parabola_(),))),))',\n",
       " 'expl_(hypot_(hvs_(),))',\n",
       " 'frac2_(parabola_(parabola_(hypot_(parabola_(sinc_()),))),sinc_())',\n",
       " 'times2_(sinc_(),normal_())',\n",
       " 'frac2_(bump_(),expl_(hypot_(hvs_(),)))',\n",
       " 'parabola_(expl_)',\n",
       " 'bump_(normal_(hvs_))',\n",
       " 'frac2_(bump_(),expl_(hypot_(bump_(expl_()),)))',\n",
       " 'frac2_(bump_(),expl_(hypot_(hypot_(parabola_(hypot_(parabola_(sinc_()),)),),)))',\n",
       " 'frac2_(,parabola_(expl_()))',\n",
       " 'hypot_(bump_(),)',\n",
       " 'frac2_(bump_(),hypot_(parabola_(),))',\n",
       " 'hypot_(expl_(),parabola_(sinc_(sinc_)))',\n",
       " 'hypot_(expl_,parabola_(sinc_(sinc_())))',\n",
       " 'hypot_(expl_(sinc_),)',\n",
       " 'hypot_(hypot_(expl_(),),)',\n",
       " 'parabola_(bump_)',\n",
       " 'parabola_(hvs_(bump_))',\n",
       " 'frac2_(bump_(),expl_())',\n",
       " 'frac2_(,expl_(sinc_(sinc_())))',\n",
       " 'hypot_(expl_(times2_(bump_(),)),parabola_(sinc_))',\n",
       " 'hypot_(expl_(),parabola_)',\n",
       " 'sinc_(bump_)',\n",
       " 'frac2_(parabola_(bump_()),expl_(sinc_(sinc_())))',\n",
       " 'frac2_(bump_(),expl_(sinc_(sinc_())))',\n",
       " 'expl_(sinc_(sinc_))',\n",
       " 'frac2_(bump_(hypot_(expl_(),)),hypot_(expl_(),bump_()))',\n",
       " 'hypot_(parabola_(),parabola_)',\n",
       " 'frac2_(bump_(),expl_(sinc_()))',\n",
       " 'hypot_(expl_(),bump_)',\n",
       " 'plus2_(bump_(),parabola_(bump_()))',\n",
       " 'hypot_(expl_(expl_(sinc_)),)',\n",
       " 'hypot_(parabola_(sinc_(sinc_())),parabola_)',\n",
       " 'frac2_(bump_(),hypot_(expl_(),parabola_(sinc_(sinc_()))))',\n",
       " 'bump_(hypot_(expl_(),))',\n",
       " 'bump_(sinc_)',\n",
       " 'sinc_(bump_(sinc_))',\n",
       " 'frac2_(bump_(),hypot_(expl_(),parabola_()))',\n",
       " 'bump_(sinc_(sinc_))',\n",
       " 'bump_(hypot_)',\n",
       " 'frac2_(bump_(hypot_(expl_(),)),hypot_(parabola_(sinc_(sinc_())),parabola_()))',\n",
       " 'times2_(expl_(sinc_(sinc_())),parabola_(hvs_(bump_())))',\n",
       " 'hypot_(parabola_(sinc_),parabola_())',\n",
       " 'frac2_(,expl_(sinc_(expl_())))',\n",
       " 'times2_(bump_(),)',\n",
       " 'hypot_(expl_,parabola_(sinc_(times2_(,))))',\n",
       " 'frac2_(,expl_(sinc_()))',\n",
       " 'hypot_(expl_,times2_(plus2_(parabola_(hypot_(,parabola_())),),))',\n",
       " 'frac2_(parabola_(bump_()),hypot_(parabola_(sinc_(sinc_())),parabola_()))',\n",
       " 'plus2_(parabola_(hypot_(,parabola_())),)',\n",
       " 'parabola_(expl_(normal_(sinc_(sinc_))))',\n",
       " 'frac2_(bump_(expl_()),hypot_(normal_(),))',\n",
       " 'sinc_(parabola_)',\n",
       " 'parabola_(sinc_(expl_))',\n",
       " 'parabola_(bump_)',\n",
       " 'normal_(parabola_)',\n",
       " 'times2_(parabola_(),)',\n",
       " 'sinc_(sinc_)',\n",
       " 'parabola_(hypot_(normal_(parabola_()),bump_(hypot_(expl_(),))))',\n",
       " 'hypot_(normal_(parabola_(sinc_())),bump_(hypot_(expl_(),)))',\n",
       " 'expl_(normal_(bump_(sinc_)))',\n",
       " 'plus2_(sinc_(sinc_()),parabola_(sinc_(expl_())))',\n",
       " 'sinc_(sinc_(hypot_(sinc_(sinc_(parabola_(parabola_()))),)))',\n",
       " 'hypot_(sinc_(),)',\n",
       " 'plus2_(sinc_(sinc_()),parabola_(hypot_(normal_(),)))',\n",
       " 'plus2_(sinc_(sinc_()),bump_(bump_(bump_())))',\n",
       " 'plus2_(sinc_(sinc_()),parabola_(parabola_(sinc_(sinc_(expl_())))))',\n",
       " 'plus2_(sinc_(sinc_()),parabola_(parabola_(parabola_())))',\n",
       " 'normal_(sinc_(sinc_))',\n",
       " 'parabola_(sinc_)',\n",
       " 'normal_(parabola_(sinc_))',\n",
       " 'times2_(lnl_(bump_(normal_())),parabola_())',\n",
       " 'sinc_(hypot_(sinc_(sinc_(parabola_(parabola_()))),))',\n",
       " 'frac2_(bump_(normal_(parabola_())),hypot_(expl_(),))',\n",
       " 'parabola_(parabola_)',\n",
       " 'times2_(bump_(),parabola_(expl_(normal_(bump_()))))',\n",
       " 'normal_(bump_(sinc_))',\n",
       " 'parabola_(hypot_(normal_(parabola_(sinc_())),bump_(hypot_(expl_(),))))',\n",
       " 'plus2_(sinc_(sinc_()),parabola_(parabola_()))',\n",
       " 'plus2_(sinc_(sinc_()),parabola_(sinc_(parabola_())))',\n",
       " 'bump_(hypot_(expl_(),))',\n",
       " 'times2_(normal_(),normal_(sinc_(neg_())))',\n",
       " 'bump_(sinc_)',\n",
       " 'parabola_(expl_(normal_(bump_(sinc_))))',\n",
       " 'plus2_(sinc_(sinc_()),sinc_())',\n",
       " 'normal_(sinc_(neg_))',\n",
       " 'hypot_(normal_(parabola_(bump_())),hypot_(sinc_(),))',\n",
       " 'hypot_(normal_(parabola_()),bump_(hypot_(expl_(),)))',\n",
       " 'parabola_(hypot_(normal_(parabola_),times2_(normal_(),normal_(sinc_(neg_())))))',\n",
       " 'times2_(normal_(normal_(parabola_(bump_()))),sinc_(parabola_()))',\n",
       " 'parabola_(parabola_(parabola_))',\n",
       " 'times2_(lnl_(bump_(normal_(hypot_(parabola_(bump_()),)))),parabola_())',\n",
       " 'sinc_(parabola_(parabola_))',\n",
       " 'times2_(sinc_(),normal_(sinc_(neg_())))',\n",
       " 'lnl_(bump_(normal_(hypot_(parabola_(bump_()),))))',\n",
       " 'parabola_(hypot_(normal_(parabola_()),bump_))',\n",
       " 'parabola_(parabola_(sinc_(sinc_(expl_))))',\n",
       " 'normal_(normal_(parabola_(bump_)))',\n",
       " 'times2_(normal_(sinc_(neg_())),parabola_())',\n",
       " 'frac2_(bump_(normal_(sinc_())),hypot_(expl_(),))',\n",
       " 'sinc_(sinc_(parabola_(parabola_)))',\n",
       " 'hypot_(sinc_(sinc_(parabola_(parabola_()))),)',\n",
       " 'hypot_(expl_(),)',\n",
       " 'hypot_(normal_(parabola_()),bump_)',\n",
       " 'frac2_(bump_(expl_()),hypot_(sinc_(),))',\n",
       " 'normal_(parabola_(bump_))',\n",
       " 'times2_(normal_(),normal_(sinc_()))',\n",
       " 'expl_(normal_(sinc_(sinc_)))',\n",
       " 'parabola_(hypot_(normal_(),))',\n",
       " 'parabola_(sinc_(parabola_))',\n",
       " 'parabola_(hypot_(normal_(parabola_(bump_())),hypot_(sinc_(),)))',\n",
       " 'plus2_(sinc_(sinc_()),parabola_(sinc_()))',\n",
       " 'times2_(sinc_(),normal_(sinc_(sinc_())))',\n",
       " 'plus2_(bump_(expl_()),parabola_())',\n",
       " 'parabola_(bump_)',\n",
       " 'times2_(lnl_(),parabola_(sinc_()))',\n",
       " 'times2_(parabola_(),)',\n",
       " 'sinc_(neg_)',\n",
       " 'plus2_(bump_(),parabola_(sinc_()))',\n",
       " 'plus2_(bump_(normal_()),parabola_(sinc_(lnl_())))',\n",
       " 'times2_(lnl_(),parabola_(sinc_(neg_())))',\n",
       " 'bump_(normal_)',\n",
       " 'plus2_(,parabola_(sinc_()))',\n",
       " 'times2_(sinc_(),parabola_())',\n",
       " 'times2_(parabola_(sinc_()),parabola_(sinc_()))',\n",
       " 'parabola_(sinc_)',\n",
       " 'parabola_(bump_(sinc_))',\n",
       " 'hypot_(expl_,parabola_())',\n",
       " 'times2_(parabola_(),parabola_())',\n",
       " 'plus2_(bump_(normal_(sinc_())),parabola_(sinc_()))',\n",
       " 'times2_(lnl_(),parabola_())',\n",
       " 'bump_(sinc_)',\n",
       " 'normal_(sinc_(neg_))',\n",
       " 'times2_(sinc_(),)',\n",
       " 'plus2_(bump_(parabola_()),parabola_())',\n",
       " 'bump_(hvs_)',\n",
       " 'plus2_(parabola_(bump_(sinc_())),)',\n",
       " 'parabola_(hypot_(bump_(),parabola_))',\n",
       " 'times2_(parabola_(bump_(sinc_())),parabola_())',\n",
       " 'plus2_(bump_(parabola_()),parabola_(sinc_()))',\n",
       " 'frac2_(,expl_(sinc_()))',\n",
       " 'plus2_(bump_(normal_()),parabola_(sinc_()))',\n",
       " 'times2_(normal_(normal_(normal_(normal_(normal_())))),)',\n",
       " 'normal_(parabola_(hypot_(lnl_(),)))',\n",
       " 'normal_(parabola_)',\n",
       " 'parabola_(bump_)',\n",
       " 'times2_(parabola_(),)',\n",
       " 'times2_(normal_(parabola_()),parabola_())',\n",
       " 'plus2_(sinc_(sinc_(normal_())),normal_(parabola_(hypot_(normal_(),))))',\n",
       " 'times2_(sinc_(sinc_()),)',\n",
       " 'times2_(normal_(),)',\n",
       " 'normal_(bump_)',\n",
       " 'bump_(normal_)',\n",
       " 'normal_(normal_(expl_))',\n",
       " 'times2_(normal_(normal_(normal_())),)',\n",
       " 'times2_(normal_(normal_(bump_(normal_()))),)',\n",
       " 'parabola_(parabola_)',\n",
       " 'times2_(bump_(bump_()),)',\n",
       " 'times2_(normal_(normal_(parabola_())),)',\n",
       " 'sinc_(sinc_(normal_))',\n",
       " 'parabola_(parabola_(parabola_))',\n",
       " 'frac2_(,expl_(bump_()))',\n",
       " 'lnl_(bump_)',\n",
       " 'plus2_(sinc_(sinc_(normal_())),normal_(parabola_(hypot_(lnl_(),))))',\n",
       " 'plus2_(sinc_(sinc_(normal_())),normal_(bump_()))',\n",
       " 'frac2_(bump_(),normal_())',\n",
       " 'times2_(bump_(normal_()),)',\n",
       " 'normal_(parabola_(hypot_(normal_(),)))',\n",
       " 'times2_(normal_(normal_()),)',\n",
       " 'times2_(bump_(),)',\n",
       " 'times2_(bump_(),normal_(normal_()))',\n",
       " 'expl_(bump_)',\n",
       " 'plus2_(sinc_(sinc_(normal_())),normal_(normal_(expl_())))',\n",
       " 'times2_(normal_(normal_(expl_())),normal_(lnl_()))',\n",
       " 'bump_(parabola_)',\n",
       " 'times2_(normal_(normal_()),bump_())',\n",
       " 'times2_(normal_(normal_(expl_())),)',\n",
       " 'bump_(normal_(bump_(normal_)))',\n",
       " 'frac2_(normal_(),normal_())',\n",
       " 'hypot_(expl_(sinc_),)',\n",
       " 'parabola_(bump_)',\n",
       " 'frac2_(bump_(normal_()),normal_())',\n",
       " 'bump_(bump_)',\n",
       " 'times2_(bump_(neg_()),)',\n",
       " 'normal_(normal_)',\n",
       " 'bump_(normal_)',\n",
       " 'bump_(neg_(expl_))',\n",
       " 'times2_(bump_(neg_()),bump_(normal_(bump_(neg_(normal_())))))',\n",
       " 'frac2_(bump_(normal_(expl_())),)',\n",
       " 'parabola_(normal_)',\n",
       " 'times2_(bump_(neg_()),bump_(normal_(bump_(lnl_()))))',\n",
       " 'times2_(bump_(neg_()),bump_(normal_(bump_(neg_()))))',\n",
       " 'times2_(bump_(neg_()),bump_(normal_(bump_())))',\n",
       " 'parabola_(sinc_)',\n",
       " 'frac2_(neg_(),expl_())',\n",
       " 'times2_(expl_(),parabola_(normal_()))',\n",
       " 'bump_(normal_(bump_(neg_(normal_))))',\n",
       " 'times2_(bump_(),bump_(bump_()))',\n",
       " 'bump_(sinc_)',\n",
       " 'frac2_(,expl_(bump_()))',\n",
       " 'hypot_(expl_,)',\n",
       " 'frac2_(,expl_())',\n",
       " 'bump_(normal_(bump_(lnl_)))',\n",
       " 'times2_(bump_(normal_(bump_(neg_()))),bump_())',\n",
       " 'plus2_(normal_(),parabola_())',\n",
       " 'parabola_(bump_(normal_))',\n",
       " 'times2_(bump_(),)',\n",
       " 'times2_(normal_(normal_()),parabola_())',\n",
       " 'bump_(neg_)',\n",
       " 'parabola_(normal_(normal_))',\n",
       " 'times2_(bump_(neg_()),bump_(normal_(bump_(normal_()))))',\n",
       " 'normal_(expl_)',\n",
       " 'bump_(normal_(expl_))',\n",
       " 'times2_(parabola_(bump_()),parabola_())',\n",
       " 'parabola_(bump_)',\n",
       " 'times2_(bump_(),neg_())',\n",
       " 'plus2_(neg_(expl_()),)',\n",
       " 'times2_(parabola_(),)',\n",
       " 'times2_(parabola_(bump_(parabola_())),parabola_())',\n",
       " 'bump_(bump_)',\n",
       " 'times2_(parabola_(hvs_()),parabola_())',\n",
       " 'plus2_(,parabola_(sinc_()))',\n",
       " 'frac2_(bump_(),)',\n",
       " 'times2_(sinc_(),normal_(bump_()))',\n",
       " 'times2_(sinc_(),parabola_())',\n",
       " 'parabola_(sinc_)',\n",
       " 'times2_(parabola_(),parabola_())',\n",
       " 'parabola_(bump_(parabola_(bump_(normal_))))',\n",
       " 'parabola_(parabola_)',\n",
       " 'times2_(lnl_(),parabola_(bump_(bump_())))',\n",
       " 'plus2_(parabola_(bump_()),)',\n",
       " 'times2_(lnl_(),parabola_(bump_()))',\n",
       " 'times2_(lnl_(),parabola_())',\n",
       " 'plus2_(parabola_(sinc_()),)',\n",
       " 'plus2_(bump_(),)',\n",
       " 'times2_(sinc_(),)',\n",
       " 'parabola_(bump_(parabola_))',\n",
       " 'times2_(bump_(),)',\n",
       " 'times2_(expl_(),parabola_(bump_()))',\n",
       " 'parabola_(hypot_(frac2_(hypot_(expl_(),),),times2_(,)))',\n",
       " 'frac2_(normal_(),parabola_(bump_()))',\n",
       " 'plus2_(bump_(),parabola_(parabola_(hypot_(parabola_(),))))',\n",
       " 'parabola_(bump_)',\n",
       " 'times2_(sinc_(normal_()),)',\n",
       " 'times2_(,parabola_(parabola_(parabola_())))',\n",
       " 'frac2_(bump_(hypot_(normal_(),parabola_())),hypot_(parabola_(),))',\n",
       " 'parabola_(hypot_(parabola_(),))',\n",
       " 'frac2_(bump_(hypot_(normal_(),hypot_(normal_(),parabola_()))),hypot_(expl_(),))',\n",
       " 'bump_(hypot_(expl_(),normal_))',\n",
       " 'plus2_(bump_(),parabola_(parabola_(parabola_())))',\n",
       " 'bump_(hypot_(normal_(),))',\n",
       " 'parabola_(sinc_)',\n",
       " 'bump_(hypot_(expl_(hvs_()),parabola_))',\n",
       " 'hypot_(parabola_(),)',\n",
       " 'frac2_(bump_(hypot_(expl_(hvs_()),)),hypot_(expl_(normal_()),))',\n",
       " 'times2_(hypot_(bump_(),parabola_()),parabola_())',\n",
       " 'times2_(hypot_(normal_(),parabola_()),parabola_())',\n",
       " 'parabola_(parabola_)',\n",
       " 'frac2_(hypot_(expl_(),),)',\n",
       " 'times2_(lnl_(bump_()),bump_())',\n",
       " 'frac2_(bump_(hypot_(bump_(),normal_())),hypot_(parabola_(),))',\n",
       " 'frac2_(,parabola_(bump_()))',\n",
       " 'times2_(parabola_(lnl_()),parabola_())',\n",
       " 'hypot_(expl_(parabola_),)',\n",
       " 'hypot_(expl_,)',\n",
       " 'bump_(hypot_(normal_(),hypot_(normal_(),parabola_)))',\n",
       " 'frac2_(bump_(hypot_(normal_(),hypot_(normal_(),parabola_()))),hypot_(parabola_(),))',\n",
       " 'bump_(hypot_(normal_(),parabola_))',\n",
       " 'bump_(hypot_(expl_(hvs_()),))',\n",
       " 'times2_(parabola_(hypot_(normal_(),parabola_())),parabola_())',\n",
       " 'frac2_(parabola_(hypot_(lnl_(),)),)',\n",
       " 'times2_(lnl_(),bump_(normal_()))',\n",
       " 'parabola_(expl_)',\n",
       " 'hypot_(expl_(),)',\n",
       " 'frac2_(normal_(),)',\n",
       " 'parabola_(hypot_)',\n",
       " 'hypot_(expl_(normal_()),)',\n",
       " 'frac2_(bump_(hypot_(normal_(),parabola_())),hypot_(parabola_(bump_()),))',\n",
       " 'plus2_(bump_(neg_(bump_(parabola_()))),parabola_(normal_()))',\n",
       " 'lnl_(hypot_(sinc_,frac2_(frac2_(bump_(parabola_()),hypot_(parabola_(),)),parabola_(normal_()))))',\n",
       " 'bump_(neg_(normal_))',\n",
       " 'parabola_(hypot_(neg_(parabola_(sinc_(expl_(normal_())))),bump_))',\n",
       " 'parabola_(bump_)',\n",
       " 'normal_(parabola_)',\n",
       " 'lnl_(hypot_(sinc_,frac2_(bump_(neg_()),hypot_(frac2_(parabola_(),),parabola_()))))',\n",
       " 'frac2_(hypot_(neg_(parabola_()),),hypot_(expl_(normal_()),))',\n",
       " 'hypot_(bump_(),neg_(parabola_(bump_)))',\n",
       " 'plus2_(bump_(),parabola_(sinc_()))',\n",
       " 'bump_(neg_(bump_(parabola_(normal_))))',\n",
       " 'times2_(parabola_(bump_()),parabola_(hypot_(neg_(parabola_()),parabola_(sinc_()))))',\n",
       " 'hypot_(expl_(),parabola_)',\n",
       " 'sinc_(expl_(normal_))',\n",
       " 'parabola_(hypot_(hypot_(expl_(),parabola_()),parabola_))',\n",
       " 'times2_(parabola_(bump_()),parabola_(hypot_(parabola_(normal_()),parabola_())))',\n",
       " 'neg_(parabola_)',\n",
       " 'plus2_(bump_(neg_(bump_(bump_(neg_(normal_()))))),parabola_(normal_()))',\n",
       " 'frac2_(bump_(normal_()),hypot_(parabola_(),))',\n",
       " 'hypot_(neg_(),parabola_)',\n",
       " 'parabola_(hypot_(parabola_(),))',\n",
       " 'parabola_(hypot_(neg_(parabola_()),bump_))',\n",
       " 'parabola_(hypot_(neg_(parabola_()),parabola_(sinc_)))',\n",
       " 'parabola_(hypot_(parabola_(normal_()),parabola_))',\n",
       " 'lnl_(hypot_(sinc_(),normal_))',\n",
       " 'parabola_(hypot_(neg_(normal_),))',\n",
       " 'parabola_(normal_)',\n",
       " 'lnl_(hypot_(sinc_,frac2_(bump_(neg_(normal_())),hypot_(frac2_(,),))))',\n",
       " 'frac2_(bump_(neg_(normal_())),parabola_())',\n",
       " 'parabola_(hypot_(neg_(parabola_(sinc_(expl_(normal_())))),parabola_))',\n",
       " 'lnl_(hypot_(sinc_,frac2_(bump_(neg_(normal_())),hypot_(expl_(),frac2_(parabola_(),)))))',\n",
       " 'parabola_(sinc_)',\n",
       " 'times2_(parabola_(bump_(parabola_())),parabola_(hypot_(parabola_(),)))',\n",
       " 'hypot_(parabola_(),)',\n",
       " 'times2_(parabola_(bump_()),parabola_(hypot_(parabola_(sinc_()),parabola_())))',\n",
       " 'lnl_(hypot_(sinc_,frac2_(frac2_(bump_(parabola_()),hypot_(parabola_(),)),hypot_(expl_(normal_()),))))',\n",
       " 'times2_(parabola_(bump_()),parabola_(hypot_(bump_(neg_(normal_())),parabola_(normal_()))))',\n",
       " 'neg_(parabola_(sinc_(expl_(normal_))))',\n",
       " 'lnl_(hypot_(sinc_,frac2_(bump_(neg_(normal_())),hypot_(frac2_(plus2_(expl_(),times2_(frac2_(,expl_()),hypot_(parabola_(),))),),))))',\n",
       " 'parabola_(hypot_(parabola_(sinc_()),parabola_))',\n",
       " 'bump_(neg_(bump_(bump_(neg_(normal_)))))',\n",
       " 'parabola_(parabola_)',\n",
       " 'parabola_(sinc_(expl_(normal_)))',\n",
       " 'hypot_(neg_(parabola_()),)',\n",
       " 'parabola_(hypot_(hypot_(neg_(),parabola_()),parabola_))',\n",
       " 'frac2_(parabola_(),)',\n",
       " 'hypot_(neg_(parabola_(sinc_(expl_(normal_())))),bump_)',\n",
       " 'plus2_(bump_(neg_(bump_(parabola_(normal_())))),parabola_(normal_()))',\n",
       " 'times2_(parabola_(bump_()),parabola_(hypot_(parabola_(parabola_()),parabola_())))',\n",
       " 'times2_(parabola_(bump_()),parabola_(hypot_(bump_(),parabola_())))',\n",
       " 'frac2_(bump_(neg_(normal_())),hypot_(parabola_(),))',\n",
       " 'lnl_(hypot_(sinc_,frac2_(frac2_(bump_(neg_(normal_())),parabola_()),hypot_(expl_(normal_()),))))',\n",
       " 'times2_(parabola_(),parabola_(hypot_(parabola_(normal_()),parabola_())))',\n",
       " 'hypot_(neg_(parabola_(sinc_(expl_(normal_())))),parabola_)',\n",
       " 'hypot_(expl_,frac2_(parabola_(),))',\n",
       " 'lnl_(hypot_(sinc_,frac2_(hypot_(bump_(),neg_(parabola_(bump_()))),hypot_(expl_(normal_()),))))',\n",
       " 'frac2_(,expl_())',\n",
       " 'parabola_(hypot_(parabola_(parabola_()),parabola_))',\n",
       " 'lnl_(hypot_(sinc_,frac2_(bump_(neg_(normal_())),hypot_(frac2_(parabola_(),),parabola_()))))',\n",
       " 'frac2_(bump_(parabola_()),hypot_(parabola_(),))',\n",
       " 'lnl_(hypot_(sinc_,frac2_(frac2_(bump_(neg_(normal_())),hypot_(parabola_(),)),hypot_(expl_(normal_()),))))',\n",
       " 'parabola_(bump_(parabola_))',\n",
       " 'hypot_(hypot_(neg_(),parabola_()),parabola_)',\n",
       " 'parabola_(hypot_(bump_(neg_(normal_())),parabola_(normal_)))',\n",
       " 'bump_(neg_(bump_(parabola_)))',\n",
       " 'hypot_(sinc_(),normal_)',\n",
       " 'lnl_(hypot_(sinc_,frac2_(frac2_(bump_(normal_()),hypot_(parabola_(),)),hypot_(expl_(normal_()),))))',\n",
       " 'lnl_(hypot_(sinc_,frac2_(hypot_(neg_(parabola_()),),hypot_(expl_(normal_()),))))',\n",
       " 'hypot_(expl_(normal_()),)',\n",
       " 'frac2_(bump_(),bump_())',\n",
       " 'bump_(neg_)',\n",
       " 'hypot_(hypot_(expl_(),parabola_()),parabola_)',\n",
       " 'plus2_(normal_(parabola_()),parabola_(parabola_()))',\n",
       " 'lnl_(hypot_(sinc_,frac2_(parabola_(),hypot_(frac2_(parabola_(),),parabola_()))))',\n",
       " 'expl_(normal_)',\n",
       " 'parabola_(hypot_(bump_(),parabola_))',\n",
       " 'frac2_(hypot_(bump_(),neg_(parabola_(bump_()))),hypot_(expl_(normal_()),))',\n",
       " 'frac2_(lnl_(),expl_(bump_()))',\n",
       " 'times2_(bump_(),parabola_(expl_(sinc_(hypot_(expl_(),normal_())))))',\n",
       " 'times2_(bump_(),parabola_(expl_(sinc_())))',\n",
       " 'sinc_(normal_)',\n",
       " 'times2_(bump_(),expl_(bump_()))',\n",
       " 'sinc_(sinc_)',\n",
       " 'times2_(bump_(),parabola_(expl_()))',\n",
       " 'sinc_(bump_)',\n",
       " 'bump_(bump_)',\n",
       " 'parabola_(normal_)',\n",
       " 'frac2_(sinc_(sinc_(hypot_(normal_(normal_(parabola_(bump_()))),))),)',\n",
       " 'parabola_(hvs_)',\n",
       " 'times2_(bump_(),parabola_(expl_(sinc_(normal_()))))',\n",
       " 'times2_(bump_(),bump_())',\n",
       " 'parabola_(parabola_(normal_(sinc_)))',\n",
       " 'parabola_(expl_(sinc_(hypot_(normal_(),))))',\n",
       " 'times2_(bump_(bump_()),)',\n",
       " 'sinc_(sinc_(hypot_(normal_,)))',\n",
       " 'times2_(bump_(),parabola_(expl_(sinc_(hypot_(normal_(),)))))',\n",
       " 'times2_(parabola_(expl_(sinc_())),)',\n",
       " 'times2_(bump_(normal_()),parabola_(expl_()))',\n",
       " 'times2_(lnl_(),)',\n",
       " 'parabola_(expl_(sinc_(hypot_(expl_(),normal_))))',\n",
       " 'times2_(bump_(),parabola_())',\n",
       " 'times2_(bump_(),parabola_(expl_(bump_())))',\n",
       " 'frac2_(sinc_(sinc_(hypot_(normal_(),))),normal_())',\n",
       " 'parabola_(sinc_(sinc_))',\n",
       " 'plus2_(sinc_(sinc_()),parabola_(parabola_(normal_(sinc_()))))',\n",
       " 'parabola_(expl_)',\n",
       " 'times2_(bump_(),)',\n",
       " 'frac2_(sinc_(sinc_(hypot_(normal_(),))),)',\n",
       " 'parabola_(bump_(bump_))',\n",
       " 'times2_(parabola_(),parabola_(normal_()))',\n",
       " 'parabola_(hypot_(sinc_(),parabola_))',\n",
       " 'expl_(parabola_)',\n",
       " 'times2_(parabola_(hypot_(lnl_(),)),parabola_())',\n",
       " 'times2_(sinc_(),expl_(parabola_()))',\n",
       " 'parabola_(hypot_(expl_(),parabola_))',\n",
       " 'frac2_(normal_(parabola_(sinc_())),)',\n",
       " 'times2_(sinc_(),normal_(sinc_()))',\n",
       " 'times2_(expl_(normal_(sinc_())),parabola_(sinc_()))',\n",
       " 'times2_(,parabola_())',\n",
       " 'parabola_(hypot_(parabola_(normal_()),))',\n",
       " 'times2_(parabola_(sinc_()),parabola_())',\n",
       " 'times2_(parabola_(hypot_(parabola_(),)),parabola_())',\n",
       " 'times2_(sinc_(),expl_(parabola_(normal_())))',\n",
       " 'parabola_(hypot_(parabola_,))',\n",
       " 'times2_(sinc_(),normal_(expl_(parabola_())))',\n",
       " 'times2_(parabola_(hypot_(parabola_(normal_()),)),parabola_())',\n",
       " 'parabola_(sinc_)',\n",
       " 'times2_(parabola_(hypot_(sinc_(),)),parabola_())',\n",
       " 'hvs_(neg_)',\n",
       " 'expl_(sinc_)',\n",
       " 'expl_(parabola_(normal_))',\n",
       " 'parabola_(parabola_)',\n",
       " 'parabola_(hypot_(sinc_,frac2_(normal_(parabola_()),)))',\n",
       " 'times2_(sinc_(),normal_(expl_(parabola_(hypot_(,)))))',\n",
       " 'times2_(sinc_(),expl_(sinc_()))',\n",
       " 'times2_(lnl_(),parabola_())',\n",
       " 'normal_(sinc_(neg_))',\n",
       " 'times2_(sinc_(neg_()),expl_(parabola_()))',\n",
       " 'expl_(normal_(sinc_))',\n",
       " 'times2_(parabola_(hypot_(normal_(sinc_()),parabola_(normal_()))),parabola_())',\n",
       " 'times2_(sinc_(),normal_(sinc_(neg_())))',\n",
       " 'frac2_(normal_(parabola_()),)',\n",
       " 'normal_(sinc_)',\n",
       " 'times2_(expl_(bump_()),parabola_(sinc_()))',\n",
       " 'normal_(expl_(parabola_))',\n",
       " 'plus2_(sinc_(),)',\n",
       " 'expl_(bump_)',\n",
       " 'parabola_(hypot_)',\n",
       " 'plus2_(sinc_(hypot_(parabola_(),)),)',\n",
       " 'normal_(expl_(parabola_(hypot_(,))))',\n",
       " 'times2_(lnl_(),sinc_())',\n",
       " 'times2_(,parabola_(bump_(bump_(expl_()))))',\n",
       " 'bump_(sinc_(sinc_(hypot_(normal_(),))))',\n",
       " 'hypot_(normal_(),)',\n",
       " 'parabola_(bump_(neg_))',\n",
       " 'parabola_(bump_)',\n",
       " 'sinc_(hypot_(normal_(),))',\n",
       " 'frac2_(hypot_(normal_(),),)',\n",
       " 'sinc_(sinc_(hypot_(normal_(),)))',\n",
       " 'hypot_(parabola_(bump_(neg_())),)',\n",
       " 'hypot_(sinc_(),)',\n",
       " 'bump_(normal_)',\n",
       " 'times2_(hypot_(bump_(expl_()),parabola_()),)',\n",
       " 'plus2_(,parabola_(sinc_()))',\n",
       " 'frac2_(hypot_(parabola_(bump_(neg_())),),expl_(expl_()))',\n",
       " 'plus2_(parabola_(),parabola_(bump_()))',\n",
       " 'times2_(bump_(normal_()),normal_())',\n",
       " 'plus2_(sinc_(hypot_(normal_(),)),parabola_(sinc_()))',\n",
       " 'hypot_(bump_(sinc_(sinc_(hypot_(normal_(),)))),)',\n",
       " 'lnl_(hypot_(sinc_(),))',\n",
       " 'bump_(sinc_(hypot_(normal_(lnl_(hypot_(sinc_(),))),)))',\n",
       " 'parabola_(sinc_)',\n",
       " 'plus2_(parabola_(bump_(normal_())),)',\n",
       " 'hypot_(normal_(lnl_(hypot_(sinc_(),))),)',\n",
       " 'bump_(sinc_(hypot_(bump_(sinc_(sinc_(hypot_(normal_(),)))),)))',\n",
       " 'hypot_(plus2_(parabola_(bump_(neg_())),),times2_(,))',\n",
       " 'hypot_(bump_(sinc_(hypot_(normal_(),))),)',\n",
       " 'neg_(hypot_)',\n",
       " 'times2_(lnl_(),sinc_(neg_()))',\n",
       " 'times2_(hypot_(bump_(expl_()),parabola_(sinc_())),)',\n",
       " 'times2_(bump_(bump_()),)',\n",
       " 'plus2_(bump_(lnl_()),)',\n",
       " 'normal_(lnl_(hypot_(sinc_(),)))',\n",
       " 'plus2_(,parabola_(bump_(bump_(expl_()))))',\n",
       " 'hypot_(expl_(normal_(hypot_(neg_(bump_()),))),parabola_)',\n",
       " 'hypot_(plus2_(parabola_(bump_(neg_())),),times2_(lnl_(),))',\n",
       " 'plus2_(bump_(bump_(sinc_())),)',\n",
       " 'times2_(lnl_(),)',\n",
       " 'hypot_(plus2_(frac2_(hypot_(normal_(),),),),frac2_(normal_(),))',\n",
       " 'times2_(,parabola_(hypot_(neg_(bump_()),)))',\n",
       " 'expl_(expl_)',\n",
       " 'sinc_(hypot_(normal_(lnl_(hypot_(sinc_(),))),))',\n",
       " 'parabola_(bump_(bump_(expl_)))',\n",
       " 'bump_(sinc_(hypot_(normal_(),)))',\n",
       " 'plus2_(sinc_(),)',\n",
       " 'times2_(bump_(),)',\n",
       " 'neg_(hypot_(plus2_(sinc_(),),times2_(lnl_(),)))',\n",
       " 'plus2_(parabola_(sinc_()),parabola_(bump_()))',\n",
       " 'lnl_(hypot_(bump_(sinc_(hypot_(normal_(),))),))',\n",
       " 'frac2_(normal_(),)',\n",
       " 'times2_(bump_(normal_()),normal_(normal_()))',\n",
       " 'plus2_(parabola_(bump_(neg_())),)',\n",
       " 'plus2_(bump_(normal_()),parabola_(sinc_()))',\n",
       " 'sinc_(hypot_(bump_(sinc_(sinc_(hypot_(normal_(),)))),))',\n",
       " 'hypot_(expl_(),hypot_(expl_(),parabola_))',\n",
       " 'hypot_(expl_(),hypot_(expl_,plus2_(neg_(sinc_()),)))',\n",
       " 'plus2_(hypot_(expl_(),hypot_(expl_(),parabola_())),parabola_(sinc_()))',\n",
       " 'plus2_(neg_(expl_()),)',\n",
       " 'plus2_(bump_(normal_(bump_(normal_()))),)',\n",
       " 'plus2_(bump_(sinc_()),neg_(parabola_()))',\n",
       " 'neg_(parabola_)',\n",
       " 'frac2_(,parabola_(hypot_(sinc_(),expl_())))',\n",
       " 'hypot_(hvs_,plus2_(,))',\n",
       " 'times2_(normal_(),)',\n",
       " 'hypot_(hypot_(expl_(),parabola_()),)',\n",
       " 'hypot_(expl_(),hypot_(expl_,plus2_(neg_(parabola_()),)))',\n",
       " 'bump_(normal_)',\n",
       " 'neg_(bump_)',\n",
       " 'frac2_(,parabola_())',\n",
       " 'normal_(hypot_)',\n",
       " 'normal_(hypot_(normal_(),parabola_))',\n",
       " 'parabola_(sinc_(neg_))',\n",
       " 'parabola_(sinc_)',\n",
       " 'plus2_(neg_(sinc_()),)',\n",
       " 'times2_(normal_(hypot_(normal_(),)),)',\n",
       " 'frac2_(bump_(),parabola_())',\n",
       " 'frac2_(parabola_(),expl_())',\n",
       " 'plus2_(neg_(parabola_()),)',\n",
       " 'times2_(lnl_(),parabola_())',\n",
       " 'frac2_(bump_(),hypot_(expl_(),))',\n",
       " 'parabola_(sinc_(bump_(sinc_)))',\n",
       " 'plus2_(bump_(sinc_()),neg_(sinc_()))',\n",
       " 'times2_(parabola_(),parabola_(bump_(sinc_())))',\n",
       " 'times2_(bump_(sinc_()),parabola_())',\n",
       " 'plus2_(hypot_(hypot_(expl_(),parabola_()),),parabola_(sinc_()))',\n",
       " 'plus2_(normal_(expl_()),)',\n",
       " 'parabola_(hypot_(sinc_(),expl_))',\n",
       " 'frac2_(parabola_(),parabola_())',\n",
       " 'hypot_(expl_,plus2_(bump_(sinc_()),neg_(parabola_())))',\n",
       " 'expl_(bump_)',\n",
       " 'bump_(hypot_(expl_,plus2_(neg_(sinc_()),)))',\n",
       " 'frac2_(parabola_(sinc_()),parabola_())',\n",
       " 'parabola_(hypot_)',\n",
       " 'hypot_(expl_,plus2_(bump_(sinc_()),neg_(sinc_())))',\n",
       " 'frac2_(,parabola_(expl_()))',\n",
       " 'frac2_(parabola_(sinc_(neg_())),parabola_())',\n",
       " 'times2_(normal_(),neg_())',\n",
       " 'frac2_(bump_(),hypot_(parabola_(),))',\n",
       " 'parabola_(hypot_(normal_,))',\n",
       " 'parabola_(hypot_(bump_(neg_(expl_)),expl_(bump_())))',\n",
       " 'frac2_(lnl_(),expl_(bump_()))',\n",
       " 'plus2_(bump_(neg_(parabola_())),)',\n",
       " 'plus2_(bump_(hypot_(bump_(),)),bump_(parabola_()))',\n",
       " 'neg_(expl_)',\n",
       " 'parabola_(hypot_(bump_(parabola_),frac2_(,)))',\n",
       " 'neg_(parabola_)',\n",
       " 'plus2_(bump_(neg_(expl_())),neg_(expl_()))',\n",
       " 'plus2_(bump_(neg_(expl_())),)',\n",
       " 'times2_(normal_(),)',\n",
       " 'times2_(neg_(parabola_(bump_())),)',\n",
       " 'parabola_(hypot_(bump_(hypot_(bump_(),)),))',\n",
       " 'frac2_(,hypot_(expl_(),))',\n",
       " 'plus2_(bump_(sinc_()),)',\n",
       " 'parabola_(hypot_(bump_(),parabola_(hypot_)))',\n",
       " 'parabola_(hypot_(times2_(parabola_(bump_(parabola_(times2_(normal_(),)))),),))',\n",
       " 'frac2_(bump_(neg_(expl_())),)',\n",
       " 'parabola_(hypot_(times2_(neg_(expl_()),parabola_(bump_(parabola_()))),))',\n",
       " 'parabola_(hypot_(bump_(neg_(expl_)),))',\n",
       " 'frac2_(bump_(neg_()),)',\n",
       " 'parabola_(hypot_(frac2_(,hypot_(expl_(),)),hypot_))',\n",
       " 'parabola_(hypot_(times2_(bump_(),),))',\n",
       " 'times2_(bump_(),neg_(parabola_(bump_())))',\n",
       " 'times2_(parabola_(hypot_(bump_(parabola_()),)),)',\n",
       " 'plus2_(bump_(hypot_(bump_(),)),bump_(neg_(expl_())))',\n",
       " 'frac2_(,expl_())',\n",
       " 'parabola_(bump_(parabola_))',\n",
       " 'times2_(bump_(),)',\n",
       " 'neg_(parabola_(bump_))',\n",
       " 'parabola_(hypot_(normal_(bump_),frac2_(,)))',\n",
       " 'times2_(neg_(expl_()),parabola_(bump_(parabola_())))',\n",
       " 'parabola_(hypot_)',\n",
       " 'parabola_(hypot_(bump_(parabola_()),))',\n",
       " 'parabola_(hypot_(normal_,))',\n",
       " 'times2_(,parabola_(hypot_(parabola_(sinc_(neg_())),)))',\n",
       " 'parabola_(parabola_(sinc_(neg_)))',\n",
       " 'bump_(bump_(sinc_(normal_)))',\n",
       " 'bump_(normal_(sinc_))',\n",
       " 'times2_(,parabola_())',\n",
       " 'neg_(parabola_)',\n",
       " 'times2_(hvs_(expl_()),sinc_())',\n",
       " 'bump_(bump_)',\n",
       " 'times2_(normal_(),)',\n",
       " 'plus2_(bump_(expl_()),expl_())',\n",
       " 'plus2_(bump_(normal_()),)',\n",
       " 'parabola_(normal_)',\n",
       " 'plus2_(bump_(normal_()),expl_())',\n",
       " 'parabola_(sinc_)',\n",
       " 'parabola_(sinc_(neg_))',\n",
       " 'normal_(parabola_(sinc_))',\n",
       " 'plus2_(bump_(normal_()),normal_(normal_()))',\n",
       " 'times2_(,parabola_(hypot_(normal_(parabola_(sinc_())),)))',\n",
       " 'times2_(neg_(parabola_(sinc_())),parabola_(sinc_()))',\n",
       " 'times2_(bump_(bump_(sinc_(normal_()))),)',\n",
       " 'times2_(neg_(),parabola_(hypot_(normal_(),normal_(sinc_()))))',\n",
       " 'plus2_(bump_(),)',\n",
       " 'plus2_(bump_(),expl_())',\n",
       " 'frac2_(,expl_())',\n",
       " 'plus2_(bump_(normal_()),bump_(bump_()))',\n",
       " 'plus2_(bump_(normal_()),normal_())',\n",
       " 'expl_(bump_(neg_))',\n",
       " 'plus2_(bump_(normal_()),parabola_(hypot_(normal_(),)))',\n",
       " 'parabola_(bump_(normal_))',\n",
       " 'frac2_(normal_(),)',\n",
       " 'parabola_(hypot_)',\n",
       " 'plus2_(bump_(bump_(sinc_(normal_()))),)',\n",
       " 'plus2_(bump_(sinc_()),expl_())',\n",
       " 'times2_(sinc_(hypot_(normal_(),hypot_(bump_(bump_()),sinc_()))),expl_(bump_(normal_())))',\n",
       " 'lnl_(hypot_(bump_(normal_()),sinc_))',\n",
       " 'normal_(parabola_(sinc_(sinc_)))',\n",
       " 'normal_(parabola_)',\n",
       " 'expl_(bump_(normal_))',\n",
       " 'normal_(parabola_(expl_(parabola_(sinc_))))',\n",
       " 'normal_(sinc_(normal_))',\n",
       " 'times2_(sinc_(hypot_(normal_(),parabola_())),normal_(sinc_(neg_())))',\n",
       " 'normal_(sinc_(sinc_(neg_)))',\n",
       " 'sinc_(hypot_(normal_(),hypot_))',\n",
       " 'sinc_(hypot_(normal_(),parabola_))',\n",
       " 'sinc_(hypot_(normal_(lnl_()),hypot_))',\n",
       " 'bump_(bump_)',\n",
       " 'times2_(bump_(neg_()),)',\n",
       " 'bump_(normal_)',\n",
       " 'times2_(bump_(normal_()),normal_(parabola_(expl_(parabola_(sinc_())))))',\n",
       " 'sinc_(sinc_(neg_))',\n",
       " 'times2_(bump_(neg_()),normal_(parabola_(sinc_(sinc_()))))',\n",
       " 'times2_(sinc_(hypot_(normal_(),hypot_(bump_(bump_()),sinc_()))),normal_(sinc_(sinc_(neg_()))))',\n",
       " 'times2_(bump_(),normal_())',\n",
       " 'sinc_(hypot_(normal_(parabola_(bump_())),hypot_(normal_,frac2_(,))))',\n",
       " 'normal_(sinc_(sinc_(hypot_(normal_(),hypot_))))',\n",
       " 'normal_(sinc_(sinc_(hypot_(normal_(),hypot_(neg_(),)))))',\n",
       " 'frac2_(,expl_(normal_(sinc_(neg_()))))',\n",
       " 'times2_(bump_(normal_()),normal_(parabola_(sinc_(sinc_()))))',\n",
       " 'normal_(sinc_(sinc_(hypot_(normal_(),hypot_(neg_,)))))',\n",
       " 'sinc_(hypot_(normal_(sinc_(sinc_())),hypot_))',\n",
       " 'sinc_(hypot_(normal_,))',\n",
       " 'times2_(lnl_(bump_()),)',\n",
       " 'times2_(normal_(sinc_(neg_())),)',\n",
       " 'times2_(sinc_(hypot_(normal_(),parabola_())),normal_(sinc_(sinc_(hypot_(normal_(),hypot_(neg_(),))))))',\n",
       " 'sinc_(hypot_(normal_(bump_(normal_(sinc_()))),hypot_))',\n",
       " 'normal_(sinc_(neg_))',\n",
       " 'lnl_(bump_)',\n",
       " 'frac2_(,expl_())',\n",
       " 'normal_(sinc_)',\n",
       " 'hypot_(bump_(normal_()),sinc_)',\n",
       " 'times2_(bump_(),normal_(parabola_(sinc_(sinc_()))))',\n",
       " 'times2_(bump_(),)',\n",
       " 'times2_(bump_(normal_()),normal_(parabola_()))',\n",
       " 'frac2_(normal_(),)',\n",
       " 'bump_(neg_)',\n",
       " 'normal_(sinc_(sinc_(hypot_(hypot_,))))',\n",
       " 'frac2_(expl_(bump_(normal_())),)',\n",
       " 'times2_(sinc_(),bump_(normal_(bump_(normal_()))))',\n",
       " 'sinc_(hypot_(normal_(),hypot_(bump_(bump_()),sinc_)))',\n",
       " 'sinc_(hypot_(hypot_,hypot_(sinc_(sinc_()),)))',\n",
       " 'frac2_(bump_(normal_()),)',\n",
       " 'normal_(parabola_)',\n",
       " 'frac2_(normal_(),expl_())',\n",
       " 'times2_(bump_(),neg_())',\n",
       " 'plus2_(normal_(),normal_(bump_(normal_())))',\n",
       " 'normal_(bump_(normal_))',\n",
       " 'plus2_(normal_(),)',\n",
       " 'frac2_(lnl_(),expl_())',\n",
       " 'normal_(normal_)',\n",
       " 'normal_(bump_)',\n",
       " 'bump_(normal_)',\n",
       " 'times2_(bump_(),bump_(normal_(bump_())))',\n",
       " 'times2_(bump_(),normal_())',\n",
       " 'plus2_(normal_(bump_()),)',\n",
       " 'times2_(bump_(),normal_(bump_()))',\n",
       " 'times2_(lnl_(),normal_(bump_()))',\n",
       " 'plus2_(parabola_(normal_()),)',\n",
       " 'plus2_(hvs_(normal_()),)',\n",
       " 'times2_(lnl_(),parabola_(bump_()))',\n",
       " 'times2_(lnl_(),parabola_())',\n",
       " 'times2_(lnl_(),)',\n",
       " 'times2_(sinc_(),)',\n",
       " 'frac2_(,expl_())',\n",
       " 'times2_(bump_(bump_(normal_())),)',\n",
       " 'times2_(bump_(),neg_(parabola_(normal_())))',\n",
       " 'frac2_(,lnl_())',\n",
       " 'times2_(bump_(),)',\n",
       " 'times2_(bump_(),neg_(parabola_()))',\n",
       " 'times2_(bump_(),neg_(normal_(bump_())))',\n",
       " 'times2_(parabola_(parabola_()),)',\n",
       " 'parabola_(bump_)',\n",
       " 'times2_(lnl_(),parabola_(parabola_(bump_())))',\n",
       " 'times2_(parabola_(bump_(bump_())),)',\n",
       " 'bump_(normal_(bump_(sinc_)))',\n",
       " 'expl_(neg_)',\n",
       " 'hypot_(expl_(),parabola_)',\n",
       " 'plus2_(bump_(),normal_(bump_()))',\n",
       " 'bump_(bump_)',\n",
       " 'frac2_(neg_(bump_()),expl_())',\n",
       " 'bump_(normal_(bump_(hypot_(expl_(),))))',\n",
       " 'neg_(lnl_)',\n",
       " 'times2_(sinc_(),parabola_())',\n",
       " 'parabola_(bump_(sinc_))',\n",
       " 'times2_(parabola_(sinc_()),)',\n",
       " 'times2_(parabola_(parabola_(bump_())),parabola_())',\n",
       " 'times2_(parabola_(bump_(lnl_())),)',\n",
       " 'times2_(parabola_(bump_(sinc_())),)',\n",
       " 'bump_(normal_(parabola_))',\n",
       " 'times2_(lnl_(),parabola_(bump_()))',\n",
       " 'times2_(lnl_(),parabola_())',\n",
       " 'times2_(bump_(normal_(bump_(sinc_()))),lnl_())',\n",
       " 'plus2_(neg_(lnl_()),)',\n",
       " 'neg_(parabola_(bump_(bump_)))',\n",
       " 'frac2_(,expl_())',\n",
       " 'times2_(bump_(),)',\n",
       " 'times2_(bump_(normal_(bump_(sinc_()))),)',\n",
       " 'parabola_(parabola_(bump_))',\n",
       " 'parabola_(bump_(bump_))',\n",
       " 'parabola_(hypot_(hypot_(bump_(),),times2_(bump_(),)))',\n",
       " 'plus2_(expl_(),)',\n",
       " 'plus2_(expl_(hypot_(expl_(),)),parabola_())',\n",
       " 'parabola_(hypot_(hypot_(bump_,frac2_(normal_(normal_(expl_())),)),times2_(bump_(),)))',\n",
       " 'plus2_(expl_(hypot_(expl_(),)),)',\n",
       " 'hypot_(plus2_(bump_(neg_(plus2_(,))),bump_),times2_(bump_(),neg_(plus2_(,))))',\n",
       " 'frac2_(bump_(),expl_())',\n",
       " 'normal_(hypot_(parabola_(),))',\n",
       " 'parabola_(parabola_(hypot_(bump_,frac2_(normal_(expl_()),))))',\n",
       " 'parabola_(hypot_(hypot_,times2_(bump_(),parabola_())))',\n",
       " 'parabola_(hypot_(hypot_,times2_(bump_(),neg_(plus2_(lnl_(),)))))',\n",
       " 'expl_(hypot_(neg_,))',\n",
       " 'bump_(normal_)',\n",
       " 'plus2_(,parabola_(sinc_()))',\n",
       " 'parabola_(hypot_(hypot_(bump_,plus2_(lnl_(frac2_(,plus2_(,))),expl_())),times2_(bump_(),)))',\n",
       " 'parabola_(hypot_(hypot_(frac2_(normal_(parabola_()),),),times2_(bump_(),parabola_())))',\n",
       " 'frac2_(,parabola_())',\n",
       " 'hypot_(bump_(),sinc_)',\n",
       " 'frac2_(normal_(normal_(expl_())),)',\n",
       " 'parabola_(hypot_(hypot_(bump_,frac2_(normal_(parabola_()),)),))',\n",
       " 'plus2_(expl_(hypot_(expl_(),hypot_(parabola_(parabola_()),))),)',\n",
       " 'hypot_(parabola_(),)',\n",
       " 'lnl_(hypot_(sinc_(normal_),hypot_(bump_(),sinc_())))',\n",
       " 'frac2_(parabola_(),)',\n",
       " 'parabola_(hypot_(hypot_,times2_(bump_(),neg_(plus2_(frac2_(parabola_(),),)))))',\n",
       " 'parabola_(hypot_(hypot_(frac2_(normal_(parabola_()),),),times2_(bump_(),neg_(plus2_(lnl_(),)))))',\n",
       " 'frac2_(,parabola_(sinc_()))',\n",
       " 'hypot_(expl_(),parabola_(normal_(hypot_(parabola_(),))))',\n",
       " 'frac2_(normal_(expl_()),)',\n",
       " 'times2_(lnl_(),parabola_())',\n",
       " 'parabola_(hypot_(hypot_(bump_,plus2_(lnl_(frac2_(,plus2_(,))),expl_())),parabola_()))',\n",
       " 'bump_(sinc_)',\n",
       " 'plus2_(expl_(parabola_()),)',\n",
       " 'bump_(hypot_)',\n",
       " 'plus2_(lnl_(),)',\n",
       " 'parabola_(hypot_(hypot_(bump_,frac2_(normal_(parabola_()),)),times2_(,)))',\n",
       " 'times2_(bump_(),parabola_())',\n",
       " 'times2_(bump_(sinc_()),neg_(bump_()))',\n",
       " 'plus2_(,parabola_(bump_()))',\n",
       " 'parabola_(hypot_(bump_(),normal_))',\n",
       " 'frac2_(normal_(parabola_()),)',\n",
       " 'parabola_(hypot_(hypot_(bump_(),plus2_(lnl_(frac2_(,plus2_(,))),expl_)),times2_(bump_(),)))',\n",
       " 'frac2_(,hypot_(parabola_(hypot_(bump_(),)),))',\n",
       " 'lnl_(hypot_(expl_(),parabola_(normal_(hypot_(parabola_(),)))))',\n",
       " 'times2_(lnl_(),expl_(hypot_(expl_(),)))',\n",
       " 'times2_(bump_(),)',\n",
       " 'parabola_(normal_(hypot_(parabola_(),)))',\n",
       " 'parabola_(parabola_(hypot_(bump_(),)))',\n",
       " 'bump_(neg_)',\n",
       " 'plus2_(parabola_(sinc_()),parabola_())',\n",
       " 'bump_(bump_(hypot_))',\n",
       " 'parabola_(hypot_(hypot_(bump_,frac2_(normal_(parabola_()),)),times2_(bump_(),)))',\n",
       " 'parabola_(hypot_(hypot_(bump_(),frac2_(normal_(parabola_()),)),times2_(bump_(),)))',\n",
       " 'plus2_(expl_(hypot_(parabola_(),)),)',\n",
       " 'parabola_(normal_(parabola_))',\n",
       " 'parabola_(hypot_(hypot_(bump_(),frac2_(normal_(normal_(expl_())),)),times2_(bump_(),)))',\n",
       " 'parabola_(hypot_(hypot_(frac2_(normal_(parabola_()),),),times2_(bump_(),neg_(plus2_(frac2_(parabola_(),),)))))',\n",
       " 'parabola_(hypot_(hypot_(bump_(),frac2_(normal_(parabola_()),)),times2_(,)))',\n",
       " 'frac2_(lnl_(),expl_(bump_(expl_(bump_(normal_())))))',\n",
       " 'bump_(normal_(sinc_(sinc_)))',\n",
       " 'frac2_(bump_(),expl_())',\n",
       " 'sinc_(sinc_)',\n",
       " 'frac2_(,normal_())',\n",
       " 'plus2_(sinc_(sinc_()),)',\n",
       " 'hypot_(hypot_,)',\n",
       " 'plus2_(bump_(),hypot_(expl_(),))',\n",
       " 'frac2_(sinc_(),parabola_())',\n",
       " 'bump_(bump_)',\n",
       " 'frac2_(lnl_(),expl_())',\n",
       " 'bump_(normal_)',\n",
       " 'frac2_(,parabola_())',\n",
       " 'frac2_(parabola_(sinc_()),expl_(bump_()))',\n",
       " ...]"
      ]
     },
     "execution_count": 21,
     "metadata": {},
     "output_type": "execute_result"
    }
   ],
   "source": [
    "collect_patterns_from_label(\"heart_rate\", \"unique\")"
   ]
  },
  {
   "cell_type": "code",
   "execution_count": 22,
   "metadata": {
    "collapsed": false
   },
   "outputs": [],
   "source": [
    "def get_popular_patterns(label, regime, threshhold_popularity = 20):\n",
    "    \n",
    "    patterns = collect_patterns_from_label(label, regime)\n",
    "    countered_patterns = Counter(patterns)\n",
    "\n",
    "    popular_patterns = [item for item in set(patterns) if countered_patterns[item] >= threshhold_popularity]\n",
    "    \n",
    "    return popular_patterns"
   ]
  },
  {
   "cell_type": "code",
   "execution_count": 23,
   "metadata": {
    "collapsed": true
   },
   "outputs": [],
   "source": [
    "def get_threshhold_for_patterns_selection(label, desired_number_of_patterns, regime):\n",
    "    \n",
    "    threshhold_popularity = 0\n",
    "\n",
    "    patterns = collect_patterns_from_label(label, regime)\n",
    "    unique_patterns = set(patterns)\n",
    "    countered_patterns = Counter(patterns)\n",
    "\n",
    "    for threshhold_popularity in np.arange(1,1000,1):\n",
    "        popular_patterns = [item for item in unique_patterns if countered_patterns[item] >= threshhold_popularity]\n",
    "        if len(popular_patterns) <= desired_number_of_patterns:\n",
    "            break\n",
    "    return threshhold_popularity"
   ]
  },
  {
   "cell_type": "code",
   "execution_count": 24,
   "metadata": {
    "collapsed": true
   },
   "outputs": [],
   "source": [
    "def get_countered_useful_patterns(label,desired_number_of_patterns = 40, regime = 'unique'):\n",
    "    \n",
    "    threshhold_popularity = get_threshhold_for_patterns_selection(label,desired_number_of_patterns, regime)\n",
    "    unique_popular_patterns = get_popular_patterns(label, regime, threshhold_popularity)\n",
    "\n",
    "    all_patterns = collect_patterns_from_label(label, regime)\n",
    "    popular_counter_to_count = [item for item in all_patterns if item in unique_popular_patterns]\n",
    "    return Counter(popular_counter_to_count)"
   ]
  },
  {
   "cell_type": "code",
   "execution_count": 25,
   "metadata": {
    "collapsed": true
   },
   "outputs": [],
   "source": [
    "def get_features_patterns_population(population, useful_patterns_list, regime):\n",
    "    patterns = collect_patterns_from_population(population, regime)\n",
    "    countered_patterns = Counter(patterns)\n",
    "    \n",
    "    features = [countered_patterns.get(item,0) for item in useful_patterns_list]\n",
    "    #return normalize(np.array(features,dtype=float).reshape(-1,1), axis = 1)\n",
    "    return scale(np.array(features,dtype=float).reshape(-1,1))\n",
    "    #return np.array(features,dtype=float).reshape(-1,1)"
   ]
  },
  {
   "cell_type": "code",
   "execution_count": 26,
   "metadata": {
    "collapsed": true
   },
   "outputs": [],
   "source": [
    "def create_filename(label, number_of_segment):\n",
    "    return label + '_' + str(number_of_segment) + '.txt'"
   ]
  },
  {
   "cell_type": "markdown",
   "metadata": {},
   "source": [
    "** Retrieve nonstructural features **\n",
    "=="
   ]
  },
  {
   "cell_type": "code",
   "execution_count": 30,
   "metadata": {
    "collapsed": false
   },
   "outputs": [],
   "source": [
    "def create_min_max_features():\n",
    "    config = MVRAttributesExtraction.attributes_extraction()\n",
    "    number_of_segments = int(config[\"time_series_processing\"][\"number_of_segments\"])\n",
    "    # we add two nonstructural features, may be usefull for improving classification\n",
    "    minmax_features = np.zeros((number_ts_pieces * len(ts_labels),1))\n",
    "\n",
    "    for ind_segment in range(number_ts_pieces):\n",
    "        for ind_label, label in enumerate(ts_labels):\n",
    "\n",
    "            whole_ts_to_fit = DataLoader.retrieve_ts(config, label)\n",
    "            list_ts_to_fit  = SegmentatorTS.segmentate_ts(whole_ts_to_fit, int(config[\"time_series_processing\"][\"number_of_segments\"]))\n",
    "\n",
    "            ts_to_fit           = DataPreprocesser.data_preprocesser(list_ts_to_fit[ind_segment])[:,0]\n",
    "            minmax_features[ind_segment + ind_label * number_ts_pieces] = - min(ts_to_fit) + max(ts_to_fit)\n",
    "            minmax_features = scale(minmax_features)\n",
    "    return minmax_features"
   ]
  },
  {
   "cell_type": "markdown",
   "metadata": {},
   "source": [
    "** Create structural features based on the construction of models trees **\n",
    "==\n",
    "** Examples: depth, width, fullness, size **"
   ]
  },
  {
   "cell_type": "code",
   "execution_count": 31,
   "metadata": {
    "collapsed": true
   },
   "outputs": [],
   "source": [
    "def find_tree_nodes_heights(tree):\n",
    "    heights = np.zeros((len(tree)), dtype = int)\n",
    "    visited, stack = set(), [0]\n",
    "    while stack:        \n",
    "        vertex = stack[-1]\n",
    "        if vertex not in visited:\n",
    "            visited.add(vertex)\n",
    "            stack.extend(tree[vertex])\n",
    "        else:\n",
    "            if tree[vertex]:\n",
    "                heights[vertex] = max([heights[ind] + 1 for ind in tree[vertex]])\n",
    "            vertex = stack.pop()\n",
    "    return heights"
   ]
  },
  {
   "cell_type": "code",
   "execution_count": 32,
   "metadata": {
    "collapsed": true
   },
   "outputs": [],
   "source": [
    "def create_tree_features_of_population(label, ind_segment):\n",
    "    filename = create_filename(label, ind_segment)\n",
    "    population = get_population_from_file(filename)\n",
    "    population_tree_fts = {'height' : [], 'width' : [], 'size' : []}\n",
    "    for model in population:\n",
    "        tree, _ = dfs_search_on_handle(model)\n",
    "        heights = find_tree_nodes_heights(tree)\n",
    "        levels_sizes = Counter(heights)\n",
    "        \n",
    "        population_tree_fts['height'].append(heights[0])\n",
    "        population_tree_fts['width'].append(max(levels_sizes.values()))\n",
    "        population_tree_fts['size'].append(len(tree))\n",
    "        \n",
    "    population_tree_fts = {'height' : np.mean(population_tree_fts['height']), \n",
    "                           'width' : np.mean(population_tree_fts['width']),\n",
    "                           'size' : np.mean(population_tree_fts['size'])}\n",
    "    \n",
    "    return population_tree_fts"
   ]
  },
  {
   "cell_type": "code",
   "execution_count": 33,
   "metadata": {
    "collapsed": false
   },
   "outputs": [],
   "source": [
    "def create_tree_features_of_label(label):\n",
    "    label_tree_fts = {'height' : np.zeros(number_ts_pieces), \n",
    "                           'width' : np.zeros(number_ts_pieces), \n",
    "                           'size' : np.zeros(number_ts_pieces)}\n",
    "    for i in range(number_ts_pieces):\n",
    "        population_tree_fts = create_tree_features_of_population(label, i + 1)\n",
    "        for key in label_tree_fts:\n",
    "            label_tree_fts[key][i] = population_tree_fts[key]\n",
    "    \n",
    "    matrix_form_tree_features = np.vstack((label_tree_fts[label] for label in label_tree_fts)).T\n",
    "        \n",
    "\n",
    "    return matrix_form_tree_features"
   ]
  },
  {
   "cell_type": "code",
   "execution_count": 34,
   "metadata": {
    "collapsed": false
   },
   "outputs": [],
   "source": [
    "def create_tree_features_for_all_labels():\n",
    "    return scale(np.vstack((create_tree_features_of_label(label) for label in ts_labels)))"
   ]
  },
  {
   "cell_type": "markdown",
   "metadata": {},
   "source": [
    "** Averaged heights **"
   ]
  },
  {
   "cell_type": "code",
   "execution_count": 35,
   "metadata": {
    "collapsed": false
   },
   "outputs": [],
   "source": [
    "def create_averaged_height_vs_tokens_label(label):\n",
    "    tokens_names = get_ordered_list_tokens()[:-1]\n",
    "    averaged_height_features = np.zeros((number_ts_pieces, len(tokens_names)))\n",
    "    \n",
    "    for i in range(number_ts_pieces):\n",
    "        population = get_population_from_file(create_filename(label, i + 1))\n",
    "        for model in population:\n",
    "            tree, encodings = dfs_search_on_handle(model)\n",
    "            heights = find_tree_nodes_heights(tree)\n",
    "            \n",
    "            temp_dict_heights = {tokens_names[code] : [] for code in encodings if code < len(tokens_names)}\n",
    "\n",
    "            for j in range(len(heights)):\n",
    "                if encodings[j] < len(tokens_names):\n",
    "                    temp_dict_heights[tokens_names[encodings[j]]].append(heights[j])\n",
    "            \n",
    "            averaged_height_features[i,:] += np.array([np.mean(temp_dict_heights.get(token, [0])) for token in tokens_names])              \n",
    "        averaged_height_features[i,:] = (averaged_height_features[i,:] / len(population))\n",
    "        \n",
    "    return averaged_height_features"
   ]
  },
  {
   "cell_type": "code",
   "execution_count": 36,
   "metadata": {
    "collapsed": true
   },
   "outputs": [],
   "source": [
    "def create_averaged_height_vs_tokens_for_all_labels():\n",
    "    return scale(np.vstack((create_averaged_height_vs_tokens_label(label) for label in ts_labels)))"
   ]
  },
  {
   "cell_type": "markdown",
   "metadata": {},
   "source": [
    "** Additional functional for casual work **\n",
    "=="
   ]
  },
  {
   "cell_type": "code",
   "execution_count": 30,
   "metadata": {
    "collapsed": true
   },
   "outputs": [],
   "source": [
    "def bool_indexing_to_int(bool_indices):\n",
    "    return np.array([ind for ind, val in enumerate(bool_indices) if val], dtype = int)"
   ]
  },
  {
   "cell_type": "code",
   "execution_count": 31,
   "metadata": {
    "collapsed": true
   },
   "outputs": [],
   "source": [
    "def renew_measurements_errors(vector_mistakes_segments, matrix_mutual_interferences,\n",
    "                             vector_occurences_segments, matrix_occurences_mutual,\n",
    "                             indices_of_test_sample, errors):\n",
    "    int_indices_test_sample  = bool_indexing_to_int(indices_of_test_sample)\n",
    "    int_indices_train_sample = bool_indexing_to_int(~indices_of_test_sample)\n",
    "    int_indices_errors           = bool_indexing_to_int(errors)\n",
    "    \n",
    "    for ind in int_indices_test_sample:\n",
    "        vector_occurences_segments[ind] += 1\n",
    "    \n",
    "    for ind_te in int_indices_test_sample:\n",
    "        for ind_tr in int_indices_train_sample:\n",
    "            matrix_occurences_mutual[ind_te][ind_tr] += 1\n",
    "            #matrix_occurences_mutual[ind_tr][ind_te] += 1\n",
    "    \n",
    "    for ind in int_indices_errors:\n",
    "        vector_mistakes_segments[int_indices_test_sample[ind]] += 1\n",
    "    \n",
    "    for ind_te in int_indices_errors:\n",
    "        for ind_tr in int_indices_train_sample:\n",
    "            matrix_mutual_interferences[int_indices_test_sample[ind_te]][ind_tr] += 1"
   ]
  },
  {
   "cell_type": "code",
   "execution_count": 32,
   "metadata": {
    "collapsed": true
   },
   "outputs": [],
   "source": [
    "def print_numpy_object(obj_name_string):\n",
    "    np.savetxt(obj_name_string + \".csv\", eval(obj_name_string), delimiter=\",\", fmt='%.2f')"
   ]
  },
  {
   "cell_type": "markdown",
   "metadata": {},
   "source": [
    "** Preset some arrays and matrices **"
   ]
  },
  {
   "cell_type": "markdown",
   "metadata": {},
   "source": [
    "** Analysis of distributions of features **\n",
    "=="
   ]
  },
  {
   "cell_type": "code",
   "execution_count": 38,
   "metadata": {
    "collapsed": true
   },
   "outputs": [],
   "source": [
    "def find_total_number_of_tokens_in_population(index_of_segment, label, number_of_retrieved_models = None):\n",
    "    filename = label + '_' + str(index_of_segment + 1) + '.txt'\n",
    "    population = get_population_from_file(filename)[0:number_of_retrieved_models]\n",
    "    total_number = 0\n",
    "    for model in population:\n",
    "        total_number += extract_tokens(model).count('&') + 1\n",
    "        \n",
    "    return total_number"
   ]
  },
  {
   "cell_type": "code",
   "execution_count": 39,
   "metadata": {
    "collapsed": true
   },
   "outputs": [],
   "source": [
    "def find_token_frequency_in_population(token, index_of_segment, label):\n",
    "    number_of_retrieved_models = None\n",
    "    filename = label + '_' + str(index_of_segment + 1) + '.txt'\n",
    "    population = get_population_from_file(filename)[0:number_of_retrieved_models]\n",
    "    \n",
    "    times_occur = 0\n",
    "    total_number = find_total_number_of_tokens_in_population(index_of_segment, label, number_of_retrieved_models)\n",
    "    for model in population:\n",
    "        tokens_names = extract_tokens(model).split('&')\n",
    "        times_occur += tokens_names.count(token)\n",
    "    frequency = times_occur / total_number\n",
    "    \n",
    "    return frequency"
   ]
  },
  {
   "cell_type": "code",
   "execution_count": 66,
   "metadata": {
    "collapsed": false
   },
   "outputs": [
    {
     "data": {
      "image/png": "[encoded data removed]",
      "text/plain": [
       "<matplotlib.figure.Figure at 0x7f3c6fd0a7b8>"
      ]
     },
     "metadata": {},
     "output_type": "display_data"
    },
    {
     "data": {
      "image/png": "[encoded data removed]",
      "text/plain": [
       "<matplotlib.figure.Figure at 0x7f3c6e16fb38>"
      ]
     },
     "metadata": {},
     "output_type": "display_data"
    },
    {
     "data": {
      "image/png": "[encoded data removed]",
      "text/plain": [
       "<matplotlib.figure.Figure at 0x7f3c6ead4c88>"
      ]
     },
     "metadata": {},
     "output_type": "display_data"
    },
    {
     "data": {
      "image/png": "[encoded data removed]",
      "text/plain": [
       "<matplotlib.figure.Figure at 0x7f3c6e6bd4e0>"
      ]
     },
     "metadata": {},
     "output_type": "display_data"
    },
    {
     "data": {
      "image/png": "[encoded data removed]",
      "text/plain": [
       "<matplotlib.figure.Figure at 0x7f3c6e3e46a0>"
      ]
     },
     "metadata": {},
     "output_type": "display_data"
    },
    {
     "data": {
      "image/png": "[encoded data removed]",
      "text/plain": [
       "<matplotlib.figure.Figure at 0x7f3c6ea2f5c0>"
      ]
     },
     "metadata": {},
     "output_type": "display_data"
    },
    {
     "data": {
      "image/png": "[encoded data removed]",
      "text/plain": [
       "<matplotlib.figure.Figure at 0x7f3c6fe41ac8>"
      ]
     },
     "metadata": {},
     "output_type": "display_data"
    },
    {
     "data": {
      "image/png": "[encoded data removed]",
      "text/plain": [
       "<matplotlib.figure.Figure at 0x7f3c6e4f4fd0>"
      ]
     },
     "metadata": {},
     "output_type": "display_data"
    },
    {
     "data": {
      "image/png": "[encoded data removed]",
      "text/plain": [
       "<matplotlib.figure.Figure at 0x7f3c6f545518>"
      ]
     },
     "metadata": {},
     "output_type": "display_data"
    },
    {
     "data": {
      "image/png": "[encoded data removed]",
      "text/plain": [
       "<matplotlib.figure.Figure at 0x7f3c6ed70a20>"
      ]
     },
     "metadata": {},
     "output_type": "display_data"
    },
    {
     "data": {
      "image/png": "[encoded data removed]",
      "text/plain": [
       "<matplotlib.figure.Figure at 0x7f3c6f209f28>"
      ]
     },
     "metadata": {},
     "output_type": "display_data"
    },
    {
     "data": {
      "image/png": "[encoded data removed]",
      "text/plain": [
       "<matplotlib.figure.Figure at 0x7f3c6f079978>"
      ]
     },
     "metadata": {},
     "output_type": "display_data"
    },
    {
     "data": {
      "image/png": "[encoded data removed]",
      "text/plain": [
       "<matplotlib.figure.Figure at 0x7f3c6f00c470>"
      ]
     },
     "metadata": {},
     "output_type": "display_data"
    },
    {
     "data": {
      "image/png": "[encoded data removed]",
      "text/plain": [
       "<matplotlib.figure.Figure at 0x7f3c6e466438>"
      ]
     },
     "metadata": {},
     "output_type": "display_data"
    },
    {
     "data": {
      "image/png": "[encoded data removed]",
      "text/plain": [
       "<matplotlib.figure.Figure at 0x7f3c6f6553c8>"
      ]
     },
     "metadata": {},
     "output_type": "display_data"
    },
    {
     "data": {
      "image/png": "[encoded data removed]",
      "text/plain": [
       "<matplotlib.figure.Figure at 0x7f3c6f9d48d0>"
      ]
     },
     "metadata": {},
     "output_type": "display_data"
    }
   ],
   "source": [
    "tokens_names = get_ordered_list_tokens()\n",
    "number_of_tokens = len(tokens_names)\n",
    "\n",
    "for index_of_token in range(number_of_tokens):\n",
    "    token_processed = tokens_names[index_of_token]\n",
    "    frequencies_token = np.zeros((number_ts_pieces,len(ts_labels)))\n",
    "    \n",
    "    for ind_label, label in enumerate(ts_labels):\n",
    "        for ind_of_segment in range(number_ts_pieces):\n",
    "            frequencies_token[ind_of_segment,ind_label] = \\\n",
    "                            find_token_frequency_in_population(token_processed, ind_of_segment, label)\n",
    "    \n",
    "    plt.figure(index_of_token + 1, figsize = (10,4))\n",
    "    \n",
    "    bins = np.linspace(0, .5, 50)\n",
    "    for ind, label in enumerate(ts_labels):\n",
    "        plt.hist(frequencies_token[:,ind], bins, alpha=0.3, label=label)\n",
    "    plt.title(token_processed)\n",
    "    plt.legend(loc='upper right')\n",
    "\n",
    "plt.show()"
   ]
  },
  {
   "cell_type": "markdown",
   "metadata": {},
   "source": [
    "** Analysis on the tokens parameters distribution **"
   ]
  },
  {
   "cell_type": "code",
   "execution_count": 67,
   "metadata": {
    "collapsed": true
   },
   "outputs": [],
   "source": [
    "config = MVRAttributesExtraction.attributes_extraction()\n",
    "info_tokens = ReadTokensInfoForOptimization.read_info_tokens_for_optimization(config)"
   ]
  },
  {
   "cell_type": "code",
   "execution_count": 68,
   "metadata": {
    "collapsed": false
   },
   "outputs": [
    {
     "data": {
      "image/png": "[encoded data removed]",
      "text/plain": [
       "<matplotlib.figure.Figure at 0x7f3c6f47cda0>"
      ]
     },
     "metadata": {},
     "output_type": "display_data"
    },
    {
     "data": {
      "image/png": "[encoded data removed]",
      "text/plain": [
       "<matplotlib.figure.Figure at 0x7f3c6f2dd518>"
      ]
     },
     "metadata": {},
     "output_type": "display_data"
    },
    {
     "data": {
      "image/png": "[encoded data removed]",
      "text/plain": [
       "<matplotlib.figure.Figure at 0x7f3c6daf1eb8>"
      ]
     },
     "metadata": {},
     "output_type": "display_data"
    },
    {
     "data": {
      "image/png": "[encoded data removed]",
      "text/plain": [
       "<matplotlib.figure.Figure at 0x7f3c6d913160>"
      ]
     },
     "metadata": {},
     "output_type": "display_data"
    },
    {
     "data": {
      "image/png": "[encoded data removed]",
      "text/plain": [
       "<matplotlib.figure.Figure at 0x7f3c6d7ad3c8>"
      ]
     },
     "metadata": {},
     "output_type": "display_data"
    },
    {
     "data": {
      "image/png": "[encoded data removed]",
      "text/plain": [
       "<matplotlib.figure.Figure at 0x7f3c6d5ca630>"
      ]
     },
     "metadata": {},
     "output_type": "display_data"
    },
    {
     "data": {
      "image/png": "[encoded data removed]",
      "text/plain": [
       "<matplotlib.figure.Figure at 0x7f3c6f269e48>"
      ]
     },
     "metadata": {},
     "output_type": "display_data"
    },
    {
     "data": {
      "image/png": "[encoded data removed]",
      "text/plain": [
       "<matplotlib.figure.Figure at 0x7f3c6e440b38>"
      ]
     },
     "metadata": {},
     "output_type": "display_data"
    },
    {
     "data": {
      "image/png": "[encoded data removed]",
      "text/plain": [
       "<matplotlib.figure.Figure at 0x7f3c6fa34588>"
      ]
     },
     "metadata": {},
     "output_type": "display_data"
    },
    {
     "data": {
      "image/png": "[encoded data removed]",
      "text/plain": [
       "<matplotlib.figure.Figure at 0x7f3c6fee4e10>"
      ]
     },
     "metadata": {},
     "output_type": "display_data"
    },
    {
     "data": {
      "image/png": "[encoded data removed]",
      "text/plain": [
       "<matplotlib.figure.Figure at 0x7f3c6fb2c588>"
      ]
     },
     "metadata": {},
     "output_type": "display_data"
    },
    {
     "data": {
      "image/png": "[encoded data removed]",
      "text/plain": [
       "<matplotlib.figure.Figure at 0x7f3c6fa57908>"
      ]
     },
     "metadata": {},
     "output_type": "display_data"
    },
    {
     "data": {
      "image/png": "[encoded data removed]",
      "text/plain": [
       "<matplotlib.figure.Figure at 0x7f3c6ef74b70>"
      ]
     },
     "metadata": {},
     "output_type": "display_data"
    },
    {
     "data": {
      "image/png": "[encoded data removed]",
      "text/plain": [
       "<matplotlib.figure.Figure at 0x7f3c6f3d7dd8>"
      ]
     },
     "metadata": {},
     "output_type": "display_data"
    },
    {
     "data": {
      "image/png": "[encoded data removed]",
      "text/plain": [
       "<matplotlib.figure.Figure at 0x7f3c6fc4e080>"
      ]
     },
     "metadata": {},
     "output_type": "display_data"
    },
    {
     "data": {
      "image/png": "[encoded data removed]",
      "text/plain": [
       "<matplotlib.figure.Figure at 0x7f3c6f0592e8>"
      ]
     },
     "metadata": {},
     "output_type": "display_data"
    },
    {
     "data": {
      "image/png": "[encoded data removed]",
      "text/plain": [
       "<matplotlib.figure.Figure at 0x7f3c6f0fb2b0>"
      ]
     },
     "metadata": {},
     "output_type": "display_data"
    },
    {
     "data": {
      "image/png": "[encoded data removed]",
      "text/plain": [
       "<matplotlib.figure.Figure at 0x7f3c6f3abd68>"
      ]
     },
     "metadata": {},
     "output_type": "display_data"
    },
    {
     "data": {
      "image/png": "[encoded data removed]",
      "text/plain": [
       "<matplotlib.figure.Figure at 0x7f3c6e2083c8>"
      ]
     },
     "metadata": {},
     "output_type": "display_data"
    },
    {
     "data": {
      "image/png": "[encoded data removed]",
      "text/plain": [
       "<matplotlib.figure.Figure at 0x7f3c6fca9278>"
      ]
     },
     "metadata": {},
     "output_type": "display_data"
    }
   ],
   "source": [
    "label_vs_set_dict = {label : get_set_of_tokens_params_values(label) for label in ts_labels}\n",
    "tokens_names         = get_ordered_list_tokens()\n",
    "_, tokens_num_params = create_map_tokens_params()\n",
    "\n",
    "number_of_tokens = len(tokens_names)\n",
    "\n",
    "for index_of_token in range(number_of_tokens):\n",
    "    token_processed = tokens_names[index_of_token]\n",
    "    \n",
    "    for pos_param in range(tokens_num_params[token_processed]):\n",
    "        plt.figure(figsize = (10,4))\n",
    "        xaxis_left  = info_tokens[token_processed][1][0][pos_param]\n",
    "        xaxis_right = info_tokens[token_processed][1][1][pos_param]\n",
    "        if xaxis_left == -np.inf:\n",
    "            xaxis_left  = -10\n",
    "        if xaxis_right == np.inf:\n",
    "            xaxis_right = 10\n",
    "\n",
    "        bins = np.linspace(xaxis_left, xaxis_right, 50)\n",
    "\n",
    "        for label in ts_labels:\n",
    "            set_values_param_token = label_vs_set_dict[label][token_processed]\n",
    "            set_values_of_param = [row[pos_param] for row in set_values_param_token]\n",
    "            plt.hist(set_values_of_param, bins, alpha=0.5, label=label)\n",
    "            plt.title(token_processed + ', w' + str(pos_param))\n",
    "            plt.legend(loc='upper right')\n",
    "            \n",
    "\n",
    "plt.show()"
   ]
  },
  {
   "cell_type": "code",
   "execution_count": null,
   "metadata": {
    "collapsed": true
   },
   "outputs": [],
   "source": []
  }
 ],
 "metadata": {
  "kernelspec": {
   "display_name": "Python 3",
   "language": "python",
   "name": "python3"
  },
  "language_info": {
   "codemirror_mode": {
    "name": "ipython",
    "version": 3
   },
   "file_extension": ".py",
   "mimetype": "text/x-python",
   "name": "python",
   "nbconvert_exporter": "python",
   "pygments_lexer": "ipython3",
   "version": "3.4.2"
  }
 },
 "nbformat": 4,
 "nbformat_minor": 0
}
