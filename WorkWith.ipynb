{
 "cells": [
  {
   "cell_type": "code",
   "execution_count": 6,
   "metadata": {
    "collapsed": false
   },
   "outputs": [
    {
     "name": "stdout",
     "output_type": "stream",
     "text": [
      "iteration#  0\n",
      "time elapsed for select_best_models : 8.535385131835938e-05\n",
      "30  models are selected\n",
      "best yet generated model 52.5510021948\n",
      "ln_(frac2_(X[0],X[1]))\n",
      "no params\n",
      "\n",
      "iteration#  1\n",
      "time elapsed for select_best_models : 0.0001342296600341797\n",
      "30  models are selected\n",
      "best yet generated model 47.1100650336\n",
      "times2_(ln_(parabola_(X[0])),cos_(X[0]))\n",
      "[-0.32033256  0.54011162  2.32356311]\n",
      "\n",
      "iteration#  2\n",
      "time elapsed for select_best_models : 0.0001289844512939453\n",
      "30  models are selected\n",
      "best yet generated model 38.1961449856\n",
      "times2_(ln_(parabola_(X[0])),expl_(sqrt_(frac2_(X[0],X[1]))))\n",
      "[-0.05494378  0.64980513  2.95112602  0.3394676  -0.35367129]\n",
      "\n"
     ]
    }
   ],
   "source": [
    "%run main.py"
   ]
  },
  {
   "cell_type": "code",
   "execution_count": 3,
   "metadata": {
    "collapsed": true
   },
   "outputs": [],
   "source": [
    "import numpy as np"
   ]
  },
  {
   "cell_type": "code",
   "execution_count": 7,
   "metadata": {
    "collapsed": false
   },
   "outputs": [
    {
     "data": {
      "text/plain": [
       "20"
      ]
     },
     "execution_count": 7,
     "metadata": {},
     "output_type": "execute_result"
    }
   ],
   "source": [
    "string = 'times2_(atana_(sin_(minus2_(sin_(atana_(sin_(plus2_(cosa_(exp_(X[0])),parabola_(sin_(X[0])))))),X[0]))),plus2_(plus2_(cosa_(exp_(X[0])),hvs_(linear_(atan_(X[0])))),exp_(X[0])))'\n",
    "string = np.array(list(string)) \n",
    "sum(string == '_')"
   ]
  },
  {
   "cell_type": "code",
   "execution_count": 28,
   "metadata": {
    "collapsed": false
   },
   "outputs": [
    {
     "data": {
      "text/plain": [
       "2"
      ]
     },
     "execution_count": 28,
     "metadata": {},
     "output_type": "execute_result"
    }
   ],
   "source": [
    "string = 'ln_(frac2_(X[0],X[1]))'\n",
    "p = len(re.compile('X\\[\\d+\\]').findall(string))\n",
    "p"
   ]
  }
 ],
 "metadata": {
  "kernelspec": {
   "display_name": "Python 3",
   "language": "python",
   "name": "python3"
  },
  "language_info": {
   "codemirror_mode": {
    "name": "ipython",
    "version": 3
   },
   "file_extension": ".py",
   "mimetype": "text/x-python",
   "name": "python",
   "nbconvert_exporter": "python",
   "pygments_lexer": "ipython3",
   "version": "3.4.2"
  }
 },
 "nbformat": 4,
 "nbformat_minor": 0
}
